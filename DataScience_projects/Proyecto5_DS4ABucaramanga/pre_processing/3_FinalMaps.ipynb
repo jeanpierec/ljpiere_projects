{
 "cells": [
  {
   "cell_type": "markdown",
   "id": "85182ab4",
   "metadata": {},
   "source": [
    "# Intecrative Maps"
   ]
  },
  {
   "cell_type": "markdown",
   "id": "58d9a052",
   "metadata": {},
   "source": [
    "### Libraries"
   ]
  },
  {
   "cell_type": "code",
   "execution_count": 1,
   "id": "d13ab354",
   "metadata": {},
   "outputs": [],
   "source": [
    "from sklearn.preprocessing import StandardScaler\n",
    "from sklearn.preprocessing import LabelEncoder\n",
    "from matplotlib.ticker import ScalarFormatter\n",
    "\n",
    "import pandas              as pd # The gold standard of Python data analysis, to create and manipulate tables of data\n",
    "import numpy               as np # The Python module for processing arrays which/Pandas is based on\n",
    "import matplotlib.pyplot   as plt # The gold standard of Python data visualization, but can be complex to use\n",
    "import seaborn             as sns; sns.set() # A package to make Matplotlib visualizations more aesthetic\n",
    "import branca\n",
    "import geopandas\n",
    "import datetime\n",
    "\n",
    "import folium # package for making maps, please make sure to use a version older than 1.0.0.\n",
    "# from wordcloud import WordCloud # A package that will allow us to make a wordcloud\n",
    "from scipy.stats import ttest_ind # A module for Python machine learning--we'll stick to T-Tests here\n",
    "from IPython.display import display\n",
    "from folium.plugins import TimeSliderChoropleth\n",
    "# from time_slider_choropleth import TimeSliderChoropleth\n",
    "%matplotlib inline\n",
    "plt.rcParams[\"figure.figsize\"] = (8,5)\n",
    "\n",
    "%matplotlib inline \n",
    "sns.set(color_codes=True)"
   ]
  },
  {
   "cell_type": "markdown",
   "id": "2004438d",
   "metadata": {},
   "source": [
    "# SISBEN average by 2021 and 2022"
   ]
  },
  {
   "cell_type": "markdown",
   "id": "5642aa6f",
   "metadata": {},
   "source": [
    "## 2021 DATASET"
   ]
  },
  {
   "cell_type": "code",
   "execution_count": 5,
   "id": "5cb6abdf",
   "metadata": {},
   "outputs": [],
   "source": [
    "df21 = pd.read_csv('C2021.csv')\n",
    "x = datetime.datetime(2021, 1, 1)\n",
    "# df21['year'] = x.year\n",
    "del df21['Unnamed: 0']"
   ]
  },
  {
   "cell_type": "code",
   "execution_count": 6,
   "id": "9d54e122",
   "metadata": {
    "scrolled": true
   },
   "outputs": [
    {
     "data": {
      "text/html": [
       "<div>\n",
       "<style scoped>\n",
       "    .dataframe tbody tr th:only-of-type {\n",
       "        vertical-align: middle;\n",
       "    }\n",
       "\n",
       "    .dataframe tbody tr th {\n",
       "        vertical-align: top;\n",
       "    }\n",
       "\n",
       "    .dataframe thead th {\n",
       "        text-align: right;\n",
       "    }\n",
       "</style>\n",
       "<table border=\"1\" class=\"dataframe\">\n",
       "  <thead>\n",
       "    <tr style=\"text-align: right;\">\n",
       "      <th></th>\n",
       "      <th>NOMBRE</th>\n",
       "      <th>clas_count</th>\n",
       "    </tr>\n",
       "  </thead>\n",
       "  <tbody>\n",
       "    <tr>\n",
       "      <th>0</th>\n",
       "      <td>VILLAREAL</td>\n",
       "      <td>28.603235</td>\n",
       "    </tr>\n",
       "    <tr>\n",
       "      <th>1</th>\n",
       "      <td>12 DE FEBRERO</td>\n",
       "      <td>13.164630</td>\n",
       "    </tr>\n",
       "    <tr>\n",
       "      <th>2</th>\n",
       "      <td>12 DE OCTUBRE</td>\n",
       "      <td>38.528286</td>\n",
       "    </tr>\n",
       "    <tr>\n",
       "      <th>3</th>\n",
       "      <td>13 DE JUNIO</td>\n",
       "      <td>50.941577</td>\n",
       "    </tr>\n",
       "    <tr>\n",
       "      <th>4</th>\n",
       "      <td>20 DE JULIO</td>\n",
       "      <td>42.955534</td>\n",
       "    </tr>\n",
       "  </tbody>\n",
       "</table>\n",
       "</div>"
      ],
      "text/plain": [
       "          NOMBRE  clas_count\n",
       "0      VILLAREAL   28.603235\n",
       "1  12 DE FEBRERO   13.164630\n",
       "2  12 DE OCTUBRE   38.528286\n",
       "3    13 DE JUNIO   50.941577\n",
       "4    20 DE JULIO   42.955534"
      ]
     },
     "execution_count": 6,
     "metadata": {},
     "output_type": "execute_result"
    }
   ],
   "source": [
    "df21.head()"
   ]
  },
  {
   "cell_type": "markdown",
   "id": "5f39f024",
   "metadata": {},
   "source": [
    "## 2021 DATASET CLUSTER"
   ]
  },
  {
   "cell_type": "code",
   "execution_count": 3,
   "id": "6a5317df",
   "metadata": {},
   "outputs": [],
   "source": [
    "df21c = pd.read_csv('cluster_2021.csv', encoding='iso-8859-1', sep='~')"
   ]
  },
  {
   "cell_type": "code",
   "execution_count": 22,
   "id": "9c143c30",
   "metadata": {
    "scrolled": true
   },
   "outputs": [
    {
     "name": "stderr",
     "output_type": "stream",
     "text": [
      "C:\\ProgramData\\Anaconda3\\lib\\site-packages\\pandas\\core\\frame.py:5039: SettingWithCopyWarning: \n",
      "A value is trying to be set on a copy of a slice from a DataFrame\n",
      "\n",
      "See the caveats in the documentation: https://pandas.pydata.org/pandas-docs/stable/user_guide/indexing.html#returning-a-view-versus-a-copy\n",
      "  return super().rename(\n"
     ]
    },
    {
     "data": {
      "text/html": [
       "<div>\n",
       "<style scoped>\n",
       "    .dataframe tbody tr th:only-of-type {\n",
       "        vertical-align: middle;\n",
       "    }\n",
       "\n",
       "    .dataframe tbody tr th {\n",
       "        vertical-align: top;\n",
       "    }\n",
       "\n",
       "    .dataframe thead th {\n",
       "        text-align: right;\n",
       "    }\n",
       "</style>\n",
       "<table border=\"1\" class=\"dataframe\">\n",
       "  <thead>\n",
       "    <tr style=\"text-align: right;\">\n",
       "      <th></th>\n",
       "      <th>NOMBRE</th>\n",
       "      <th>clas_count</th>\n",
       "    </tr>\n",
       "  </thead>\n",
       "  <tbody>\n",
       "    <tr>\n",
       "      <th>0</th>\n",
       "      <td>VILLA LINA</td>\n",
       "      <td>0</td>\n",
       "    </tr>\n",
       "    <tr>\n",
       "      <th>1</th>\n",
       "      <td>COLORADOS</td>\n",
       "      <td>2</td>\n",
       "    </tr>\n",
       "    <tr>\n",
       "      <th>2</th>\n",
       "      <td>ROSALTA</td>\n",
       "      <td>4</td>\n",
       "    </tr>\n",
       "    <tr>\n",
       "      <th>3</th>\n",
       "      <td>CAFE MADRID</td>\n",
       "      <td>4</td>\n",
       "    </tr>\n",
       "    <tr>\n",
       "      <th>4</th>\n",
       "      <td>EL ROSAL</td>\n",
       "      <td>0</td>\n",
       "    </tr>\n",
       "  </tbody>\n",
       "</table>\n",
       "</div>"
      ],
      "text/plain": [
       "        NOMBRE  clas_count\n",
       "0   VILLA LINA           0\n",
       "1    COLORADOS           2\n",
       "2      ROSALTA           4\n",
       "3  CAFE MADRID           4\n",
       "4     EL ROSAL           0"
      ]
     },
     "execution_count": 22,
     "metadata": {},
     "output_type": "execute_result"
    }
   ],
   "source": [
    "df21cn = df21c[['nom_barrio','Cluster']]\n",
    "df21cn.rename(columns = {'nom_barrio':'NOMBRE', 'Cluster':'clas_count'}, inplace = True)\n",
    "df21cn.head()"
   ]
  },
  {
   "cell_type": "markdown",
   "id": "bc6f5411",
   "metadata": {},
   "source": [
    "## 2022 DATASET"
   ]
  },
  {
   "cell_type": "code",
   "execution_count": 7,
   "id": "c57c6bf0",
   "metadata": {
    "scrolled": true
   },
   "outputs": [],
   "source": [
    "df22 = pd.read_csv('C2022.csv')\n",
    "# df22['year'] = datetime.datetime.today().year\n",
    "del df22['Unnamed: 0']"
   ]
  },
  {
   "cell_type": "markdown",
   "id": "a7c37db6",
   "metadata": {},
   "source": [
    "## 2022 DATASET CLUSTER"
   ]
  },
  {
   "cell_type": "code",
   "execution_count": 8,
   "id": "7262a40d",
   "metadata": {},
   "outputs": [],
   "source": [
    "df22c = pd.read_csv('cluster_2022.csv', encoding='iso-8859-1', sep='~')"
   ]
  },
  {
   "cell_type": "code",
   "execution_count": 23,
   "id": "c3b5abfb",
   "metadata": {
    "scrolled": true
   },
   "outputs": [
    {
     "name": "stderr",
     "output_type": "stream",
     "text": [
      "C:\\ProgramData\\Anaconda3\\lib\\site-packages\\pandas\\core\\frame.py:5039: SettingWithCopyWarning: \n",
      "A value is trying to be set on a copy of a slice from a DataFrame\n",
      "\n",
      "See the caveats in the documentation: https://pandas.pydata.org/pandas-docs/stable/user_guide/indexing.html#returning-a-view-versus-a-copy\n",
      "  return super().rename(\n"
     ]
    },
    {
     "data": {
      "text/html": [
       "<div>\n",
       "<style scoped>\n",
       "    .dataframe tbody tr th:only-of-type {\n",
       "        vertical-align: middle;\n",
       "    }\n",
       "\n",
       "    .dataframe tbody tr th {\n",
       "        vertical-align: top;\n",
       "    }\n",
       "\n",
       "    .dataframe thead th {\n",
       "        text-align: right;\n",
       "    }\n",
       "</style>\n",
       "<table border=\"1\" class=\"dataframe\">\n",
       "  <thead>\n",
       "    <tr style=\"text-align: right;\">\n",
       "      <th></th>\n",
       "      <th>NOMBRE</th>\n",
       "      <th>clas_count</th>\n",
       "    </tr>\n",
       "  </thead>\n",
       "  <tbody>\n",
       "    <tr>\n",
       "      <th>0</th>\n",
       "      <td>EL PABLÓN</td>\n",
       "      <td>0</td>\n",
       "    </tr>\n",
       "    <tr>\n",
       "      <th>1</th>\n",
       "      <td>VILLA LINA</td>\n",
       "      <td>0</td>\n",
       "    </tr>\n",
       "    <tr>\n",
       "      <th>2</th>\n",
       "      <td>COLORADOS</td>\n",
       "      <td>5</td>\n",
       "    </tr>\n",
       "    <tr>\n",
       "      <th>3</th>\n",
       "      <td>EL PABLÓN</td>\n",
       "      <td>2</td>\n",
       "    </tr>\n",
       "    <tr>\n",
       "      <th>4</th>\n",
       "      <td>ROSALTA</td>\n",
       "      <td>4</td>\n",
       "    </tr>\n",
       "  </tbody>\n",
       "</table>\n",
       "</div>"
      ],
      "text/plain": [
       "       NOMBRE  clas_count\n",
       "0   EL PABLÓN           0\n",
       "1  VILLA LINA           0\n",
       "2   COLORADOS           5\n",
       "3   EL PABLÓN           2\n",
       "4     ROSALTA           4"
      ]
     },
     "execution_count": 23,
     "metadata": {},
     "output_type": "execute_result"
    }
   ],
   "source": [
    "df22cn = df22c[['NOM_BARRIO','Cluster']]\n",
    "df22cn.rename(columns = {'NOM_BARRIO':'NOMBRE', 'Cluster':'clas_count'}, inplace = True)\n",
    "df22cn.head()"
   ]
  },
  {
   "cell_type": "markdown",
   "id": "a654fdaf",
   "metadata": {},
   "source": [
    "# VIOLENCE DATASET"
   ]
  },
  {
   "cell_type": "code",
   "execution_count": 17,
   "id": "840b7e8f",
   "metadata": {
    "scrolled": true
   },
   "outputs": [
    {
     "data": {
      "text/html": [
       "<div>\n",
       "<style scoped>\n",
       "    .dataframe tbody tr th:only-of-type {\n",
       "        vertical-align: middle;\n",
       "    }\n",
       "\n",
       "    .dataframe tbody tr th {\n",
       "        vertical-align: top;\n",
       "    }\n",
       "\n",
       "    .dataframe thead th {\n",
       "        text-align: right;\n",
       "    }\n",
       "</style>\n",
       "<table border=\"1\" class=\"dataframe\">\n",
       "  <thead>\n",
       "    <tr style=\"text-align: right;\">\n",
       "      <th></th>\n",
       "      <th>NOMBRE</th>\n",
       "      <th>clas_count</th>\n",
       "    </tr>\n",
       "  </thead>\n",
       "  <tbody>\n",
       "    <tr>\n",
       "      <th>0</th>\n",
       "      <td>BOSQUE NORTE</td>\n",
       "      <td>2</td>\n",
       "    </tr>\n",
       "    <tr>\n",
       "      <th>1</th>\n",
       "      <td>BRISAS DEL MUTIS</td>\n",
       "      <td>1</td>\n",
       "    </tr>\n",
       "    <tr>\n",
       "      <th>2</th>\n",
       "      <td>CABECERA DEL LLANO</td>\n",
       "      <td>1</td>\n",
       "    </tr>\n",
       "    <tr>\n",
       "      <th>3</th>\n",
       "      <td>CAFÉ MADRID</td>\n",
       "      <td>1</td>\n",
       "    </tr>\n",
       "    <tr>\n",
       "      <th>4</th>\n",
       "      <td>CAMPO HERMOSO</td>\n",
       "      <td>3</td>\n",
       "    </tr>\n",
       "  </tbody>\n",
       "</table>\n",
       "</div>"
      ],
      "text/plain": [
       "               NOMBRE  clas_count\n",
       "0        BOSQUE NORTE           2\n",
       "1    BRISAS DEL MUTIS           1\n",
       "2  CABECERA DEL LLANO           1\n",
       "3         CAFÉ MADRID           1\n",
       "4       CAMPO HERMOSO           3"
      ]
     },
     "execution_count": 17,
     "metadata": {},
     "output_type": "execute_result"
    }
   ],
   "source": [
    "violencia_g = pd.read_csv('Violencia_G_2015_2022.csv')\n",
    "violencia_g['BARRIO'] = violencia_g['Barrio'].str.upper()\n",
    "vio_cn = violencia_g.groupby([ \"BARRIO\"])[\"BARRIO\"].count().reset_index(name=\"clas_count\")\n",
    "vio_cn.rename(columns = {'BARRIO':'NOMBRE'}, inplace = True)\n",
    "vio_cn.head()"
   ]
  },
  {
   "cell_type": "markdown",
   "id": "4facf23b",
   "metadata": {},
   "source": [
    "# CRIME DATASET"
   ]
  },
  {
   "cell_type": "code",
   "execution_count": 9,
   "id": "861af22a",
   "metadata": {},
   "outputs": [
    {
     "name": "stderr",
     "output_type": "stream",
     "text": [
      "C:\\ProgramData\\Anaconda3\\lib\\site-packages\\IPython\\core\\interactiveshell.py:3444: DtypeWarning: Columns (3,4) have mixed types.Specify dtype option on import or set low_memory=False.\n",
      "  exec(code_obj, self.user_global_ns, self.user_ns)\n"
     ]
    },
    {
     "data": {
      "text/html": [
       "<div>\n",
       "<style scoped>\n",
       "    .dataframe tbody tr th:only-of-type {\n",
       "        vertical-align: middle;\n",
       "    }\n",
       "\n",
       "    .dataframe tbody tr th {\n",
       "        vertical-align: top;\n",
       "    }\n",
       "\n",
       "    .dataframe thead th {\n",
       "        text-align: right;\n",
       "    }\n",
       "</style>\n",
       "<table border=\"1\" class=\"dataframe\">\n",
       "  <thead>\n",
       "    <tr style=\"text-align: right;\">\n",
       "      <th></th>\n",
       "      <th>NOMBRE</th>\n",
       "      <th>clas_count</th>\n",
       "    </tr>\n",
       "  </thead>\n",
       "  <tbody>\n",
       "    <tr>\n",
       "      <th>0</th>\n",
       "      <td>12 DE OCTUBRE</td>\n",
       "      <td>270</td>\n",
       "    </tr>\n",
       "    <tr>\n",
       "      <th>1</th>\n",
       "      <td>13 DE JUNIO</td>\n",
       "      <td>34</td>\n",
       "    </tr>\n",
       "    <tr>\n",
       "      <th>2</th>\n",
       "      <td>20 DE JULIO</td>\n",
       "      <td>31</td>\n",
       "    </tr>\n",
       "    <tr>\n",
       "      <th>3</th>\n",
       "      <td>23 DE JUNIO</td>\n",
       "      <td>88</td>\n",
       "    </tr>\n",
       "    <tr>\n",
       "      <th>4</th>\n",
       "      <td>5 DE ENERO</td>\n",
       "      <td>15</td>\n",
       "    </tr>\n",
       "  </tbody>\n",
       "</table>\n",
       "</div>"
      ],
      "text/plain": [
       "          NOMBRE  clas_count\n",
       "0  12 DE OCTUBRE         270\n",
       "1    13 DE JUNIO          34\n",
       "2    20 DE JULIO          31\n",
       "3    23 DE JUNIO          88\n",
       "4     5 DE ENERO          15"
      ]
     },
     "execution_count": 9,
     "metadata": {},
     "output_type": "execute_result"
    }
   ],
   "source": [
    "delitos = pd.read_csv('Delitos_2010_2021.csv')\n",
    "delitos_cn = delitos.groupby([\"BARRIOS_HECHO\"])[\"BARRIOS_HECHO\"].count().reset_index(name=\"clas_count\")\n",
    "delitos_cn. rename(columns = {'BARRIOS_HECHO':'NOMBRE'}, inplace = True)\n",
    "delitos_cn.head()"
   ]
  },
  {
   "cell_type": "markdown",
   "id": "85d2dc36",
   "metadata": {},
   "source": [
    "#### We append the both datasets"
   ]
  },
  {
   "cell_type": "code",
   "execution_count": 10,
   "id": "872f9d8c",
   "metadata": {},
   "outputs": [
    {
     "data": {
      "text/html": [
       "<div>\n",
       "<style scoped>\n",
       "    .dataframe tbody tr th:only-of-type {\n",
       "        vertical-align: middle;\n",
       "    }\n",
       "\n",
       "    .dataframe tbody tr th {\n",
       "        vertical-align: top;\n",
       "    }\n",
       "\n",
       "    .dataframe thead th {\n",
       "        text-align: right;\n",
       "    }\n",
       "</style>\n",
       "<table border=\"1\" class=\"dataframe\">\n",
       "  <thead>\n",
       "    <tr style=\"text-align: right;\">\n",
       "      <th></th>\n",
       "      <th>NOMBRE</th>\n",
       "      <th>clas_count</th>\n",
       "    </tr>\n",
       "  </thead>\n",
       "  <tbody>\n",
       "    <tr>\n",
       "      <th>0</th>\n",
       "      <td>VILLAREAL</td>\n",
       "      <td>28.603235</td>\n",
       "    </tr>\n",
       "    <tr>\n",
       "      <th>1</th>\n",
       "      <td>12 DE FEBRERO</td>\n",
       "      <td>13.164630</td>\n",
       "    </tr>\n",
       "    <tr>\n",
       "      <th>2</th>\n",
       "      <td>12 DE OCTUBRE</td>\n",
       "      <td>38.528286</td>\n",
       "    </tr>\n",
       "    <tr>\n",
       "      <th>3</th>\n",
       "      <td>13 DE JUNIO</td>\n",
       "      <td>50.941577</td>\n",
       "    </tr>\n",
       "    <tr>\n",
       "      <th>4</th>\n",
       "      <td>20 DE JULIO</td>\n",
       "      <td>42.955534</td>\n",
       "    </tr>\n",
       "  </tbody>\n",
       "</table>\n",
       "</div>"
      ],
      "text/plain": [
       "          NOMBRE  clas_count\n",
       "0      VILLAREAL   28.603235\n",
       "1  12 DE FEBRERO   13.164630\n",
       "2  12 DE OCTUBRE   38.528286\n",
       "3    13 DE JUNIO   50.941577\n",
       "4    20 DE JULIO   42.955534"
      ]
     },
     "execution_count": 10,
     "metadata": {},
     "output_type": "execute_result"
    }
   ],
   "source": [
    "beat_cn = df21.append(df22, ignore_index=True)\n",
    "beat_cn.head()"
   ]
  },
  {
   "cell_type": "markdown",
   "id": "0d8995c4",
   "metadata": {},
   "source": [
    "### Load GEOJSON"
   ]
  },
  {
   "cell_type": "code",
   "execution_count": 5,
   "id": "5777fa73",
   "metadata": {},
   "outputs": [
    {
     "name": "stderr",
     "output_type": "stream",
     "text": [
      "C:\\ProgramData\\Anaconda3\\lib\\site-packages\\geopandas\\array.py:85: ShapelyDeprecationWarning: __len__ for multi-part geometries is deprecated and will be removed in Shapely 2.0. Check the length of the `geoms` property instead to get the  number of parts of a multi-part geometry.\n",
      "  aout[:] = out\n"
     ]
    }
   ],
   "source": [
    "# load the shape file\n",
    "beat_orig = geopandas.read_file(\"Barrios_Bucaramanga.geojson\", driver = \"GeoJSON\")"
   ]
  },
  {
   "cell_type": "markdown",
   "id": "748c3109",
   "metadata": {},
   "source": [
    "## Map definition"
   ]
  },
  {
   "cell_type": "code",
   "execution_count": 18,
   "id": "275fe16f",
   "metadata": {},
   "outputs": [],
   "source": [
    "def folium_map(beat_orig, beat_cn, name_ng, clas_count, title):\n",
    "    beat_data = beat_orig.join(beat_cn.set_index(name_ng), how = \"inner\", on = name_ng)\n",
    "    beat_data.fillna(np.nan, inplace = True)\n",
    "\n",
    "    # color scheme\n",
    "    min_cn, max_cn = beat_cn[clas_count].quantile([0.01,0.99]).apply(round, 2)\n",
    "\n",
    "    colormap = branca.colormap.LinearColormap(\n",
    "        colors=['white','yellow','orange','red','darkred'],\n",
    "        #index=beat_cn['count'].quantile([0.2,0.4,0.6,0.8]),b\n",
    "        vmin=min_cn,\n",
    "        vmax=max_cn\n",
    "    )\n",
    "\n",
    "    colormap.caption=title\n",
    "\n",
    "    # interactive visualization for beat-specific crime rate in 2017\n",
    "\n",
    "    m_crime = folium.Map(location=[7.106287, -73.139366],\n",
    "                            zoom_start=14,\n",
    "                            tiles=\"OpenStreetMap\")\n",
    "    style_function = lambda x: {\n",
    "        'fillColor': colormap(x['properties'][clas_count]),\n",
    "        'color': 'black',\n",
    "        'weight':2,\n",
    "        'fillOpacity':0.5\n",
    "    }\n",
    "\n",
    "    stategeo = folium.GeoJson(\n",
    "        beat_data.to_json(),\n",
    "        name='Chicago beats',\n",
    "        style_function=style_function,\n",
    "        tooltip=folium.GeoJsonTooltip(\n",
    "            fields=[name_ng, clas_count],\n",
    "            aliases=['Neighborhood', 'Total class count'], \n",
    "            localize=True\n",
    "        )\n",
    "    ).add_to(m_crime)\n",
    "\n",
    "    colormap.add_to(m_crime)\n",
    "    return m_crime"
   ]
  },
  {
   "cell_type": "markdown",
   "id": "7eb1a655",
   "metadata": {},
   "source": [
    "### Maps"
   ]
  },
  {
   "cell_type": "code",
   "execution_count": 13,
   "id": "8b9c42ae",
   "metadata": {
    "scrolled": false
   },
   "outputs": [],
   "source": [
    "# MAP FOR CRIME\n",
    "clas_count = 'clas_count'\n",
    "name_ng = 'NOMBRE'\n",
    "title = \"Crime count by Neighborhood\"\n",
    "crimemap = folium_map(beat_orig, delitos_cn, name_ng, clas_count, title)"
   ]
  },
  {
   "cell_type": "code",
   "execution_count": 14,
   "id": "90c093f6",
   "metadata": {},
   "outputs": [],
   "source": [
    "# MAP FOR SISBEN 2021\n",
    "clas_count = 'clas_count'\n",
    "name_ng = 'NOMBRE'\n",
    "title = \"2021 SISBEN Score by Neighborhood\"\n",
    "s21map = folium_map(beat_orig, df21, name_ng, clas_count, title)"
   ]
  },
  {
   "cell_type": "code",
   "execution_count": 15,
   "id": "b468755c",
   "metadata": {},
   "outputs": [],
   "source": [
    "# MAP FOR SISBEN 2022\n",
    "clas_count = 'clas_count'\n",
    "name_ng = 'NOMBRE'\n",
    "title = \"2022 SISBEN Score by Neighborhood\"\n",
    "folium_map(beat_orig, df22, name_ng, clas_count, title)\n",
    "s22map = folium_map(beat_orig, df22, name_ng, clas_count, title)"
   ]
  },
  {
   "cell_type": "code",
   "execution_count": 18,
   "id": "f3c3f869",
   "metadata": {},
   "outputs": [],
   "source": [
    "# MAP FOR CRIME\n",
    "clas_count = 'clas_count'\n",
    "name_ng = 'NOMBRE'\n",
    "title = \"Genre Violece count by Neighborhood\"\n",
    "viomap = folium_map(beat_orig, vio_cn, name_ng, clas_count, title)"
   ]
  },
  {
   "cell_type": "code",
   "execution_count": 25,
   "id": "290c8512",
   "metadata": {},
   "outputs": [],
   "source": [
    "# MAP FOR 2021 CLUSTER\n",
    "clas_count = 'clas_count'\n",
    "name_ng = 'NOMBRE'\n",
    "title = \"Neighborhood Cluster by Vulnerability\"\n",
    "cluster2021 = folium_map(beat_orig, df21cn, name_ng, clas_count, title)"
   ]
  },
  {
   "cell_type": "code",
   "execution_count": 28,
   "id": "5c5a38dc",
   "metadata": {},
   "outputs": [],
   "source": [
    "# MAP FOR 2021 CLUSTER\n",
    "clas_count = 'clas_count'\n",
    "name_ng = 'NOMBRE'\n",
    "title = \"Neighborhood Cluster by Vulnerability\"\n",
    "cluster2022 = folium_map(beat_orig, df22cn, name_ng, clas_count, title)"
   ]
  },
  {
   "cell_type": "markdown",
   "id": "d7c56612",
   "metadata": {},
   "source": [
    "#### Export maps as HTML"
   ]
  },
  {
   "cell_type": "code",
   "execution_count": 19,
   "id": "fbd25eb3",
   "metadata": {},
   "outputs": [],
   "source": [
    "crimemap.save(\"crimemap.html\")"
   ]
  },
  {
   "cell_type": "code",
   "execution_count": 20,
   "id": "a866851c",
   "metadata": {},
   "outputs": [],
   "source": [
    "s21map.save(\"s21map.html\")"
   ]
  },
  {
   "cell_type": "code",
   "execution_count": 21,
   "id": "efb3aace",
   "metadata": {},
   "outputs": [],
   "source": [
    "s22map.save(\"s22map.html\")"
   ]
  },
  {
   "cell_type": "code",
   "execution_count": 22,
   "id": "fc1b0cdd",
   "metadata": {},
   "outputs": [],
   "source": [
    "viomap.save(\"viomap.html\")"
   ]
  },
  {
   "cell_type": "code",
   "execution_count": 27,
   "id": "0043e525",
   "metadata": {},
   "outputs": [],
   "source": [
    "cluster2021.save(\"cluster2021.html\")"
   ]
  },
  {
   "cell_type": "code",
   "execution_count": 30,
   "id": "f0388457",
   "metadata": {},
   "outputs": [],
   "source": [
    "cluster2022.save(\"cluster2022.html\")"
   ]
  },
  {
   "cell_type": "code",
   "execution_count": null,
   "id": "db5691c5",
   "metadata": {},
   "outputs": [],
   "source": []
  }
 ],
 "metadata": {
  "kernelspec": {
   "display_name": "Python 3 (ipykernel)",
   "language": "python",
   "name": "python3"
  },
  "language_info": {
   "codemirror_mode": {
    "name": "ipython",
    "version": 3
   },
   "file_extension": ".py",
   "mimetype": "text/x-python",
   "name": "python",
   "nbconvert_exporter": "python",
   "pygments_lexer": "ipython3",
   "version": "3.9.7"
  }
 },
 "nbformat": 4,
 "nbformat_minor": 5
}
