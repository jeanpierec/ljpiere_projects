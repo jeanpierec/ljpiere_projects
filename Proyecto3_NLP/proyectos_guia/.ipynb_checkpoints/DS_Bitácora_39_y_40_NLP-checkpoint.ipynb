{
 "cells": [
  {
   "cell_type": "markdown",
   "metadata": {
    "id": "8oVEJZ0c6U_2"
   },
   "source": [
    "# NLP\n",
    "\n",
    "A lo largo del notebook vamos a trabajar con el siguiente dataset:\n",
    "\n",
    "https://www.kaggle.com/rmisra/news-headlines-dataset-for-sarcasm-detection/\n",
    "\n",
    "En esa competencia de Kaggle también puedes encontrar Notebooks (*kernels*) sumamente interesantes.\n",
    "\n",
    "El objetivo es que se familiaricen con algunas herramientas típicas del Procesamiento del Lenguaje Natural (NLP por sus siglas en inglés).La biblioteca fundamental que vamos a usar es NLTK. Probablemente tengas que instalarla. Para ello, googlea cómo instalar esta librería con Conda (no olvides activar el ambiente).\n",
    "\n",
    "Ten en cuenta que la mayoría de las herramientas de NLP pueden ser consideradas como parte del preprocesamiento, llevar el texto a una forma que la computadora pueda entender. En general, esto corresponde a una forma tipo \"tabla\" al estilo de los DataFrames de Pandas. Es fácil olvidarse de ese objetivo y perderse en todos los pasos. Al principio es común marearse, pero no te preocupes que verás que no es difícil.\n",
    "\n",
    "\n",
    "## 1. Carga de datos\n",
    "\n",
    "Lo primero que tienes que hacer es fijarse en qué formato están los datos. ¿De qué se trata es formato?¿Cómo se abre? Si googleas, vas a ver que hay muchas formas de abrir archivos JSON con Python. Como venimos trabajando con Pandas, googlea \"Open JSON with Pandas\". Prueben esa función. Si les tira un error en el primer intento, googleen el error. Les aseguramos que la respuesta está muy a mano y es muy accesible, no tienen que hacer nada raro."
   ]
  },
  {
   "cell_type": "code",
   "execution_count": null,
   "metadata": {
    "id": "8NkMlzDo6U_9",
    "outputId": "81d9fd11-d89d-41cf-d791-5d683bf169a1"
   },
   "outputs": [
    {
     "name": "stderr",
     "output_type": "stream",
     "text": [
      "[nltk_data] Downloading package punkt to /home/esteban/nltk_data...\n",
      "[nltk_data]   Package punkt is already up-to-date!\n",
      "[nltk_data] Downloading package stopwords to\n",
      "[nltk_data]     /home/esteban/nltk_data...\n",
      "[nltk_data]   Package stopwords is already up-to-date!\n"
     ]
    },
    {
     "data": {
      "text/plain": [
       "True"
      ]
     },
     "execution_count": 1,
     "metadata": {
      "tags": []
     },
     "output_type": "execute_result"
    }
   ],
   "source": [
    "import itertools\n",
    "\n",
    "import numpy as np\n",
    "import pandas as pd\n",
    "\n",
    "import matplotlib.pyplot as plt\n",
    "import seaborn as sns\n",
    "sns.set()\n",
    "\n",
    "import nltk\n",
    "\n",
    "# Esto sirve para configurar NLTK. La primera vez puede tardar un poco\n",
    "nltk.download('punkt')\n",
    "nltk.download('stopwords')"
   ]
  },
  {
   "cell_type": "code",
   "execution_count": null,
   "metadata": {
    "id": "0T8NGsV26VAD",
    "outputId": "8a8711dc-bd8a-4a65-f9ad-2a8efddbd136"
   },
   "outputs": [
    {
     "data": {
      "text/html": [
       "<div>\n",
       "<style scoped>\n",
       "    .dataframe tbody tr th:only-of-type {\n",
       "        vertical-align: middle;\n",
       "    }\n",
       "\n",
       "    .dataframe tbody tr th {\n",
       "        vertical-align: top;\n",
       "    }\n",
       "\n",
       "    .dataframe thead th {\n",
       "        text-align: right;\n",
       "    }\n",
       "</style>\n",
       "<table border=\"1\" class=\"dataframe\">\n",
       "  <thead>\n",
       "    <tr style=\"text-align: right;\">\n",
       "      <th></th>\n",
       "      <th>article_link</th>\n",
       "      <th>headline</th>\n",
       "      <th>is_sarcastic</th>\n",
       "    </tr>\n",
       "  </thead>\n",
       "  <tbody>\n",
       "    <tr>\n",
       "      <th>0</th>\n",
       "      <td>https://www.huffingtonpost.com/entry/versace-b...</td>\n",
       "      <td>former versace store clerk sues over secret 'b...</td>\n",
       "      <td>0</td>\n",
       "    </tr>\n",
       "    <tr>\n",
       "      <th>1</th>\n",
       "      <td>https://www.huffingtonpost.com/entry/roseanne-...</td>\n",
       "      <td>the 'roseanne' revival catches up to our thorn...</td>\n",
       "      <td>0</td>\n",
       "    </tr>\n",
       "    <tr>\n",
       "      <th>2</th>\n",
       "      <td>https://local.theonion.com/mom-starting-to-fea...</td>\n",
       "      <td>mom starting to fear son's web series closest ...</td>\n",
       "      <td>1</td>\n",
       "    </tr>\n",
       "    <tr>\n",
       "      <th>3</th>\n",
       "      <td>https://politics.theonion.com/boehner-just-wan...</td>\n",
       "      <td>boehner just wants wife to listen, not come up...</td>\n",
       "      <td>1</td>\n",
       "    </tr>\n",
       "    <tr>\n",
       "      <th>4</th>\n",
       "      <td>https://www.huffingtonpost.com/entry/jk-rowlin...</td>\n",
       "      <td>j.k. rowling wishes snape happy birthday in th...</td>\n",
       "      <td>0</td>\n",
       "    </tr>\n",
       "  </tbody>\n",
       "</table>\n",
       "</div>"
      ],
      "text/plain": [
       "                                        article_link  \\\n",
       "0  https://www.huffingtonpost.com/entry/versace-b...   \n",
       "1  https://www.huffingtonpost.com/entry/roseanne-...   \n",
       "2  https://local.theonion.com/mom-starting-to-fea...   \n",
       "3  https://politics.theonion.com/boehner-just-wan...   \n",
       "4  https://www.huffingtonpost.com/entry/jk-rowlin...   \n",
       "\n",
       "                                            headline  is_sarcastic  \n",
       "0  former versace store clerk sues over secret 'b...             0  \n",
       "1  the 'roseanne' revival catches up to our thorn...             0  \n",
       "2  mom starting to fear son's web series closest ...             1  \n",
       "3  boehner just wants wife to listen, not come up...             1  \n",
       "4  j.k. rowling wishes snape happy birthday in th...             0  "
      ]
     },
     "execution_count": 2,
     "metadata": {
      "tags": []
     },
     "output_type": "execute_result"
    }
   ],
   "source": [
    "dataset = pd.read_json('DS_Bitácora_39_40_Sarcasm_Headlines_Dataset.json', lines= True)\n",
    "dataset.head()"
   ]
  },
  {
   "cell_type": "markdown",
   "metadata": {
    "id": "Jf_db2SJ6VAE"
   },
   "source": [
    "¿Qué forma tiene el dataset?¿Cuántas instancias?¿Cuáles son sus columnas?¿Cuántos titulares hay de cada tipo?¿Podemos hablar ya de *features*?"
   ]
  },
  {
   "cell_type": "code",
   "execution_count": null,
   "metadata": {
    "id": "_rNG8pQB6VAF",
    "outputId": "79144c6f-6348-4148-8d66-5ae7d05f2d1e"
   },
   "outputs": [
    {
     "data": {
      "text/plain": [
       "(26709, 3)"
      ]
     },
     "execution_count": 3,
     "metadata": {
      "tags": []
     },
     "output_type": "execute_result"
    }
   ],
   "source": [
    "dataset.shape"
   ]
  },
  {
   "cell_type": "code",
   "execution_count": null,
   "metadata": {
    "id": "PA8-nLLT6VAG",
    "outputId": "fcd642b8-0c85-4b3c-88af-1a2caef927ec"
   },
   "outputs": [
    {
     "data": {
      "image/png": "[encoded data removed]",
      "text/plain": [
       "<Figure size 432x288 with 1 Axes>"
      ]
     },
     "metadata": {
      "tags": []
     },
     "output_type": "display_data"
    }
   ],
   "source": [
    "sns.countplot(dataset.is_sarcastic)\n",
    "plt.show()"
   ]
  },
  {
   "cell_type": "markdown",
   "metadata": {
    "id": "dSSZY21i6VAH"
   },
   "source": [
    "## 2. Breve exploración del dataset\n",
    "\n",
    "Elige una instancia del dataset al azar y selecciona el *headline*."
   ]
  },
  {
   "cell_type": "code",
   "execution_count": null,
   "metadata": {
    "id": "62BezVld6VAH",
    "outputId": "6f7bc1c7-9dd8-4a12-cfd2-fa5edef63e05"
   },
   "outputs": [
    {
     "name": "stdout",
     "output_type": "stream",
     "text": [
      "5556 'if the earth was flat, why haven't the cats pushed everything off by now?'\n"
     ]
    }
   ],
   "source": [
    "index_random = np.random.randint(0,high = dataset.shape[0])\n",
    "titular = dataset.iloc[index_random].headline\n",
    "print(index_random, titular)"
   ]
  },
  {
   "cell_type": "markdown",
   "metadata": {
    "id": "CcVG5SwM6VAI"
   },
   "source": [
    "¿Te parece que es sarcástico?¿Qué características del texto te hace creer - o no - eso? Comprueba si es sarcástico o no imprimiendo en la celda de abajo el valor correspondiente del dataset. (Como la mayoría de los titulares están en inglés y encima refieren a política local, no te preocupes si es una tarea difícil)."
   ]
  },
  {
   "cell_type": "code",
   "execution_count": null,
   "metadata": {
    "id": "7DtAbqq76VAK",
    "outputId": "d6911326-23af-42ab-cb66-60f7439631c2"
   },
   "outputs": [
    {
     "name": "stdout",
     "output_type": "stream",
     "text": [
      "5556 0\n"
     ]
    }
   ],
   "source": [
    "print(index_random, dataset.iloc[index_random].is_sarcastic)"
   ]
  },
  {
   "cell_type": "markdown",
   "metadata": {
    "id": "9dFz0v6O6VAK"
   },
   "source": [
    "## 3. NLTK\n",
    "\n",
    "Si es difícil para algunos humanos detectar el sarcasmo, probablemente también lo sea para una computadora. De todas formas, se puede hacer el intento. Para ello, es necesario extraer características de cada texto que nos sirvan para ir apuntando al objetivo. En los videos de Acámica hay muchos ejemplo de herramientas para aplicar. Elegir un titular que les llame la atención y probar las siguientes herramientas:\n",
    "\n",
    "### Tokenización\n",
    "\n",
    "¿Qué es y para qué sirve?¿Cuáles de todas las formas de tokenización presentadas te parece más útil para este problema?\n",
    "\n",
    "1. `sent_tokenize`"
   ]
  },
  {
   "cell_type": "code",
   "execution_count": null,
   "metadata": {
    "id": "Av-iW9ri6VAL",
    "outputId": "2d3bcabb-f4e1-4456-e9a7-03f7582c8302"
   },
   "outputs": [
    {
     "data": {
      "text/plain": [
       "[\"'if the earth was flat, why haven't the cats pushed everything off by now?'\"]"
      ]
     },
     "execution_count": 7,
     "metadata": {
      "tags": []
     },
     "output_type": "execute_result"
    }
   ],
   "source": [
    "titular_st = nltk.tokenize.sent_tokenize(titular)\n",
    "titular_st"
   ]
  },
  {
   "cell_type": "markdown",
   "metadata": {
    "id": "MuECriA46VAM"
   },
   "source": [
    "2. `word_tokenize`"
   ]
  },
  {
   "cell_type": "code",
   "execution_count": null,
   "metadata": {
    "id": "PDn0M57B6VAM",
    "outputId": "382fb1cd-3d33-4c32-9917-a01d9e94eae0"
   },
   "outputs": [
    {
     "data": {
      "text/plain": [
       "[\"'if\",\n",
       " 'the',\n",
       " 'earth',\n",
       " 'was',\n",
       " 'flat',\n",
       " ',',\n",
       " 'why',\n",
       " 'have',\n",
       " \"n't\",\n",
       " 'the',\n",
       " 'cats',\n",
       " 'pushed',\n",
       " 'everything',\n",
       " 'off',\n",
       " 'by',\n",
       " 'now',\n",
       " '?',\n",
       " \"'\"]"
      ]
     },
     "execution_count": 8,
     "metadata": {
      "tags": []
     },
     "output_type": "execute_result"
    }
   ],
   "source": [
    "titular_wt = nltk.tokenize.word_tokenize(titular)\n",
    "titular_wt"
   ]
  },
  {
   "cell_type": "markdown",
   "metadata": {
    "id": "p4qGUPLi6VAN"
   },
   "source": [
    "### Normalización\n",
    "\n",
    "¿Qué es y para qué sirve? Notar que varias formas de normalización ya vienen aplicadas en el dataset.\n",
    "\n",
    "1. Stopwords\n",
    "\n",
    "Importar los `stopwords` del inglés e imprimirlos."
   ]
  },
  {
   "cell_type": "code",
   "execution_count": null,
   "metadata": {
    "id": "bPFNxBAQ6VAO",
    "outputId": "a51ebe13-b6dd-47da-c053-73a36ff31866",
    "scrolled": true
   },
   "outputs": [
    {
     "data": {
      "text/plain": [
       "['i',\n",
       " 'me',\n",
       " 'my',\n",
       " 'myself',\n",
       " 'we',\n",
       " 'our',\n",
       " 'ours',\n",
       " 'ourselves',\n",
       " 'you',\n",
       " \"you're\",\n",
       " \"you've\",\n",
       " \"you'll\",\n",
       " \"you'd\",\n",
       " 'your',\n",
       " 'yours',\n",
       " 'yourself',\n",
       " 'yourselves',\n",
       " 'he',\n",
       " 'him',\n",
       " 'his',\n",
       " 'himself',\n",
       " 'she',\n",
       " \"she's\",\n",
       " 'her',\n",
       " 'hers',\n",
       " 'herself',\n",
       " 'it',\n",
       " \"it's\",\n",
       " 'its',\n",
       " 'itself',\n",
       " 'they',\n",
       " 'them',\n",
       " 'their',\n",
       " 'theirs',\n",
       " 'themselves',\n",
       " 'what',\n",
       " 'which',\n",
       " 'who',\n",
       " 'whom',\n",
       " 'this',\n",
       " 'that',\n",
       " \"that'll\",\n",
       " 'these',\n",
       " 'those',\n",
       " 'am',\n",
       " 'is',\n",
       " 'are',\n",
       " 'was',\n",
       " 'were',\n",
       " 'be',\n",
       " 'been',\n",
       " 'being',\n",
       " 'have',\n",
       " 'has',\n",
       " 'had',\n",
       " 'having',\n",
       " 'do',\n",
       " 'does',\n",
       " 'did',\n",
       " 'doing',\n",
       " 'a',\n",
       " 'an',\n",
       " 'the',\n",
       " 'and',\n",
       " 'but',\n",
       " 'if',\n",
       " 'or',\n",
       " 'because',\n",
       " 'as',\n",
       " 'until',\n",
       " 'while',\n",
       " 'of',\n",
       " 'at',\n",
       " 'by',\n",
       " 'for',\n",
       " 'with',\n",
       " 'about',\n",
       " 'against',\n",
       " 'between',\n",
       " 'into',\n",
       " 'through',\n",
       " 'during',\n",
       " 'before',\n",
       " 'after',\n",
       " 'above',\n",
       " 'below',\n",
       " 'to',\n",
       " 'from',\n",
       " 'up',\n",
       " 'down',\n",
       " 'in',\n",
       " 'out',\n",
       " 'on',\n",
       " 'off',\n",
       " 'over',\n",
       " 'under',\n",
       " 'again',\n",
       " 'further',\n",
       " 'then',\n",
       " 'once',\n",
       " 'here',\n",
       " 'there',\n",
       " 'when',\n",
       " 'where',\n",
       " 'why',\n",
       " 'how',\n",
       " 'all',\n",
       " 'any',\n",
       " 'both',\n",
       " 'each',\n",
       " 'few',\n",
       " 'more',\n",
       " 'most',\n",
       " 'other',\n",
       " 'some',\n",
       " 'such',\n",
       " 'no',\n",
       " 'nor',\n",
       " 'only',\n",
       " 'own',\n",
       " 'same',\n",
       " 'so',\n",
       " 'than',\n",
       " 'too',\n",
       " 'very',\n",
       " 's',\n",
       " 't',\n",
       " 'can',\n",
       " 'will',\n",
       " 'just',\n",
       " 'don',\n",
       " \"don't\",\n",
       " 'should',\n",
       " \"should've\",\n",
       " 'now',\n",
       " 'd',\n",
       " 'll',\n",
       " 'm',\n",
       " 'o',\n",
       " 're',\n",
       " 've',\n",
       " 'y',\n",
       " 'ain',\n",
       " 'aren',\n",
       " \"aren't\",\n",
       " 'couldn',\n",
       " \"couldn't\",\n",
       " 'didn',\n",
       " \"didn't\",\n",
       " 'doesn',\n",
       " \"doesn't\",\n",
       " 'hadn',\n",
       " \"hadn't\",\n",
       " 'hasn',\n",
       " \"hasn't\",\n",
       " 'haven',\n",
       " \"haven't\",\n",
       " 'isn',\n",
       " \"isn't\",\n",
       " 'ma',\n",
       " 'mightn',\n",
       " \"mightn't\",\n",
       " 'mustn',\n",
       " \"mustn't\",\n",
       " 'needn',\n",
       " \"needn't\",\n",
       " 'shan',\n",
       " \"shan't\",\n",
       " 'shouldn',\n",
       " \"shouldn't\",\n",
       " 'wasn',\n",
       " \"wasn't\",\n",
       " 'weren',\n",
       " \"weren't\",\n",
       " 'won',\n",
       " \"won't\",\n",
       " 'wouldn',\n",
       " \"wouldn't\"]"
      ]
     },
     "execution_count": 9,
     "metadata": {
      "tags": []
     },
     "output_type": "execute_result"
    }
   ],
   "source": [
    "stopwords = nltk.corpus.stopwords.words('english')\n",
    "stopwords = [palabra for palabra in stopwords if 'not' not in palabra]\n",
    "stopwords"
   ]
  },
  {
   "cell_type": "markdown",
   "metadata": {
    "id": "qNVd3qxD6VAO"
   },
   "source": [
    "¿Te parece conveniente aplicar todos los stopwords que aparecen en esa lista?\n",
    "\n",
    "Eliminar del titular elegido los stopwords."
   ]
  },
  {
   "cell_type": "code",
   "execution_count": null,
   "metadata": {
    "id": "UaKkLLIy6VAP",
    "outputId": "e6bbcbc5-84ea-4548-9411-477f78b66fef"
   },
   "outputs": [
    {
     "data": {
      "text/plain": [
       "[\"'if\", 'earth', 'flat', ',', \"n't\", 'cats', 'pushed', 'everything', '?', \"'\"]"
      ]
     },
     "execution_count": 10,
     "metadata": {
      "tags": []
     },
     "output_type": "execute_result"
    }
   ],
   "source": [
    "titular_wt_sin_sw = [word for word in titular_wt if word not in stopwords]\n",
    "titular_wt_sin_sw"
   ]
  },
  {
   "cell_type": "markdown",
   "metadata": {
    "id": "-gjBz5GM6VAQ"
   },
   "source": [
    "¿Cuál o cuáles palabras se fueron?"
   ]
  },
  {
   "cell_type": "markdown",
   "metadata": {
    "id": "4uMsq5WD6VAQ"
   },
   "source": [
    "### Frecuencia de palabras\n",
    "\n",
    "Dado el titular ya tokenizado por palabras y sin stopwords, usar `nltk` para extrar la frecuencia con que aparece cada palabras. ¿Tiene sentido esto para titulares?"
   ]
  },
  {
   "cell_type": "code",
   "execution_count": null,
   "metadata": {
    "id": "n2PC_Tca6VAQ",
    "outputId": "3a488c69-cc6c-453a-cc6a-ad83184fc74c"
   },
   "outputs": [
    {
     "data": {
      "text/plain": [
       "FreqDist({\"'if\": 1, 'earth': 1, 'flat': 1, ',': 1, \"n't\": 1, 'cats': 1, 'pushed': 1, 'everything': 1, '?': 1, \"'\": 1})"
      ]
     },
     "execution_count": 11,
     "metadata": {
      "tags": []
     },
     "output_type": "execute_result"
    }
   ],
   "source": [
    "freq = nltk.FreqDist(titular_wt_sin_sw)\n",
    "freq"
   ]
  },
  {
   "cell_type": "markdown",
   "metadata": {
    "id": "2a5k_dQo6VAS"
   },
   "source": [
    "### Dataset Completo\n",
    "\n",
    "Antes de pasar a extraer features de cada instancia del Dataset, podemos hacer un pequeño análisis del dataset en su conjunto. Por ejemplo, una opción es agrupar todos los titulares por tipo y extraer de cada clase las palabras más frecuentes. Para ello:\n",
    "\n",
    "1. Agrupar los titulares por tipo. Crear un dataframe para cada uno. Recuerden usar máscaras.\n",
    "2. Crear una lista vacia y agregar en esa lista todos los titulares (por tipo/dataframe creado) ya tokenizados (usar el `RegexpTokenizer`) y filtrado por `stopwords`.\n",
    "3. Usar el `FreqDist` en esa lista que acaban de llenar. Llevar lo que devuelve `FreqDist` a un Dataframe. Ordenar por frecuencia en que aparece cada palabra.\n",
    "4. Hacer un `barplot` o similar para visualizar.\n",
    "5. ¿Qué palabras filtrarían, aparte de las que aparecen en `stopwords`? Crear una lista vacía y agregarlas a mano. Agregar en el código que realizaron una línea (similar a la que usan con `stopwords`) para que también filtre por esas palabras.\n",
    "6. Volver a visualizar.\n",
    "\n",
    "#### No-Sarcasmo"
   ]
  },
  {
   "cell_type": "code",
   "execution_count": 1,
   "metadata": {
    "id": "lqdbqlPW6VAS"
   },
   "outputs": [],
   "source": [
    "filtrar = []\n",
    "if True:\n",
    "    filtrar.append(\"u\")\n",
    "    filtrar.append(\"new\")"
   ]
  },
  {
   "cell_type": "code",
   "execution_count": 2,
   "metadata": {},
   "outputs": [
    {
     "data": {
      "text/plain": [
       "['u', 'new']"
      ]
     },
     "execution_count": 2,
     "metadata": {},
     "output_type": "execute_result"
    }
   ],
   "source": [
    "filtrar"
   ]
  },
  {
   "cell_type": "code",
   "execution_count": null,
   "metadata": {
    "id": "arfDRAHZ6VAS",
    "outputId": "8cd0de03-7fbc-4fcf-d515-cfcc78036083"
   },
   "outputs": [
    {
     "data": {
      "text/html": [
       "<div>\n",
       "<style scoped>\n",
       "    .dataframe tbody tr th:only-of-type {\n",
       "        vertical-align: middle;\n",
       "    }\n",
       "\n",
       "    .dataframe tbody tr th {\n",
       "        vertical-align: top;\n",
       "    }\n",
       "\n",
       "    .dataframe thead th {\n",
       "        text-align: right;\n",
       "    }\n",
       "</style>\n",
       "<table border=\"1\" class=\"dataframe\">\n",
       "  <thead>\n",
       "    <tr style=\"text-align: right;\">\n",
       "      <th></th>\n",
       "      <th>article_link</th>\n",
       "      <th>headline</th>\n",
       "      <th>is_sarcastic</th>\n",
       "    </tr>\n",
       "  </thead>\n",
       "  <tbody>\n",
       "    <tr>\n",
       "      <th>0</th>\n",
       "      <td>https://www.huffingtonpost.com/entry/versace-b...</td>\n",
       "      <td>former versace store clerk sues over secret 'b...</td>\n",
       "      <td>0</td>\n",
       "    </tr>\n",
       "    <tr>\n",
       "      <th>1</th>\n",
       "      <td>https://www.huffingtonpost.com/entry/roseanne-...</td>\n",
       "      <td>the 'roseanne' revival catches up to our thorn...</td>\n",
       "      <td>0</td>\n",
       "    </tr>\n",
       "    <tr>\n",
       "      <th>4</th>\n",
       "      <td>https://www.huffingtonpost.com/entry/jk-rowlin...</td>\n",
       "      <td>j.k. rowling wishes snape happy birthday in th...</td>\n",
       "      <td>0</td>\n",
       "    </tr>\n",
       "    <tr>\n",
       "      <th>5</th>\n",
       "      <td>https://www.huffingtonpost.com/entry/advancing...</td>\n",
       "      <td>advancing the world's women</td>\n",
       "      <td>0</td>\n",
       "    </tr>\n",
       "    <tr>\n",
       "      <th>6</th>\n",
       "      <td>https://www.huffingtonpost.com/entry/how-meat-...</td>\n",
       "      <td>the fascinating case for eating lab-grown meat</td>\n",
       "      <td>0</td>\n",
       "    </tr>\n",
       "  </tbody>\n",
       "</table>\n",
       "</div>"
      ],
      "text/plain": [
       "                                        article_link  \\\n",
       "0  https://www.huffingtonpost.com/entry/versace-b...   \n",
       "1  https://www.huffingtonpost.com/entry/roseanne-...   \n",
       "4  https://www.huffingtonpost.com/entry/jk-rowlin...   \n",
       "5  https://www.huffingtonpost.com/entry/advancing...   \n",
       "6  https://www.huffingtonpost.com/entry/how-meat-...   \n",
       "\n",
       "                                            headline  is_sarcastic  \n",
       "0  former versace store clerk sues over secret 'b...             0  \n",
       "1  the 'roseanne' revival catches up to our thorn...             0  \n",
       "4  j.k. rowling wishes snape happy birthday in th...             0  \n",
       "5                        advancing the world's women             0  \n",
       "6     the fascinating case for eating lab-grown meat             0  "
      ]
     },
     "execution_count": 13,
     "metadata": {
      "tags": []
     },
     "output_type": "execute_result"
    }
   ],
   "source": [
    "dataset_no_sarcasmo = dataset[dataset.is_sarcastic==0]\n",
    "dataset_no_sarcasmo.head()"
   ]
  },
  {
   "cell_type": "code",
   "execution_count": null,
   "metadata": {
    "id": "UOzL4_vG6VAT"
   },
   "outputs": [],
   "source": [
    "todos_titulares_no_sarcasmo = []\n",
    "for i in range(dataset_no_sarcasmo.shape[0]):\n",
    "    titular = dataset_no_sarcasmo.iloc[i].headline\n",
    "    titular = nltk.tokenize.RegexpTokenizer(\"[\\w]+\").tokenize(titular)\n",
    "    titular = [word for word in titular if word not in stopwords]\n",
    "    titular = [word for word in titular if word not in filtrar]\n",
    "\n",
    "    todos_titulares_no_sarcasmo.append(titular)"
   ]
  },
  {
   "cell_type": "code",
   "execution_count": null,
   "metadata": {
    "id": "YgIpxOKR6VAT",
    "outputId": "b6d3fc94-1779-4aa4-f831-44e52c3f7a5c"
   },
   "outputs": [
    {
     "data": {
      "text/plain": [
       "['former',\n",
       " 'versace',\n",
       " 'store',\n",
       " 'clerk',\n",
       " 'sues',\n",
       " 'secret',\n",
       " 'black',\n",
       " 'code',\n",
       " 'minority',\n",
       " 'shoppers']"
      ]
     },
     "execution_count": 15,
     "metadata": {
      "tags": []
     },
     "output_type": "execute_result"
    }
   ],
   "source": [
    "todos_titulares_no_sarcasmo = list(itertools.chain(*todos_titulares_no_sarcasmo))\n",
    "todos_titulares_no_sarcasmo[0:10]"
   ]
  },
  {
   "cell_type": "code",
   "execution_count": null,
   "metadata": {
    "id": "oV69NGkv6VAT",
    "outputId": "0b3b48b0-8540-438b-f59c-12a000f6a1ad"
   },
   "outputs": [
    {
     "data": {
      "text/plain": [
       "FreqDist({'trump': 1446, 'donald': 458, 'not': 387, 'says': 349, 'women': 317, 'one': 268, 'year': 244, 'first': 242, 'world': 241, 'man': 241, ...})"
      ]
     },
     "execution_count": 16,
     "metadata": {
      "tags": []
     },
     "output_type": "execute_result"
    }
   ],
   "source": [
    "freq_no_sarcasmo = nltk.FreqDist(todos_titulares_no_sarcasmo)\n",
    "freq_no_sarcasmo"
   ]
  },
  {
   "cell_type": "code",
   "execution_count": null,
   "metadata": {
    "id": "6G0xJV406VAU",
    "outputId": "38641da3-e613-460e-fa85-c46e0b128604"
   },
   "outputs": [
    {
     "data": {
      "text/html": [
       "<div>\n",
       "<style scoped>\n",
       "    .dataframe tbody tr th:only-of-type {\n",
       "        vertical-align: middle;\n",
       "    }\n",
       "\n",
       "    .dataframe tbody tr th {\n",
       "        vertical-align: top;\n",
       "    }\n",
       "\n",
       "    .dataframe thead th {\n",
       "        text-align: right;\n",
       "    }\n",
       "</style>\n",
       "<table border=\"1\" class=\"dataframe\">\n",
       "  <thead>\n",
       "    <tr style=\"text-align: right;\">\n",
       "      <th></th>\n",
       "      <th>Word</th>\n",
       "      <th>Frequency</th>\n",
       "    </tr>\n",
       "  </thead>\n",
       "  <tbody>\n",
       "    <tr>\n",
       "      <th>0</th>\n",
       "      <td>former</td>\n",
       "      <td>82</td>\n",
       "    </tr>\n",
       "    <tr>\n",
       "      <th>1</th>\n",
       "      <td>versace</td>\n",
       "      <td>1</td>\n",
       "    </tr>\n",
       "    <tr>\n",
       "      <th>2</th>\n",
       "      <td>store</td>\n",
       "      <td>14</td>\n",
       "    </tr>\n",
       "    <tr>\n",
       "      <th>3</th>\n",
       "      <td>clerk</td>\n",
       "      <td>5</td>\n",
       "    </tr>\n",
       "    <tr>\n",
       "      <th>4</th>\n",
       "      <td>sues</td>\n",
       "      <td>15</td>\n",
       "    </tr>\n",
       "  </tbody>\n",
       "</table>\n",
       "</div>"
      ],
      "text/plain": [
       "      Word  Frequency\n",
       "0   former         82\n",
       "1  versace          1\n",
       "2    store         14\n",
       "3    clerk          5\n",
       "4     sues         15"
      ]
     },
     "execution_count": 17,
     "metadata": {
      "tags": []
     },
     "output_type": "execute_result"
    }
   ],
   "source": [
    "df_no_sarcasmo = pd.DataFrame(list(freq_no_sarcasmo.items()), columns = [\"Word\",\"Frequency\"])\n",
    "df_no_sarcasmo.head()"
   ]
  },
  {
   "cell_type": "code",
   "execution_count": null,
   "metadata": {
    "id": "dgGnFjAQ6VAU",
    "outputId": "32ab060b-2ec5-43c1-a66b-0689ed165bcf"
   },
   "outputs": [
    {
     "data": {
      "text/html": [
       "<div>\n",
       "<style scoped>\n",
       "    .dataframe tbody tr th:only-of-type {\n",
       "        vertical-align: middle;\n",
       "    }\n",
       "\n",
       "    .dataframe tbody tr th {\n",
       "        vertical-align: top;\n",
       "    }\n",
       "\n",
       "    .dataframe thead th {\n",
       "        text-align: right;\n",
       "    }\n",
       "</style>\n",
       "<table border=\"1\" class=\"dataframe\">\n",
       "  <thead>\n",
       "    <tr style=\"text-align: right;\">\n",
       "      <th></th>\n",
       "      <th>Word</th>\n",
       "      <th>Frequency</th>\n",
       "    </tr>\n",
       "  </thead>\n",
       "  <tbody>\n",
       "    <tr>\n",
       "      <th>46</th>\n",
       "      <td>trump</td>\n",
       "      <td>1446</td>\n",
       "    </tr>\n",
       "    <tr>\n",
       "      <th>229</th>\n",
       "      <td>donald</td>\n",
       "      <td>458</td>\n",
       "    </tr>\n",
       "    <tr>\n",
       "      <th>498</th>\n",
       "      <td>not</td>\n",
       "      <td>387</td>\n",
       "    </tr>\n",
       "    <tr>\n",
       "      <th>421</th>\n",
       "      <td>says</td>\n",
       "      <td>349</td>\n",
       "    </tr>\n",
       "    <tr>\n",
       "      <th>29</th>\n",
       "      <td>women</td>\n",
       "      <td>317</td>\n",
       "    </tr>\n",
       "  </tbody>\n",
       "</table>\n",
       "</div>"
      ],
      "text/plain": [
       "       Word  Frequency\n",
       "46    trump       1446\n",
       "229  donald        458\n",
       "498     not        387\n",
       "421    says        349\n",
       "29    women        317"
      ]
     },
     "execution_count": 18,
     "metadata": {
      "tags": []
     },
     "output_type": "execute_result"
    }
   ],
   "source": [
    "df_no_sarcasmo.sort_values('Frequency',ascending=False, inplace = True)\n",
    "df_no_sarcasmo.head()"
   ]
  },
  {
   "cell_type": "code",
   "execution_count": null,
   "metadata": {
    "id": "Hkrh7Omz6VAU",
    "outputId": "0da81077-edca-4553-fd54-ea7bafc82552"
   },
   "outputs": [
    {
     "data": {
      "text/html": [
       "<div>\n",
       "<style scoped>\n",
       "    .dataframe tbody tr th:only-of-type {\n",
       "        vertical-align: middle;\n",
       "    }\n",
       "\n",
       "    .dataframe tbody tr th {\n",
       "        vertical-align: top;\n",
       "    }\n",
       "\n",
       "    .dataframe thead th {\n",
       "        text-align: right;\n",
       "    }\n",
       "</style>\n",
       "<table border=\"1\" class=\"dataframe\">\n",
       "  <thead>\n",
       "    <tr style=\"text-align: right;\">\n",
       "      <th></th>\n",
       "      <th>Word</th>\n",
       "      <th>Frequency</th>\n",
       "    </tr>\n",
       "  </thead>\n",
       "  <tbody>\n",
       "    <tr>\n",
       "      <th>0</th>\n",
       "      <td>trump</td>\n",
       "      <td>1446</td>\n",
       "    </tr>\n",
       "    <tr>\n",
       "      <th>1</th>\n",
       "      <td>donald</td>\n",
       "      <td>458</td>\n",
       "    </tr>\n",
       "    <tr>\n",
       "      <th>2</th>\n",
       "      <td>not</td>\n",
       "      <td>387</td>\n",
       "    </tr>\n",
       "    <tr>\n",
       "      <th>3</th>\n",
       "      <td>says</td>\n",
       "      <td>349</td>\n",
       "    </tr>\n",
       "    <tr>\n",
       "      <th>4</th>\n",
       "      <td>women</td>\n",
       "      <td>317</td>\n",
       "    </tr>\n",
       "  </tbody>\n",
       "</table>\n",
       "</div>"
      ],
      "text/plain": [
       "     Word  Frequency\n",
       "0   trump       1446\n",
       "1  donald        458\n",
       "2     not        387\n",
       "3    says        349\n",
       "4   women        317"
      ]
     },
     "execution_count": 19,
     "metadata": {
      "tags": []
     },
     "output_type": "execute_result"
    }
   ],
   "source": [
    "df_no_sarcasmo.reset_index(drop = True, inplace=True)\n",
    "df_no_sarcasmo.head()"
   ]
  },
  {
   "cell_type": "code",
   "execution_count": null,
   "metadata": {
    "id": "hHSWqLwt6VAV",
    "outputId": "a45a09c2-1282-4e0e-a566-580c5e2e6e7a"
   },
   "outputs": [
    {
     "data": {
      "image/png": "[encoded data removed]",
      "text/plain": [
       "<Figure size 1080x576 with 1 Axes>"
      ]
     },
     "metadata": {
      "tags": []
     },
     "output_type": "display_data"
    }
   ],
   "source": [
    "plt.figure(figsize = (15,8))\n",
    "plot = sns.barplot(x  = df_no_sarcasmo.iloc[:30].Word, y = df_no_sarcasmo.iloc[:30].Frequency)\n",
    "for item in plot.get_xticklabels():\n",
    "    item.set_rotation(90)\n",
    "plt.show()"
   ]
  },
  {
   "cell_type": "markdown",
   "metadata": {
    "id": "qGfx9f6W6VAV"
   },
   "source": [
    "#### Sarcasmo"
   ]
  },
  {
   "cell_type": "code",
   "execution_count": null,
   "metadata": {
    "id": "KZByJSFr6VAW",
    "outputId": "d48d5be0-e14b-4d61-80a1-eb64d514bc08"
   },
   "outputs": [
    {
     "data": {
      "text/html": [
       "<div>\n",
       "<style scoped>\n",
       "    .dataframe tbody tr th:only-of-type {\n",
       "        vertical-align: middle;\n",
       "    }\n",
       "\n",
       "    .dataframe tbody tr th {\n",
       "        vertical-align: top;\n",
       "    }\n",
       "\n",
       "    .dataframe thead th {\n",
       "        text-align: right;\n",
       "    }\n",
       "</style>\n",
       "<table border=\"1\" class=\"dataframe\">\n",
       "  <thead>\n",
       "    <tr style=\"text-align: right;\">\n",
       "      <th></th>\n",
       "      <th>article_link</th>\n",
       "      <th>headline</th>\n",
       "      <th>is_sarcastic</th>\n",
       "    </tr>\n",
       "  </thead>\n",
       "  <tbody>\n",
       "    <tr>\n",
       "      <th>2</th>\n",
       "      <td>https://local.theonion.com/mom-starting-to-fea...</td>\n",
       "      <td>mom starting to fear son's web series closest ...</td>\n",
       "      <td>1</td>\n",
       "    </tr>\n",
       "    <tr>\n",
       "      <th>3</th>\n",
       "      <td>https://politics.theonion.com/boehner-just-wan...</td>\n",
       "      <td>boehner just wants wife to listen, not come up...</td>\n",
       "      <td>1</td>\n",
       "    </tr>\n",
       "    <tr>\n",
       "      <th>8</th>\n",
       "      <td>https://politics.theonion.com/top-snake-handle...</td>\n",
       "      <td>top snake handler leaves sinking huckabee camp...</td>\n",
       "      <td>1</td>\n",
       "    </tr>\n",
       "    <tr>\n",
       "      <th>15</th>\n",
       "      <td>https://entertainment.theonion.com/nuclear-bom...</td>\n",
       "      <td>nuclear bomb detonates during rehearsal for 's...</td>\n",
       "      <td>1</td>\n",
       "    </tr>\n",
       "    <tr>\n",
       "      <th>16</th>\n",
       "      <td>https://www.theonion.com/cosby-lawyer-asks-why...</td>\n",
       "      <td>cosby lawyer asks why accusers didn't come for...</td>\n",
       "      <td>1</td>\n",
       "    </tr>\n",
       "  </tbody>\n",
       "</table>\n",
       "</div>"
      ],
      "text/plain": [
       "                                         article_link  \\\n",
       "2   https://local.theonion.com/mom-starting-to-fea...   \n",
       "3   https://politics.theonion.com/boehner-just-wan...   \n",
       "8   https://politics.theonion.com/top-snake-handle...   \n",
       "15  https://entertainment.theonion.com/nuclear-bom...   \n",
       "16  https://www.theonion.com/cosby-lawyer-asks-why...   \n",
       "\n",
       "                                             headline  is_sarcastic  \n",
       "2   mom starting to fear son's web series closest ...             1  \n",
       "3   boehner just wants wife to listen, not come up...             1  \n",
       "8   top snake handler leaves sinking huckabee camp...             1  \n",
       "15  nuclear bomb detonates during rehearsal for 's...             1  \n",
       "16  cosby lawyer asks why accusers didn't come for...             1  "
      ]
     },
     "execution_count": 21,
     "metadata": {
      "tags": []
     },
     "output_type": "execute_result"
    }
   ],
   "source": [
    "dataset_sarcasmo = dataset[dataset.is_sarcastic==1]\n",
    "dataset_sarcasmo.head()"
   ]
  },
  {
   "cell_type": "code",
   "execution_count": null,
   "metadata": {
    "id": "sZps-NZF6VAW"
   },
   "outputs": [],
   "source": [
    "todos_titulares_sarcasmo = []\n",
    "for i in range(dataset_sarcasmo.shape[0]):\n",
    "    titular = dataset_sarcasmo.iloc[i].headline\n",
    "    titular = nltk.tokenize.RegexpTokenizer(\"[\\w]+\").tokenize(titular)\n",
    "    titular = [word for word in titular if word not in stopwords]\n",
    "    titular = [word for word in titular if word not in filtrar]\n",
    "    todos_titulares_sarcasmo.append(titular)"
   ]
  },
  {
   "cell_type": "code",
   "execution_count": null,
   "metadata": {
    "id": "1PHa8mB-6VAX",
    "outputId": "5d7dd7ef-db22-4285-edac-39ca4c8ec5dd"
   },
   "outputs": [
    {
     "data": {
      "text/plain": [
       "['mom',\n",
       " 'starting',\n",
       " 'fear',\n",
       " 'son',\n",
       " 'web',\n",
       " 'series',\n",
       " 'closest',\n",
       " 'thing',\n",
       " 'grandchild',\n",
       " 'boehner']"
      ]
     },
     "execution_count": 23,
     "metadata": {
      "tags": []
     },
     "output_type": "execute_result"
    }
   ],
   "source": [
    "todos_titulares_sarcasmo = list(itertools.chain(*todos_titulares_sarcasmo))\n",
    "todos_titulares_sarcasmo[0:10]"
   ]
  },
  {
   "cell_type": "code",
   "execution_count": null,
   "metadata": {
    "id": "c1HvisHp6VAX",
    "outputId": "2b7da025-b30e-431c-9055-675650905440"
   },
   "outputs": [
    {
     "data": {
      "text/plain": [
       "FreqDist({'man': 1154, 'area': 480, 'report': 426, 'not': 352, 'nation': 339, 'woman': 319, 'year': 308, 'one': 273, 'old': 267, 'time': 252, ...})"
      ]
     },
     "execution_count": 24,
     "metadata": {
      "tags": []
     },
     "output_type": "execute_result"
    }
   ],
   "source": [
    "freq_sarcasmo = nltk.FreqDist(todos_titulares_sarcasmo)\n",
    "freq_sarcasmo"
   ]
  },
  {
   "cell_type": "code",
   "execution_count": null,
   "metadata": {
    "id": "0HgKNDay6VAY",
    "outputId": "8c301d77-73eb-4e18-810d-5f2600f194b8"
   },
   "outputs": [
    {
     "data": {
      "text/html": [
       "<div>\n",
       "<style scoped>\n",
       "    .dataframe tbody tr th:only-of-type {\n",
       "        vertical-align: middle;\n",
       "    }\n",
       "\n",
       "    .dataframe tbody tr th {\n",
       "        vertical-align: top;\n",
       "    }\n",
       "\n",
       "    .dataframe thead th {\n",
       "        text-align: right;\n",
       "    }\n",
       "</style>\n",
       "<table border=\"1\" class=\"dataframe\">\n",
       "  <thead>\n",
       "    <tr style=\"text-align: right;\">\n",
       "      <th></th>\n",
       "      <th>Word</th>\n",
       "      <th>Frequency</th>\n",
       "    </tr>\n",
       "  </thead>\n",
       "  <tbody>\n",
       "    <tr>\n",
       "      <th>0</th>\n",
       "      <td>mom</td>\n",
       "      <td>117</td>\n",
       "    </tr>\n",
       "    <tr>\n",
       "      <th>1</th>\n",
       "      <td>starting</td>\n",
       "      <td>32</td>\n",
       "    </tr>\n",
       "    <tr>\n",
       "      <th>2</th>\n",
       "      <td>fear</td>\n",
       "      <td>16</td>\n",
       "    </tr>\n",
       "    <tr>\n",
       "      <th>3</th>\n",
       "      <td>son</td>\n",
       "      <td>71</td>\n",
       "    </tr>\n",
       "    <tr>\n",
       "      <th>4</th>\n",
       "      <td>web</td>\n",
       "      <td>7</td>\n",
       "    </tr>\n",
       "  </tbody>\n",
       "</table>\n",
       "</div>"
      ],
      "text/plain": [
       "       Word  Frequency\n",
       "0       mom        117\n",
       "1  starting         32\n",
       "2      fear         16\n",
       "3       son         71\n",
       "4       web          7"
      ]
     },
     "execution_count": 25,
     "metadata": {
      "tags": []
     },
     "output_type": "execute_result"
    }
   ],
   "source": [
    "df_sarcasmo = pd.DataFrame(list(freq_sarcasmo.items()), columns = [\"Word\",\"Frequency\"])\n",
    "df_sarcasmo.head()"
   ]
  },
  {
   "cell_type": "code",
   "execution_count": null,
   "metadata": {
    "id": "lTk7ZPKa6VAY",
    "outputId": "7f4920d6-682f-46e1-a2ae-a3895ef77d4b"
   },
   "outputs": [
    {
     "data": {
      "text/html": [
       "<div>\n",
       "<style scoped>\n",
       "    .dataframe tbody tr th:only-of-type {\n",
       "        vertical-align: middle;\n",
       "    }\n",
       "\n",
       "    .dataframe tbody tr th {\n",
       "        vertical-align: top;\n",
       "    }\n",
       "\n",
       "    .dataframe thead th {\n",
       "        text-align: right;\n",
       "    }\n",
       "</style>\n",
       "<table border=\"1\" class=\"dataframe\">\n",
       "  <thead>\n",
       "    <tr style=\"text-align: right;\">\n",
       "      <th></th>\n",
       "      <th>Word</th>\n",
       "      <th>Frequency</th>\n",
       "    </tr>\n",
       "  </thead>\n",
       "  <tbody>\n",
       "    <tr>\n",
       "      <th>31</th>\n",
       "      <td>man</td>\n",
       "      <td>1154</td>\n",
       "    </tr>\n",
       "    <tr>\n",
       "      <th>183</th>\n",
       "      <td>area</td>\n",
       "      <td>480</td>\n",
       "    </tr>\n",
       "    <tr>\n",
       "      <th>158</th>\n",
       "      <td>report</td>\n",
       "      <td>426</td>\n",
       "    </tr>\n",
       "    <tr>\n",
       "      <th>13</th>\n",
       "      <td>not</td>\n",
       "      <td>352</td>\n",
       "    </tr>\n",
       "    <tr>\n",
       "      <th>57</th>\n",
       "      <td>nation</td>\n",
       "      <td>339</td>\n",
       "    </tr>\n",
       "  </tbody>\n",
       "</table>\n",
       "</div>"
      ],
      "text/plain": [
       "       Word  Frequency\n",
       "31      man       1154\n",
       "183    area        480\n",
       "158  report        426\n",
       "13      not        352\n",
       "57   nation        339"
      ]
     },
     "execution_count": 26,
     "metadata": {
      "tags": []
     },
     "output_type": "execute_result"
    }
   ],
   "source": [
    "df_sarcasmo.sort_values('Frequency',ascending=False, inplace = True)\n",
    "df_sarcasmo.head()"
   ]
  },
  {
   "cell_type": "code",
   "execution_count": null,
   "metadata": {
    "id": "hQ2jI4dQ6VAY",
    "outputId": "88992ed9-e2ed-49f6-9220-f254aaf44805"
   },
   "outputs": [
    {
     "data": {
      "text/html": [
       "<div>\n",
       "<style scoped>\n",
       "    .dataframe tbody tr th:only-of-type {\n",
       "        vertical-align: middle;\n",
       "    }\n",
       "\n",
       "    .dataframe tbody tr th {\n",
       "        vertical-align: top;\n",
       "    }\n",
       "\n",
       "    .dataframe thead th {\n",
       "        text-align: right;\n",
       "    }\n",
       "</style>\n",
       "<table border=\"1\" class=\"dataframe\">\n",
       "  <thead>\n",
       "    <tr style=\"text-align: right;\">\n",
       "      <th></th>\n",
       "      <th>Word</th>\n",
       "      <th>Frequency</th>\n",
       "    </tr>\n",
       "  </thead>\n",
       "  <tbody>\n",
       "    <tr>\n",
       "      <th>0</th>\n",
       "      <td>man</td>\n",
       "      <td>1154</td>\n",
       "    </tr>\n",
       "    <tr>\n",
       "      <th>1</th>\n",
       "      <td>area</td>\n",
       "      <td>480</td>\n",
       "    </tr>\n",
       "    <tr>\n",
       "      <th>2</th>\n",
       "      <td>report</td>\n",
       "      <td>426</td>\n",
       "    </tr>\n",
       "    <tr>\n",
       "      <th>3</th>\n",
       "      <td>not</td>\n",
       "      <td>352</td>\n",
       "    </tr>\n",
       "    <tr>\n",
       "      <th>4</th>\n",
       "      <td>nation</td>\n",
       "      <td>339</td>\n",
       "    </tr>\n",
       "  </tbody>\n",
       "</table>\n",
       "</div>"
      ],
      "text/plain": [
       "     Word  Frequency\n",
       "0     man       1154\n",
       "1    area        480\n",
       "2  report        426\n",
       "3     not        352\n",
       "4  nation        339"
      ]
     },
     "execution_count": 27,
     "metadata": {
      "tags": []
     },
     "output_type": "execute_result"
    }
   ],
   "source": [
    "df_sarcasmo.reset_index(drop = True, inplace=True)\n",
    "df_sarcasmo.head()"
   ]
  },
  {
   "cell_type": "code",
   "execution_count": null,
   "metadata": {
    "id": "vTHPWT2o6VAZ",
    "outputId": "1c63c613-62d0-47dc-c5ae-3b5cb9f9d5a3"
   },
   "outputs": [
    {
     "data": {
      "image/png": "[encoded data removed]",
      "text/plain": [
       "<Figure size 1080x576 with 1 Axes>"
      ]
     },
     "metadata": {
      "tags": []
     },
     "output_type": "display_data"
    }
   ],
   "source": [
    "plt.figure(figsize = (15,8))\n",
    "plot = sns.barplot(x  = df_sarcasmo.iloc[:30].Word, y = df_sarcasmo.iloc[:30].Frequency)\n",
    "for item in plot.get_xticklabels():\n",
    "    item.set_rotation(90)\n",
    "plt.show()"
   ]
  },
  {
   "cell_type": "markdown",
   "metadata": {
    "id": "nBinpPiZ6VAZ"
   },
   "source": [
    "## 4. Stemming\n",
    "Por razones gramaticales muchas palabras pueden escribirse de manera distinta (debido a conjugación, género, número) pero tener el mismo significado para el texto. Por ejemplo si decimos \"jugar\", \"jugando\" o \"juega\", debido a como estan conjugadas, la computadora puede tratarlas como palabras distintas. Pero, en términos de significado, todas estan relacionadas al verbo Jugar. Muchas veces nos va a convenir unir todas estos términos en uno solo.\n",
    "\n",
    "Una de las manera de hacer esto es por \"STEMMING\". El Stemming es un proceso eurístico que recorta la terminación de las palabras, agrupándolas por su raiz. Reduzcamos la cantidad de palabras diferentes en nuestro dataset utilizando este proceso.\n",
    "\n",
    "a. Importar nuevamente el dataset completo"
   ]
  },
  {
   "cell_type": "code",
   "execution_count": null,
   "metadata": {
    "id": "luM5sEgm6VAZ",
    "outputId": "a815b74c-fe01-4045-95c3-0ef49898524a",
    "scrolled": true
   },
   "outputs": [
    {
     "data": {
      "text/html": [
       "<div>\n",
       "<style scoped>\n",
       "    .dataframe tbody tr th:only-of-type {\n",
       "        vertical-align: middle;\n",
       "    }\n",
       "\n",
       "    .dataframe tbody tr th {\n",
       "        vertical-align: top;\n",
       "    }\n",
       "\n",
       "    .dataframe thead th {\n",
       "        text-align: right;\n",
       "    }\n",
       "</style>\n",
       "<table border=\"1\" class=\"dataframe\">\n",
       "  <thead>\n",
       "    <tr style=\"text-align: right;\">\n",
       "      <th></th>\n",
       "      <th>article_link</th>\n",
       "      <th>headline</th>\n",
       "      <th>is_sarcastic</th>\n",
       "    </tr>\n",
       "  </thead>\n",
       "  <tbody>\n",
       "    <tr>\n",
       "      <th>0</th>\n",
       "      <td>https://www.huffingtonpost.com/entry/versace-b...</td>\n",
       "      <td>former versace store clerk sues over secret 'b...</td>\n",
       "      <td>0</td>\n",
       "    </tr>\n",
       "    <tr>\n",
       "      <th>1</th>\n",
       "      <td>https://www.huffingtonpost.com/entry/roseanne-...</td>\n",
       "      <td>the 'roseanne' revival catches up to our thorn...</td>\n",
       "      <td>0</td>\n",
       "    </tr>\n",
       "    <tr>\n",
       "      <th>2</th>\n",
       "      <td>https://local.theonion.com/mom-starting-to-fea...</td>\n",
       "      <td>mom starting to fear son's web series closest ...</td>\n",
       "      <td>1</td>\n",
       "    </tr>\n",
       "    <tr>\n",
       "      <th>3</th>\n",
       "      <td>https://politics.theonion.com/boehner-just-wan...</td>\n",
       "      <td>boehner just wants wife to listen, not come up...</td>\n",
       "      <td>1</td>\n",
       "    </tr>\n",
       "    <tr>\n",
       "      <th>4</th>\n",
       "      <td>https://www.huffingtonpost.com/entry/jk-rowlin...</td>\n",
       "      <td>j.k. rowling wishes snape happy birthday in th...</td>\n",
       "      <td>0</td>\n",
       "    </tr>\n",
       "  </tbody>\n",
       "</table>\n",
       "</div>"
      ],
      "text/plain": [
       "                                        article_link  \\\n",
       "0  https://www.huffingtonpost.com/entry/versace-b...   \n",
       "1  https://www.huffingtonpost.com/entry/roseanne-...   \n",
       "2  https://local.theonion.com/mom-starting-to-fea...   \n",
       "3  https://politics.theonion.com/boehner-just-wan...   \n",
       "4  https://www.huffingtonpost.com/entry/jk-rowlin...   \n",
       "\n",
       "                                            headline  is_sarcastic  \n",
       "0  former versace store clerk sues over secret 'b...             0  \n",
       "1  the 'roseanne' revival catches up to our thorn...             0  \n",
       "2  mom starting to fear son's web series closest ...             1  \n",
       "3  boehner just wants wife to listen, not come up...             1  \n",
       "4  j.k. rowling wishes snape happy birthday in th...             0  "
      ]
     },
     "execution_count": 29,
     "metadata": {
      "tags": []
     },
     "output_type": "execute_result"
    }
   ],
   "source": [
    "dataset = pd.read_json('DS_Bitácora_39_40_Sarcasm_Headlines_Dataset.json', lines= True)\n",
    "dataset.head()"
   ]
  },
  {
   "cell_type": "markdown",
   "metadata": {
    "id": "duwjHEQ56VAZ"
   },
   "source": [
    "b. Tomar del `dataset` solo las columnas de interes"
   ]
  },
  {
   "cell_type": "code",
   "execution_count": null,
   "metadata": {
    "id": "W0agAC-w6VAa",
    "outputId": "cb3b3069-9257-4876-db4d-0bccbcc3ea1b",
    "scrolled": true
   },
   "outputs": [
    {
     "data": {
      "text/html": [
       "<div>\n",
       "<style scoped>\n",
       "    .dataframe tbody tr th:only-of-type {\n",
       "        vertical-align: middle;\n",
       "    }\n",
       "\n",
       "    .dataframe tbody tr th {\n",
       "        vertical-align: top;\n",
       "    }\n",
       "\n",
       "    .dataframe thead th {\n",
       "        text-align: right;\n",
       "    }\n",
       "</style>\n",
       "<table border=\"1\" class=\"dataframe\">\n",
       "  <thead>\n",
       "    <tr style=\"text-align: right;\">\n",
       "      <th></th>\n",
       "      <th>headline</th>\n",
       "      <th>is_sarcastic</th>\n",
       "    </tr>\n",
       "  </thead>\n",
       "  <tbody>\n",
       "    <tr>\n",
       "      <th>0</th>\n",
       "      <td>former versace store clerk sues over secret 'b...</td>\n",
       "      <td>0</td>\n",
       "    </tr>\n",
       "    <tr>\n",
       "      <th>1</th>\n",
       "      <td>the 'roseanne' revival catches up to our thorn...</td>\n",
       "      <td>0</td>\n",
       "    </tr>\n",
       "    <tr>\n",
       "      <th>2</th>\n",
       "      <td>mom starting to fear son's web series closest ...</td>\n",
       "      <td>1</td>\n",
       "    </tr>\n",
       "    <tr>\n",
       "      <th>3</th>\n",
       "      <td>boehner just wants wife to listen, not come up...</td>\n",
       "      <td>1</td>\n",
       "    </tr>\n",
       "    <tr>\n",
       "      <th>4</th>\n",
       "      <td>j.k. rowling wishes snape happy birthday in th...</td>\n",
       "      <td>0</td>\n",
       "    </tr>\n",
       "  </tbody>\n",
       "</table>\n",
       "</div>"
      ],
      "text/plain": [
       "                                            headline  is_sarcastic\n",
       "0  former versace store clerk sues over secret 'b...             0\n",
       "1  the 'roseanne' revival catches up to our thorn...             0\n",
       "2  mom starting to fear son's web series closest ...             1\n",
       "3  boehner just wants wife to listen, not come up...             1\n",
       "4  j.k. rowling wishes snape happy birthday in th...             0"
      ]
     },
     "execution_count": 30,
     "metadata": {
      "tags": []
     },
     "output_type": "execute_result"
    }
   ],
   "source": [
    "dataset=pd.concat([dataset.headline,dataset.is_sarcastic],axis=1)\n",
    "dataset.dropna(axis=0,inplace=True)  # Si hay alguna nan, tiramos esa instancia\n",
    "dataset.head()"
   ]
  },
  {
   "cell_type": "markdown",
   "metadata": {
    "id": "2BjLpRew6VAa"
   },
   "source": [
    "c. Antes de realizar el proceso de Stemming, vamos a normalizar el texto de la manera que ya estuvimos viendo. Le agregamos en este caso el uso de la libreria `re`, que nos permite sacar del texto todos los caracteres que no sean palabras. Notemos que hay veces que no conviene quitar estos caracteres ya que, por ejemplo, no podremos distiguir preguntas (?) o exclamaciones (!)."
   ]
  },
  {
   "cell_type": "code",
   "execution_count": null,
   "metadata": {
    "id": "8vAJINSU6VAa"
   },
   "outputs": [],
   "source": [
    "# Importamos esta libreria que nos permite reemplzar caracteres\n",
    "import re\n",
    "\n",
    "# Importamos la función que nos permite Stemmizar de nltk y definimos el stemmer\n",
    "from nltk.stem import PorterStemmer\n",
    "stemmer = PorterStemmer()\n",
    "\n",
    "# Traemos nuevamente las stopwords\n",
    "stopwords = nltk.corpus.stopwords.words('english')\n",
    "#stopword.remove('no')\n",
    "#stopword.remove('not')"
   ]
  },
  {
   "cell_type": "code",
   "execution_count": null,
   "metadata": {
    "id": "veD-JbqU6VAb"
   },
   "outputs": [],
   "source": [
    "# Recorremos todos los titulos y le vamos aplicando la Normalizacion y luega el Stemming a cada uno\n",
    "titular_list=[]\n",
    "for titular in dataset.headline:\n",
    "    # Vamos a reemplzar los caracteres que no sean leras por espacios\n",
    "    titular=re.sub(\"[^a-zA-Z]\",\" \",str(titular))\n",
    "    # Pasamos todo a minúsculas\n",
    "    titular=titular.lower()\n",
    "    # Tokenizamos para separar las palabras del titular\n",
    "    titular=nltk.word_tokenize(titular)\n",
    "    # Eliminamos las palabras de menos de 3 letras\n",
    "    titular = [palabra for palabra in titular if len(palabra)>3]\n",
    "    # Sacamos las Stopwords\n",
    "    titular = [palabra for palabra in titular if not palabra in stopwords]\n",
    "    \n",
    "    ## Hasta acá Normalizamos, ahora a stemmizar\n",
    "    \n",
    "    # Aplicamos la funcion para buscar la raiz de las palabras\n",
    "    titular=[stemmer.stem(palabra) for palabra in titular]\n",
    "    # Por ultimo volvemos a unir el titular\n",
    "    titular=\" \".join(titular)\n",
    "    \n",
    "    # Vamos armando una lista con todos los titulares\n",
    "    titular_list.append(titular)\n",
    "    #dataset[\"titular_normalizado\"] = titular_list\n"
   ]
  },
  {
   "cell_type": "markdown",
   "metadata": {
    "id": "dg8qPkky6VAb"
   },
   "source": [
    "d. Agregamos al dataset una columna llamado `titular_stem` que contenga los titulares stemmizados"
   ]
  },
  {
   "cell_type": "code",
   "execution_count": null,
   "metadata": {
    "id": "U_op-KH16VAb",
    "outputId": "3cfcc97b-adab-42c3-e98f-13917ffc0dff"
   },
   "outputs": [
    {
     "data": {
      "text/html": [
       "<div>\n",
       "<style scoped>\n",
       "    .dataframe tbody tr th:only-of-type {\n",
       "        vertical-align: middle;\n",
       "    }\n",
       "\n",
       "    .dataframe tbody tr th {\n",
       "        vertical-align: top;\n",
       "    }\n",
       "\n",
       "    .dataframe thead th {\n",
       "        text-align: right;\n",
       "    }\n",
       "</style>\n",
       "<table border=\"1\" class=\"dataframe\">\n",
       "  <thead>\n",
       "    <tr style=\"text-align: right;\">\n",
       "      <th></th>\n",
       "      <th>headline</th>\n",
       "      <th>is_sarcastic</th>\n",
       "      <th>titular_stem</th>\n",
       "    </tr>\n",
       "  </thead>\n",
       "  <tbody>\n",
       "    <tr>\n",
       "      <th>26704</th>\n",
       "      <td>american politics in moral free-fall</td>\n",
       "      <td>0</td>\n",
       "      <td>american polit moral free fall</td>\n",
       "    </tr>\n",
       "    <tr>\n",
       "      <th>26705</th>\n",
       "      <td>america's best 20 hikes</td>\n",
       "      <td>0</td>\n",
       "      <td>america best hike</td>\n",
       "    </tr>\n",
       "    <tr>\n",
       "      <th>26706</th>\n",
       "      <td>reparations and obama</td>\n",
       "      <td>0</td>\n",
       "      <td>repar obama</td>\n",
       "    </tr>\n",
       "    <tr>\n",
       "      <th>26707</th>\n",
       "      <td>israeli ban targeting boycott supporters raise...</td>\n",
       "      <td>0</td>\n",
       "      <td>isra target boycott support rais alarm abroad</td>\n",
       "    </tr>\n",
       "    <tr>\n",
       "      <th>26708</th>\n",
       "      <td>gourmet gifts for the foodie 2014</td>\n",
       "      <td>0</td>\n",
       "      <td>gourmet gift foodi</td>\n",
       "    </tr>\n",
       "  </tbody>\n",
       "</table>\n",
       "</div>"
      ],
      "text/plain": [
       "                                                headline  is_sarcastic  \\\n",
       "26704               american politics in moral free-fall             0   \n",
       "26705                            america's best 20 hikes             0   \n",
       "26706                              reparations and obama             0   \n",
       "26707  israeli ban targeting boycott supporters raise...             0   \n",
       "26708                  gourmet gifts for the foodie 2014             0   \n",
       "\n",
       "                                        titular_stem  \n",
       "26704                 american polit moral free fall  \n",
       "26705                              america best hike  \n",
       "26706                                    repar obama  \n",
       "26707  isra target boycott support rais alarm abroad  \n",
       "26708                             gourmet gift foodi  "
      ]
     },
     "execution_count": 33,
     "metadata": {
      "tags": []
     },
     "output_type": "execute_result"
    }
   ],
   "source": [
    "dataset[\"titular_stem\"] = titular_list\n",
    "dataset.tail()"
   ]
  },
  {
   "cell_type": "markdown",
   "metadata": {
    "id": "qL7gWUzX6VAb"
   },
   "source": [
    "e. Armamos un nuevo dataset llamado `dataset_stem` que contenga solo las columnas `titular_stem` e `is_sarcastic`"
   ]
  },
  {
   "cell_type": "code",
   "execution_count": null,
   "metadata": {
    "id": "6qUZgUkR6VAc",
    "outputId": "a1bed04a-798d-4a3a-f635-e278b4c2d57b",
    "scrolled": true
   },
   "outputs": [
    {
     "data": {
      "text/html": [
       "<div>\n",
       "<style scoped>\n",
       "    .dataframe tbody tr th:only-of-type {\n",
       "        vertical-align: middle;\n",
       "    }\n",
       "\n",
       "    .dataframe tbody tr th {\n",
       "        vertical-align: top;\n",
       "    }\n",
       "\n",
       "    .dataframe thead th {\n",
       "        text-align: right;\n",
       "    }\n",
       "</style>\n",
       "<table border=\"1\" class=\"dataframe\">\n",
       "  <thead>\n",
       "    <tr style=\"text-align: right;\">\n",
       "      <th></th>\n",
       "      <th>titular_stem</th>\n",
       "      <th>is_sarcastic</th>\n",
       "    </tr>\n",
       "  </thead>\n",
       "  <tbody>\n",
       "    <tr>\n",
       "      <th>0</th>\n",
       "      <td>former versac store clerk sue secret black cod...</td>\n",
       "      <td>0</td>\n",
       "    </tr>\n",
       "    <tr>\n",
       "      <th>1</th>\n",
       "      <td>roseann reviv catch thorni polit mood better wors</td>\n",
       "      <td>0</td>\n",
       "    </tr>\n",
       "    <tr>\n",
       "      <th>2</th>\n",
       "      <td>start fear seri closest thing grandchild</td>\n",
       "      <td>1</td>\n",
       "    </tr>\n",
       "    <tr>\n",
       "      <th>3</th>\n",
       "      <td>boehner want wife listen come altern debt redu...</td>\n",
       "      <td>1</td>\n",
       "    </tr>\n",
       "    <tr>\n",
       "      <th>4</th>\n",
       "      <td>rowl wish snape happi birthday magic</td>\n",
       "      <td>0</td>\n",
       "    </tr>\n",
       "  </tbody>\n",
       "</table>\n",
       "</div>"
      ],
      "text/plain": [
       "                                        titular_stem  is_sarcastic\n",
       "0  former versac store clerk sue secret black cod...             0\n",
       "1  roseann reviv catch thorni polit mood better wors             0\n",
       "2           start fear seri closest thing grandchild             1\n",
       "3  boehner want wife listen come altern debt redu...             1\n",
       "4               rowl wish snape happi birthday magic             0"
      ]
     },
     "execution_count": 34,
     "metadata": {
      "tags": []
     },
     "output_type": "execute_result"
    }
   ],
   "source": [
    "dataset_stem=pd.concat([dataset.titular_stem,dataset.is_sarcastic],axis=1)\n",
    "dataset_stem.dropna(axis=0,inplace=True)  # Por si quedaron titulares vacios\n",
    "dataset_stem.head()"
   ]
  },
  {
   "cell_type": "markdown",
   "metadata": {
    "id": "KtmkIXOb6VAc"
   },
   "source": [
    "## 5. Lemmatization\n",
    "\n",
    "Otra manera de llevar distintas palabras a un raíz común en la que comparten un significado es mediante el procezo de 'Lemmatizar' el texto. Es similar al 'Stemming' pero un poco más educado, ya que intenta realizar el proceso teniendo en cuenta cuál es el rol que la palabra cumple en el texto. Esto quiere decir que su accionar será distinto si la palabra a lemmantizar está actuando como verbo, sustantivo, etc. \n",
    "\n",
    "Para usar las funciones que ofrece `nltk` para lemmantizar, tendremos primero que descargar la libreria `Wordnet` que se encuentra en la solapa 'corpora' y las librerias 'maxent_treebank_pos_' y 'averaged_perceptron_tagger' que se encuentra en la solapa 'Models'. Para eso ejecute la siguiente celda:"
   ]
  },
  {
   "cell_type": "code",
   "execution_count": null,
   "metadata": {
    "id": "02aeiMzp6VAd",
    "outputId": "fa725247-eb84-4d6c-eae4-9eaca127d2d8"
   },
   "outputs": [
    {
     "name": "stdout",
     "output_type": "stream",
     "text": [
      "showing info https://raw.githubusercontent.com/nltk/nltk_data/gh-pages/index.xml\n"
     ]
    },
    {
     "data": {
      "text/plain": [
       "True"
      ]
     },
     "execution_count": 35,
     "metadata": {
      "tags": []
     },
     "output_type": "execute_result"
    }
   ],
   "source": [
    "nltk.download()"
   ]
  },
  {
   "cell_type": "code",
   "execution_count": null,
   "metadata": {
    "id": "v25uZQK_6VAd"
   },
   "outputs": [],
   "source": [
    "# Importamos esta libreria que nos permite reemplzar caracteres\n",
    "import re\n",
    "\n",
    "# Importamos el lemmatizar de NLTK, y creamos el objeto\n",
    "from nltk.stem import WordNetLemmatizer\n",
    "wordnet_lemmatizer = WordNetLemmatizer()"
   ]
  },
  {
   "cell_type": "markdown",
   "metadata": {
    "id": "N5NwjIVj6VAe"
   },
   "source": [
    "Veamos cómo actúa el lemmatizer sobre una frase de ejemplo."
   ]
  },
  {
   "cell_type": "code",
   "execution_count": null,
   "metadata": {
    "id": "i9PypZII6VAe",
    "outputId": "9164a028-717c-4aff-d7c4-cda45dd52cd6"
   },
   "outputs": [
    {
     "name": "stdout",
     "output_type": "stream",
     "text": [
      "Word                Lemma               \n",
      "he                  he                  \n",
      "was                 wa                  \n",
      "running             running             \n",
      "and                 and                 \n",
      "eating              eating              \n",
      "at                  at                  \n",
      "same                same                \n",
      "time                time                \n",
      "he                  he                  \n",
      "has                 ha                  \n",
      "bad                 bad                 \n",
      "habit               habit               \n",
      "of                  of                  \n",
      "swimming            swimming            \n",
      "after               after               \n",
      "playing             playing             \n",
      "long                long                \n",
      "hours               hour                \n",
      "in                  in                  \n",
      "the                 the                 \n",
      "sun                 sun                 \n"
     ]
    }
   ],
   "source": [
    "# Oracion que usaremos como ejemplo\n",
    "frase = \"He was running and eating at same time. He has bad habit of swimming after playing long hours in the Sun.\"\n",
    "\n",
    "# Hay que regularizar el texto. Dejar solo letra, pasar a minúsculas y tokenizar:\n",
    "\n",
    "# Sacamos todo lo que no sean letras\n",
    "frase = re.sub(\"[^a-zA-Z]\",\" \",str(frase))\n",
    "# Pasamos a minúsculas\n",
    "frase = frase.lower()\n",
    "# Tokenizamos\n",
    "frase_tokens = nltk.word_tokenize(frase)\n",
    "\n",
    "# Veamos como cambians las palabras al lemmatizar\n",
    "print(\"{0:20}{1:20}\".format(\"Word\",\"Lemma\"))\n",
    "for palabra in frase_tokens:\n",
    "    print (\"{0:20}{1:20}\".format(palabra,wordnet_lemmatizer.lemmatize(palabra)))"
   ]
  },
  {
   "cell_type": "markdown",
   "metadata": {
    "id": "3-GKQrez6VAf"
   },
   "source": [
    "¿Te sorprende lo que paso? No cambiaron casi nada (solo se fueron las \"s\" del final). El problema es que precisamos darle información extra al Lemmatizer, decirle qué rol está cumpliendo la palabra en la oración. Si se fijan en la documentación, esto se hace pasandole un argumento extra a la función llamado POS (Part Of Speech).\n",
    "\n",
    "Hay distintos metodos que intentan averiguar el rol que cumple una palabra en una oración. Nosotros vamos a utilizar uno que viene incorporado en NLTK llamado pos_tag."
   ]
  },
  {
   "cell_type": "code",
   "execution_count": null,
   "metadata": {
    "id": "V5ZyD8T76VAf",
    "outputId": "11aa2a2c-9e90-43df-cbe9-24ba670d55e4"
   },
   "outputs": [
    {
     "name": "stdout",
     "output_type": "stream",
     "text": [
      "[('he', 'PRP'), ('was', 'VBD'), ('running', 'VBG'), ('and', 'CC'), ('eating', 'VBG'), ('at', 'IN'), ('same', 'JJ'), ('time', 'NN'), ('he', 'PRP'), ('has', 'VBZ'), ('bad', 'JJ'), ('habit', 'NN'), ('of', 'IN'), ('swimming', 'NN'), ('after', 'IN'), ('playing', 'VBG'), ('long', 'JJ'), ('hours', 'NNS'), ('in', 'IN'), ('the', 'DT'), ('sun', 'NN')]\n"
     ]
    }
   ],
   "source": [
    "print(nltk.pos_tag(frase_tokens))"
   ]
  },
  {
   "cell_type": "markdown",
   "metadata": {
    "id": "0XGThYbp6VAg"
   },
   "source": [
    "Las etiquetas refieren al tipo de palabra. Vamos a definir una función para traducir estas etiquetas a los valores de POS que entiende `wordnet_lemmatizer`."
   ]
  },
  {
   "cell_type": "code",
   "execution_count": null,
   "metadata": {
    "id": "R3-bU7mu6VAg"
   },
   "outputs": [],
   "source": [
    "from nltk.corpus import wordnet\n",
    "\n",
    "def get_wordnet_pos(word):\n",
    "    \"\"\"Map POS tag to first character lemmatize() accepts\"\"\"\n",
    "    tag = nltk.pos_tag([word])[0][1][0].upper()\n",
    "    tag_dict = {\"J\": wordnet.ADJ,\n",
    "                \"N\": wordnet.NOUN,\n",
    "                \"V\": wordnet.VERB,\n",
    "                \"R\": wordnet.ADV}\n",
    "\n",
    "    return tag_dict.get(tag, wordnet.NOUN)"
   ]
  },
  {
   "cell_type": "markdown",
   "metadata": {
    "id": "NF0Se71O6VAg"
   },
   "source": [
    "Veamos finalmente como funciona en nuestro ejemplo."
   ]
  },
  {
   "cell_type": "code",
   "execution_count": null,
   "metadata": {
    "id": "aEY7R4jh6VAh",
    "outputId": "63083618-7417-4e5c-f0b7-d50ffb77ad3c"
   },
   "outputs": [
    {
     "name": "stdout",
     "output_type": "stream",
     "text": [
      "Palabra:            Tipo:               Lemma:              \n",
      "he                  n                   he                  \n",
      "was                 v                   be                  \n",
      "running             v                   run                 \n",
      "and                 n                   and                 \n",
      "eating              v                   eat                 \n",
      "at                  n                   at                  \n",
      "same                a                   same                \n",
      "time                n                   time                \n",
      "he                  n                   he                  \n",
      "has                 v                   have                \n",
      "bad                 a                   bad                 \n",
      "habit               n                   habit               \n",
      "of                  n                   of                  \n",
      "swimming            v                   swim                \n",
      "after               n                   after               \n",
      "playing             v                   play                \n",
      "long                r                   long                \n",
      "hours               n                   hour                \n",
      "in                  n                   in                  \n",
      "the                 n                   the                 \n",
      "sun                 n                   sun                 \n"
     ]
    }
   ],
   "source": [
    "frase_lemma = [wordnet_lemmatizer.lemmatize(w, get_wordnet_pos(w)) for w in nltk.word_tokenize(frase)]\n",
    "tipo_palabra = [get_wordnet_pos(w) for w in nltk.word_tokenize(frase)]\n",
    "\n",
    "# Veamos como cambiaron las palabras\n",
    "print(\"{0:20}{1:20}{2:20}\".format(\"Palabra:\",\"Tipo:\",\"Lemma:\"))\n",
    "for i in range(len(frase_tokens)):\n",
    "    print (\"{0:20}{1:20}{2:20}\".format(frase_tokens[i],tipo_palabra[i],frase_lemma[i]))"
   ]
  },
  {
   "cell_type": "markdown",
   "metadata": {
    "id": "0sxElIm26VAh"
   },
   "source": [
    "a. Ahora te toca aplicar todo esto a nuestro dataset. Vamos a volver a importarlo y hacer un procedimiento análogo al que hicimos para la parte de Stemming."
   ]
  },
  {
   "cell_type": "code",
   "execution_count": null,
   "metadata": {
    "id": "9rmpIC216VAh"
   },
   "outputs": [],
   "source": [
    "# Importamos el lemmatizar de NLTK, y creamos el objeto\n",
    "from nltk.stem import WordNetLemmatizer\n",
    "wordnet_lemmatizer = WordNetLemmatizer()\n",
    "\n",
    "# Importamos esta libreria que nos permite reemplzar caracteres\n",
    "import re\n",
    "\n",
    "dataset = pd.read_json('DS_Bitácora_39_40_Sarcasm_Headlines_Dataset.json', lines= True)\n",
    "dataset = pd.concat([dataset.headline,dataset.is_sarcastic],axis=1)\n",
    "dataset.dropna(axis=0,inplace=True)\n",
    "\n",
    "# Traemos nuevamente las stopwords\n",
    "stopwords = nltk.corpus.stopwords.words('english')\n",
    "#stopword.remove('no')\n",
    "#stopword.remove('not')"
   ]
  },
  {
   "cell_type": "code",
   "execution_count": null,
   "metadata": {
    "id": "OMybGzIJ6VAi"
   },
   "outputs": [],
   "source": [
    "titular_list=[]\n",
    "for titular in dataset.headline:\n",
    "    # Vamos a reemplzar los caracteres que no sean leras por espacios\n",
    "    titular=re.sub(\"[^a-zA-Z]\",\" \",str(titular))\n",
    "    # Pasamos todo a minúsculas\n",
    "    titular=titular.lower()\n",
    "    # Tokenizamos para separar las palabras\n",
    "    titular=nltk.word_tokenize(titular)\n",
    "    \n",
    "    # Aplicamos el Lemmatizer (Esto puede tardar un ratito)\n",
    "    frase_lemma = [wordnet_lemmatizer.lemmatize(w, get_wordnet_pos(w)) for w in titular]\n",
    "    \n",
    "    \n",
    "    # Eliminamos las palabras d emenos de 3 letras\n",
    "    titular = [palabra for palabra in titular if len(palabra)>3]\n",
    "    # Sacamos las Stopwords\n",
    "    titular = [palabra for palabra in titular if not palabra in stopwords]\n",
    "    \n",
    "    # Por ultimo volvemos a unir el titular\n",
    "    titular=\" \".join(titular)\n",
    "    #dataset[\"titular_normalizado\"] = titular_list\n",
    "    titular_list.append(titular)"
   ]
  },
  {
   "cell_type": "code",
   "execution_count": null,
   "metadata": {
    "id": "FeG8HUMh6VAi",
    "outputId": "62b8fe82-f912-4d63-939c-f56d2084ad16"
   },
   "outputs": [
    {
     "data": {
      "text/html": [
       "<div>\n",
       "<style scoped>\n",
       "    .dataframe tbody tr th:only-of-type {\n",
       "        vertical-align: middle;\n",
       "    }\n",
       "\n",
       "    .dataframe tbody tr th {\n",
       "        vertical-align: top;\n",
       "    }\n",
       "\n",
       "    .dataframe thead th {\n",
       "        text-align: right;\n",
       "    }\n",
       "</style>\n",
       "<table border=\"1\" class=\"dataframe\">\n",
       "  <thead>\n",
       "    <tr style=\"text-align: right;\">\n",
       "      <th></th>\n",
       "      <th>headline</th>\n",
       "      <th>is_sarcastic</th>\n",
       "      <th>titular_lemm</th>\n",
       "    </tr>\n",
       "  </thead>\n",
       "  <tbody>\n",
       "    <tr>\n",
       "      <th>26704</th>\n",
       "      <td>american politics in moral free-fall</td>\n",
       "      <td>0</td>\n",
       "      <td>american politics moral free fall</td>\n",
       "    </tr>\n",
       "    <tr>\n",
       "      <th>26705</th>\n",
       "      <td>america's best 20 hikes</td>\n",
       "      <td>0</td>\n",
       "      <td>america best hikes</td>\n",
       "    </tr>\n",
       "    <tr>\n",
       "      <th>26706</th>\n",
       "      <td>reparations and obama</td>\n",
       "      <td>0</td>\n",
       "      <td>reparations obama</td>\n",
       "    </tr>\n",
       "    <tr>\n",
       "      <th>26707</th>\n",
       "      <td>israeli ban targeting boycott supporters raise...</td>\n",
       "      <td>0</td>\n",
       "      <td>israeli targeting boycott supporters raises al...</td>\n",
       "    </tr>\n",
       "    <tr>\n",
       "      <th>26708</th>\n",
       "      <td>gourmet gifts for the foodie 2014</td>\n",
       "      <td>0</td>\n",
       "      <td>gourmet gifts foodie</td>\n",
       "    </tr>\n",
       "  </tbody>\n",
       "</table>\n",
       "</div>"
      ],
      "text/plain": [
       "                                                headline  is_sarcastic  \\\n",
       "26704               american politics in moral free-fall             0   \n",
       "26705                            america's best 20 hikes             0   \n",
       "26706                              reparations and obama             0   \n",
       "26707  israeli ban targeting boycott supporters raise...             0   \n",
       "26708                  gourmet gifts for the foodie 2014             0   \n",
       "\n",
       "                                            titular_lemm  \n",
       "26704                  american politics moral free fall  \n",
       "26705                                 america best hikes  \n",
       "26706                                  reparations obama  \n",
       "26707  israeli targeting boycott supporters raises al...  \n",
       "26708                               gourmet gifts foodie  "
      ]
     },
     "execution_count": 43,
     "metadata": {
      "tags": []
     },
     "output_type": "execute_result"
    }
   ],
   "source": [
    "dataset[\"titular_lemm\"] = titular_list\n",
    "dataset.tail()"
   ]
  },
  {
   "cell_type": "markdown",
   "metadata": {
    "id": "ZQjOmvMQ6VAi"
   },
   "source": [
    "b. Por último nos armamos un nuevo datasate llamado `dataset_lem` que tenga solo las columnas `titular_lemm` y `is_sarcastic`."
   ]
  },
  {
   "cell_type": "code",
   "execution_count": null,
   "metadata": {
    "id": "ap4Bm8Rk6VAj",
    "outputId": "a4e5380f-2f6b-4a81-ce76-70e0790ec0ec"
   },
   "outputs": [
    {
     "data": {
      "text/html": [
       "<div>\n",
       "<style scoped>\n",
       "    .dataframe tbody tr th:only-of-type {\n",
       "        vertical-align: middle;\n",
       "    }\n",
       "\n",
       "    .dataframe tbody tr th {\n",
       "        vertical-align: top;\n",
       "    }\n",
       "\n",
       "    .dataframe thead th {\n",
       "        text-align: right;\n",
       "    }\n",
       "</style>\n",
       "<table border=\"1\" class=\"dataframe\">\n",
       "  <thead>\n",
       "    <tr style=\"text-align: right;\">\n",
       "      <th></th>\n",
       "      <th>titular_lemm</th>\n",
       "      <th>is_sarcastic</th>\n",
       "    </tr>\n",
       "  </thead>\n",
       "  <tbody>\n",
       "    <tr>\n",
       "      <th>0</th>\n",
       "      <td>former versace store clerk sues secret black c...</td>\n",
       "      <td>0</td>\n",
       "    </tr>\n",
       "    <tr>\n",
       "      <th>1</th>\n",
       "      <td>roseanne revival catches thorny political mood...</td>\n",
       "      <td>0</td>\n",
       "    </tr>\n",
       "    <tr>\n",
       "      <th>2</th>\n",
       "      <td>starting fear series closest thing grandchild</td>\n",
       "      <td>1</td>\n",
       "    </tr>\n",
       "    <tr>\n",
       "      <th>3</th>\n",
       "      <td>boehner wants wife listen come alternative deb...</td>\n",
       "      <td>1</td>\n",
       "    </tr>\n",
       "    <tr>\n",
       "      <th>4</th>\n",
       "      <td>rowling wishes snape happy birthday magical</td>\n",
       "      <td>0</td>\n",
       "    </tr>\n",
       "  </tbody>\n",
       "</table>\n",
       "</div>"
      ],
      "text/plain": [
       "                                        titular_lemm  is_sarcastic\n",
       "0  former versace store clerk sues secret black c...             0\n",
       "1  roseanne revival catches thorny political mood...             0\n",
       "2      starting fear series closest thing grandchild             1\n",
       "3  boehner wants wife listen come alternative deb...             1\n",
       "4        rowling wishes snape happy birthday magical             0"
      ]
     },
     "execution_count": 44,
     "metadata": {
      "tags": []
     },
     "output_type": "execute_result"
    }
   ],
   "source": [
    "dataset_lemm = pd.concat([dataset.titular_lemm,dataset.is_sarcastic],axis=1)\n",
    "dataset_lemm.dropna(axis=0,inplace=True)  # Por si quedaron titulares vacios\n",
    "dataset_lemm.head()"
   ]
  },
  {
   "cell_type": "markdown",
   "metadata": {
    "id": "_klIKmq56VAj"
   },
   "source": [
    "**Para mirar**: toma algunos titulares al azar y compara su versión `dataset_lemm` y en `dataset_stem`. Explica.\n",
    "\n",
    "## 6. Vectorizar\n",
    "\n",
    "Hasta ahora, tenemos un grupo de palabras por cada titular (bag of words), ya sea *lemmatizado* o *stemmizado*. ¿Te parece que esto servirá para entrenar modelos? La idea ahora es representar esta lista de palabras como un vector. Para esto vamos a utilizar la función `CountVectorizer` de Scikit-Learn. Esta función nos permite representar cada título por un vector con un `1` en las palabras que contiene y un `0` en las que no. Además, vamos a trabajar únicamente con las palabras que aparecen más veces en el texto, ya que las que aparecen una única vez o pocas veces no nos van a brindar información que se pueda generalizar.\n",
    "\n",
    "a. Tomamos la lista de palabras y el vector que nos dice si es o no sarcástico el título"
   ]
  },
  {
   "cell_type": "code",
   "execution_count": null,
   "metadata": {
    "id": "cy7fGlFI6VAj"
   },
   "outputs": [],
   "source": [
    "# Tomamso la lista de palabras y el vector que nos dice si es o no sarcastico el titulo\n",
    "list_titulos = list(dataset_lemm['titular_lemm'].values)\n",
    "is_sarc = dataset_lemm['is_sarcastic'].values\n",
    "\n",
    "## Para probar con Stemmizer:\n",
    "#list_titulos = list(dataset_stem'titular_stem'].values)\n",
    "#is_sarc = dataset_stem['is_sarcastic'].values"
   ]
  },
  {
   "cell_type": "markdown",
   "metadata": {
    "id": "UTJ0a6an6VAj"
   },
   "source": [
    "b. Preparamos el conversor de bag of words a vectores que traemos de sklearn. `CountVectorizer` posee varias funcionalidades que pueden determinarse a partir de parámetros. Les recomendamos fuertemente leer su documentación."
   ]
  },
  {
   "cell_type": "code",
   "execution_count": null,
   "metadata": {
    "id": "vEBO2grb6VAk"
   },
   "outputs": [],
   "source": [
    "from sklearn.feature_extraction.text import CountVectorizer\n",
    "\n",
    "# Usaremos solo las 1000 palabras con mas frecuencia en todo el corpus para generar los vectores\n",
    "max_features=1000\n",
    "\n",
    "# Es decir que cada instancia tendrá 1000 features\n",
    "cou_vec=CountVectorizer(max_features=max_features) # stop_words=\"english\" , ngram_range=(1, 2)"
   ]
  },
  {
   "cell_type": "markdown",
   "metadata": {
    "id": "peVldlrH6VAk"
   },
   "source": [
    "Notemos que desde `CountVectorizer` se pueden quitar las stopwords (algo que ya hicimos con `nltk`) e incluir los n_gramas automáticamente.\n",
    "\n",
    "c. Ahora sí, vamos generarnos los vectores para cada título a partir del corpus total."
   ]
  },
  {
   "cell_type": "code",
   "execution_count": null,
   "metadata": {
    "id": "qTnApBMt6VAk",
    "outputId": "2fc796c0-4cd4-410e-e2fb-ba3968defef4"
   },
   "outputs": [
    {
     "name": "stdout",
     "output_type": "stream",
     "text": [
      "50 palabras mas usadas:  ['abortion', 'abuse', 'accidentally', 'according', 'accused', 'across', 'action', 'activists', 'actor', 'actually', 'address', 'adds', 'administration', 'admits', 'adorable', 'advice', 'afghanistan', 'ahead', 'airport', 'album', 'allegations', 'almost', 'already', 'also', 'always', 'amazing', 'amazon', 'america', 'american', 'americans', 'amid', 'among', 'anniversary', 'announce', 'announces', 'another', 'anti', 'anyone', 'anything', 'apartment', 'apologizes', 'apparently', 'apple', 'archives', 'area', 'around', 'arrested', 'artist', 'asked', 'asking']\n"
     ]
    }
   ],
   "source": [
    "matriz_titulos = cou_vec.fit_transform(list_titulos)\n",
    "\n",
    "# Tomamos las palabras\n",
    "all_words = cou_vec.get_feature_names()\n",
    "\n",
    "# Vizualizamos las 50 palabras mas usadas\n",
    "print(\"50 palabras mas usadas: \",all_words[0:50])"
   ]
  },
  {
   "cell_type": "markdown",
   "metadata": {
    "id": "bjMKHxjs6VAk"
   },
   "source": [
    "## 7. Modelar\n",
    "\n",
    "Ahora sí estamos listos para usar todo nuestro conocimiento de modelos en este set de datos. Tengamos en cuenta que, dependiendo el número de palabras (features) que hayamos elegido, los modelos pueden tardar un rato en entrenarse.\n",
    "\n",
    "a. Primero, como siempre, separamos en test y train."
   ]
  },
  {
   "cell_type": "code",
   "execution_count": null,
   "metadata": {
    "id": "OlGOVHT26VAl"
   },
   "outputs": [],
   "source": [
    "x = matriz_titulos.toarray()\n",
    "y = is_sarc\n",
    "\n",
    "from sklearn.model_selection import train_test_split\n",
    "xtrain, xtest, ytrain, ytest = train_test_split(x,y,test_size=0.2,random_state=42,stratify=y)"
   ]
  },
  {
   "cell_type": "markdown",
   "metadata": {
    "id": "Z1NJiLZI6VAl"
   },
   "source": [
    "Tambien definimos una función que nos permite plotear los resultados en una matriz de confusión."
   ]
  },
  {
   "cell_type": "code",
   "execution_count": null,
   "metadata": {
    "id": "sScscC1O6VAl"
   },
   "outputs": [],
   "source": [
    "from sklearn.metrics import confusion_matrix\n",
    "import seaborn as sns\n",
    "\n",
    "def confusion(ytest,y_pred):\n",
    "    names=[\"No Sarcastico\",\"Sarcastico\"]\n",
    "    cm=confusion_matrix(ytest,y_pred)\n",
    "    f,ax=plt.subplots(figsize=(5,5))\n",
    "    sns.heatmap(cm,annot=True,linewidth=.5,linecolor=\"r\",fmt=\".0f\",ax=ax)\n",
    "    plt.xlabel(\"y_pred\")\n",
    "    plt.ylabel(\"y_true\")\n",
    "    ax.set_xticklabels(names)\n",
    "    ax.set_yticklabels(names)\n",
    "    plt.show()\n",
    "\n",
    "    return"
   ]
  },
  {
   "cell_type": "markdown",
   "metadata": {
    "id": "RvYvSRna6VAm"
   },
   "source": [
    "### Naive Bayes\n",
    "a. Empecemos por un simple Naive Bayes para tener un benchmark de referencia para el accuracy."
   ]
  },
  {
   "cell_type": "code",
   "execution_count": 1,
   "metadata": {
    "colab": {
     "base_uri": "https://localhost:8080/",
     "height": 227
    },
    "executionInfo": {
     "elapsed": 1265,
     "status": "error",
     "timestamp": 1625090021247,
     "user": {
      "displayName": "Chelsy Mena",
      "photoUrl": "https://lh3.googleusercontent.com/a-/AOh14GjfFKc9D0N9FMLQjFYOzcagZnb46unzeqBdjtyXwKQ=s64",
      "userId": "13760676585952075293"
     },
     "user_tz": 300
    },
    "id": "EBys3EhM6VAn",
    "outputId": "3b4237ef-3e09-47e4-88ab-7f210191ad27"
   },
   "outputs": [
    {
     "ename": "NameError",
     "evalue": "ignored",
     "output_type": "error",
     "traceback": [
      "\u001b[0;31m---------------------------------------------------------------------------\u001b[0m",
      "\u001b[0;31mNameError\u001b[0m                                 Traceback (most recent call last)",
      "\u001b[0;32m<ipython-input-1-996dfb87f0bc>\u001b[0m in \u001b[0;36m<module>\u001b[0;34m()\u001b[0m\n\u001b[1;32m      1\u001b[0m \u001b[0;32mfrom\u001b[0m \u001b[0msklearn\u001b[0m\u001b[0;34m.\u001b[0m\u001b[0mnaive_bayes\u001b[0m \u001b[0;32mimport\u001b[0m \u001b[0mGaussianNB\u001b[0m\u001b[0;34m\u001b[0m\u001b[0;34m\u001b[0m\u001b[0m\n\u001b[1;32m      2\u001b[0m \u001b[0mnb\u001b[0m \u001b[0;34m=\u001b[0m \u001b[0mGaussianNB\u001b[0m\u001b[0;34m(\u001b[0m\u001b[0;34m)\u001b[0m\u001b[0;34m\u001b[0m\u001b[0;34m\u001b[0m\u001b[0m\n\u001b[0;32m----> 3\u001b[0;31m \u001b[0mnb\u001b[0m\u001b[0;34m.\u001b[0m\u001b[0mfit\u001b[0m\u001b[0;34m(\u001b[0m\u001b[0mxtrain\u001b[0m\u001b[0;34m,\u001b[0m\u001b[0mytrain\u001b[0m\u001b[0;34m)\u001b[0m\u001b[0;34m\u001b[0m\u001b[0;34m\u001b[0m\u001b[0m\n\u001b[0m\u001b[1;32m      4\u001b[0m \u001b[0mprint\u001b[0m\u001b[0;34m(\u001b[0m\u001b[0;34m\"acc : \"\u001b[0m\u001b[0;34m,\u001b[0m \u001b[0mnb\u001b[0m\u001b[0;34m.\u001b[0m\u001b[0mscore\u001b[0m\u001b[0;34m(\u001b[0m\u001b[0mxtest\u001b[0m\u001b[0;34m,\u001b[0m\u001b[0mytest\u001b[0m\u001b[0;34m)\u001b[0m\u001b[0;34m)\u001b[0m\u001b[0;34m\u001b[0m\u001b[0;34m\u001b[0m\u001b[0m\n",
      "\u001b[0;31mNameError\u001b[0m: name 'xtrain' is not defined"
     ]
    }
   ],
   "source": [
    "from sklearn.naive_bayes import GaussianNB\n",
    "nb = GaussianNB()\n",
    "nb.fit(xtrain,ytrain)\n",
    "print(\"acc : \", nb.score(xtest,ytest))"
   ]
  },
  {
   "cell_type": "markdown",
   "metadata": {
    "id": "spA84_8Y6VAn"
   },
   "source": [
    "b. Veamos cómo queda graficada la matriz de confusión:"
   ]
  },
  {
   "cell_type": "code",
   "execution_count": null,
   "metadata": {
    "executionInfo": {
     "elapsed": 6,
     "status": "aborted",
     "timestamp": 1625090021245,
     "user": {
      "displayName": "Chelsy Mena",
      "photoUrl": "https://lh3.googleusercontent.com/a-/AOh14GjfFKc9D0N9FMLQjFYOzcagZnb46unzeqBdjtyXwKQ=s64",
      "userId": "13760676585952075293"
     },
     "user_tz": 300
    },
    "id": "cstJNETY6VAn"
   },
   "outputs": [],
   "source": [
    "y_pred=nb.predict(xtest)\n",
    "confusion(ytest,y_pred)"
   ]
  },
  {
   "cell_type": "markdown",
   "metadata": {
    "id": "sDaHn9mO6VAo"
   },
   "source": [
    "### Random Forest\n",
    "a. Veamos cómo funciona un random forest para predecir el sarcasmo de una nota en base a su titular."
   ]
  },
  {
   "cell_type": "code",
   "execution_count": null,
   "metadata": {
    "id": "WFy1l2EV6VAo",
    "outputId": "7ba09e68-6839-4882-aba6-1f7c63528c5f"
   },
   "outputs": [
    {
     "name": "stdout",
     "output_type": "stream",
     "text": [
      "acc:  0.7134032197678772\n"
     ]
    }
   ],
   "source": [
    "from sklearn.ensemble import RandomForestClassifier\n",
    "from sklearn.metrics import confusion_matrix\n",
    "\n",
    "rf = RandomForestClassifier(n_estimators = 50, random_state=42)\n",
    "rf.fit(xtrain,ytrain)\n",
    "print(\"acc: \",rf.score(xtest,ytest))"
   ]
  },
  {
   "cell_type": "markdown",
   "metadata": {
    "id": "Nfi6ERm_6VAo"
   },
   "source": [
    "b. Grafiquen su matriz de confusión:"
   ]
  },
  {
   "cell_type": "code",
   "execution_count": null,
   "metadata": {
    "id": "hNVbFtlO6VAo",
    "outputId": "b56f8f28-7716-4698-9539-9a97d382b26a"
   },
   "outputs": [
    {
     "data": {
      "image/png": "[encoded data removed]",
      "text/plain": [
       "<Figure size 360x360 with 2 Axes>"
      ]
     },
     "metadata": {
      "tags": []
     },
     "output_type": "display_data"
    }
   ],
   "source": [
    "y_pred=rf.predict(xtest)\n",
    "confusion(ytest,y_pred)"
   ]
  },
  {
   "cell_type": "markdown",
   "metadata": {
    "id": "cDNS14P-6VAp"
   },
   "source": [
    "c. Habíamos dicho que algo muy bueno de Random Forest era poder preguntarle por la importancia de los features que uso para clasificar. Veamos en este caso cuales son las palabras que mayormente determinan el sarcasmo de una nota para este clasificador."
   ]
  },
  {
   "cell_type": "code",
   "execution_count": null,
   "metadata": {
    "id": "2b0QIbeH6VAp",
    "outputId": "e65fafcd-4c2b-4dd5-a3b0-79c51c7661c1"
   },
   "outputs": [
    {
     "data": {
      "image/png": "[encoded data removed]",
      "text/plain": [
       "<Figure size 1080x576 with 1 Axes>"
      ]
     },
     "metadata": {
      "tags": []
     },
     "output_type": "display_data"
    }
   ],
   "source": [
    "# Le preguntamos la importancia de cada feature (cada palabra)\n",
    "importances = rf.feature_importances_\n",
    "# Tomamos la lista de palabras\n",
    "all_words = cou_vec.get_feature_names()\n",
    "columns = all_words\n",
    "\n",
    "# Ordenamos por importnacia y tomamos las 20 primeras\n",
    "indices = np.argsort(importances)[::-1]\n",
    "indices = indices[:20]\n",
    "selected_columns = [columns[i] for i in indices]\n",
    "selected_importances = importances[indices]\n",
    "\n",
    "# Por ultimo graficamos\n",
    "plt.figure(figsize = (15,8))\n",
    "sns.barplot(selected_columns, selected_importances)\n",
    "plt.show()"
   ]
  },
  {
   "cell_type": "markdown",
   "metadata": {
    "id": "xhCfBcpZ6VAp"
   },
   "source": [
    "### SVM\n",
    "Por último vamos a utilizar uno de los modelos mas prometedores para este tipo de datos donde el numero de features es comparable al número de instancias: SVM."
   ]
  },
  {
   "cell_type": "markdown",
   "metadata": {
    "id": "HKbMImXu6VAp"
   },
   "source": [
    "a. Entrene un modelo de SVM Lineal y calcule su accuracy para C = 1."
   ]
  },
  {
   "cell_type": "code",
   "execution_count": null,
   "metadata": {
    "id": "4QqmbbqP6VAp",
    "outputId": "adb3b50c-9162-4f7b-cc73-849d7ff11f18"
   },
   "outputs": [
    {
     "data": {
      "text/plain": [
       "0.729127667540247"
      ]
     },
     "execution_count": 55,
     "metadata": {
      "tags": []
     },
     "output_type": "execute_result"
    }
   ],
   "source": [
    "# Notar que en vez de utilizar SVC, vamos a usar LinearSVC. \n",
    "# Para el Kernel Lineal, esta función es MUCHO mas rapida que la tradicional SVC.\n",
    "from sklearn.svm import LinearSVC\n",
    "\n",
    "svc = LinearSVC(C = 1)\n",
    "svc.fit(xtrain,ytrain)\n",
    "svc.score(xtest,ytest)"
   ]
  },
  {
   "cell_type": "markdown",
   "metadata": {
    "id": "x_8nvMXR6VAq"
   },
   "source": [
    "b. Grafiquen su matrz de confusión:"
   ]
  },
  {
   "cell_type": "code",
   "execution_count": null,
   "metadata": {
    "id": "oPLzuRDh6VAq",
    "outputId": "977bae5b-0f39-4169-f10d-3521785b978a"
   },
   "outputs": [
    {
     "data": {
      "image/png": "[encoded data removed]",
      "text/plain": [
       "<Figure size 360x360 with 2 Axes>"
      ]
     },
     "metadata": {
      "tags": []
     },
     "output_type": "display_data"
    }
   ],
   "source": [
    "y_pred=svc.predict(xtest)\n",
    "confusion(ytest,y_pred)"
   ]
  },
  {
   "cell_type": "markdown",
   "metadata": {
    "id": "D2m97Pcm6VAq"
   },
   "source": [
    "## 7. Explora las posibilidades\n",
    "\n",
    "Si llegaste hasta acá, ya cuentas con todas las herramientas para poder explorar qué sucede con el poder predictivo cuando van cambiando la manera en que procesas y vectorizas el texto. Algunas sugerencias para explorar son las siguientes:\n",
    "\n",
    "1. Prueba con Stemmizar en vez de lemmantizar\n",
    "1. Cambia el numero de features que esta tomando.\n",
    "1. Prueba con TF-IDF.\n",
    "1. Incluye los 2-gramas. ¿Qué era eso?\n",
    "1. Conserve los signos de exclamación y pregunta del texto.\n"
   ]
  },
  {
   "cell_type": "code",
   "execution_count": null,
   "metadata": {
    "id": "u80rQiq46VAr"
   },
   "outputs": [],
   "source": []
  }
 ],
 "metadata": {
  "colab": {
   "name": "DS_Bitácora_39_y_40_NLP.ipynb",
   "provenance": []
  },
  "kernelspec": {
   "display_name": "Python 3",
   "language": "python",
   "name": "python3"
  },
  "language_info": {
   "codemirror_mode": {
    "name": "ipython",
    "version": 3
   },
   "file_extension": ".py",
   "mimetype": "text/x-python",
   "name": "python",
   "nbconvert_exporter": "python",
   "pygments_lexer": "ipython3",
   "version": "3.8.8"
  }
 },
 "nbformat": 4,
 "nbformat_minor": 1
}
