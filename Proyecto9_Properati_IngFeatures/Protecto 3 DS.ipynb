{
 "cells": [
  {
   "cell_type": "code",
   "execution_count": null,
   "id": "genuine-jungle",
   "metadata": {},
   "outputs": [],
   "source": []
  },
  {
   "cell_type": "markdown",
   "id": "attractive-extreme",
   "metadata": {},
   "source": [
    "# Resumen del proyecto\n",
    "Aplica transformación de datos y entrena Modelos Avanzados para desarrollar con mayor profundidad tu modelo de Machine Learning. ¿Qué puedes aprender del problema que estás abordando mediante el estudio de tu propio modelo?\n",
    "\n",
    "La realización y entrega del Proyecto es individual."
   ]
  },
  {
   "cell_type": "markdown",
   "id": "aggressive-philadelphia",
   "metadata": {},
   "source": [
    "# Consigna\n",
    "En este proyecto profundizarás lo desarrollado en el proyecto 01 (“Primer modelo de Machine Learning”). El objetivo es aplicar las técnicas incorporadas (Transformación de Datos, Optimización de Hiperparámetros, Modelos Avanzados, etc.) para generar un modelo que tenga un mejor desempeño que el modelo generado en el proyecto anterior. Luego, interpreta ese modelo para responder la siguiente pregunta: ¿qué podemos aprender de nuestro problema estudiando el modelo que generamos?\n",
    "\n",
    "El trabajo se organiza en tres partes:"
   ]
  },
  {
   "cell_type": "markdown",
   "id": "neutral-cologne",
   "metadata": {},
   "source": [
    "# Metodología\n",
    "Para el presente proyecto se desarrollará la siguiente metodología:\n",
    "\n",
    "* **1.** Importe de librerías requeridas.\n",
    "* **2.** Parte A"
   ]
  },
  {
   "cell_type": "markdown",
   "id": "blank-oklahoma",
   "metadata": {},
   "source": [
    "##  1. Cargue de librerías requeridas."
   ]
  },
  {
   "cell_type": "code",
   "execution_count": 1,
   "id": "disciplinary-division",
   "metadata": {},
   "outputs": [],
   "source": [
    "import numpy as np\n",
    "import pandas as pd\n",
    "\n",
    "import matplotlib.pyplot as plt\n",
    "import seaborn as sns\n",
    "sns.set()\n",
    "from pandas import plotting\n",
    "from matplotlib.ticker import ScalarFormatter\n",
    "from matplotlib import gridspec\n",
    "\n",
    "from sklearn.model_selection import train_test_split\n",
    "from sklearn.linear_model import LinearRegression\n",
    "from sklearn.neighbors import LocalOutlierFactor\n",
    "from sklearn.metrics import mean_absolute_error\n",
    "from sklearn.metrics import mean_squared_error\n",
    "import math\n",
    "from sklearn.impute import SimpleImputer\n",
    "from sklearn.pipeline import Pipeline\n",
    "from sklearn.tree import DecisionTreeRegressor\n",
    "from sklearn.ensemble import RandomForestRegressor\n",
    "from sklearn.model_selection import RepeatedStratifiedKFold\n",
    "from sklearn.model_selection import cross_val_score\n",
    "from sklearn.impute import KNNImputer\n",
    "from sklearn.experimental import enable_iterative_imputer\n",
    "from sklearn.impute import IterativeImputer\n",
    "from sklearn.preprocessing import LabelEncoder\n",
    "from sklearn.pipeline import Pipeline\n",
    "from sklearn.decomposition import PCA\n",
    "from sklearn.decomposition import TruncatedSVD\n",
    "\n",
    "import xgboost as xgb\n",
    "from xgboost import plot_importance\n",
    "from sklearn.ensemble import RandomForestRegressor\n",
    "from sklearn import tree as Arbol\n",
    "from sklearn.tree import export_graphviz\n",
    "from sklearn.ensemble import BaggingRegressor\n",
    "from sklearn.ensemble import AdaBoostRegressor\n",
    "\n",
    "from sklearn.ensemble import StackingRegressor\n",
    "from sklearn.linear_model import LinearRegression\n",
    "from sklearn.neighbors import KNeighborsRegressor\n",
    "from sklearn.tree import DecisionTreeRegressor\n",
    "from sklearn.linear_model import LogisticRegression\n",
    "\n",
    "from sklearn.model_selection import GridSearchCV\n",
    "from sklearn.model_selection import RandomizedSearchCV\n",
    "from sklearn.cluster import KMeans"
   ]
  },
  {
   "cell_type": "markdown",
   "id": "motivated-frontier",
   "metadata": {},
   "source": [
    "# PARTE A - Transformación de Datos\n",
    "\n",
    "Elige cuáles de las siguientes tareas son apropiadas para su dataset. Implementa las transformaciones que elegiste. Es importante que justifiques por qué las haces:\n",
    "\n",
    "* **1.** Detección y eliminación de Outliers\n",
    "* **2.** Encoding\n",
    "* **3.** Imputación de valores faltantes\n",
    "* **4.** Escalado de datos\n",
    "* **5.** Generación de nuevas variables predictoras/reducción de dimensionalidad (SVD/PCA)."
   ]
  },
  {
   "cell_type": "markdown",
   "id": "selected-generator",
   "metadata": {},
   "source": [
    "* **a.** Carga del dataset"
   ]
  },
  {
   "cell_type": "code",
   "execution_count": 2,
   "id": "victorian-pierce",
   "metadata": {},
   "outputs": [],
   "source": [
    "data = pd.read_csv('DS_Proyecto_01_Datos_Properati.csv')"
   ]
  },
  {
   "cell_type": "markdown",
   "id": "provincial-kitty",
   "metadata": {},
   "source": [
    "* **b.** Exploracion del dataset (realizado en el proyecto 1)"
   ]
  },
  {
   "cell_type": "code",
   "execution_count": 3,
   "id": "compliant-herald",
   "metadata": {},
   "outputs": [
    {
     "data": {
      "text/plain": [
       "(146660, 19)"
      ]
     },
     "execution_count": 3,
     "metadata": {},
     "output_type": "execute_result"
    }
   ],
   "source": [
    "data.shape"
   ]
  },
  {
   "cell_type": "code",
   "execution_count": 4,
   "id": "polar-ordering",
   "metadata": {
    "scrolled": true
   },
   "outputs": [
    {
     "data": {
      "text/plain": [
       "Index(['start_date', 'end_date', 'created_on', 'lat', 'lon', 'l1', 'l2', 'l3',\n",
       "       'rooms', 'bedrooms', 'bathrooms', 'surface_total', 'surface_covered',\n",
       "       'price', 'currency', 'title', 'description', 'property_type',\n",
       "       'operation_type'],\n",
       "      dtype='object')"
      ]
     },
     "execution_count": 4,
     "metadata": {},
     "output_type": "execute_result"
    }
   ],
   "source": [
    "data.columns"
   ]
  },
  {
   "cell_type": "code",
   "execution_count": 5,
   "id": "lined-george",
   "metadata": {
    "scrolled": false
   },
   "outputs": [
    {
     "data": {
      "text/html": [
       "<div>\n",
       "<style scoped>\n",
       "    .dataframe tbody tr th:only-of-type {\n",
       "        vertical-align: middle;\n",
       "    }\n",
       "\n",
       "    .dataframe tbody tr th {\n",
       "        vertical-align: top;\n",
       "    }\n",
       "\n",
       "    .dataframe thead th {\n",
       "        text-align: right;\n",
       "    }\n",
       "</style>\n",
       "<table border=\"1\" class=\"dataframe\">\n",
       "  <thead>\n",
       "    <tr style=\"text-align: right;\">\n",
       "      <th></th>\n",
       "      <th>start_date</th>\n",
       "      <th>end_date</th>\n",
       "      <th>created_on</th>\n",
       "      <th>lat</th>\n",
       "      <th>lon</th>\n",
       "      <th>l1</th>\n",
       "      <th>l2</th>\n",
       "      <th>l3</th>\n",
       "      <th>rooms</th>\n",
       "      <th>bedrooms</th>\n",
       "      <th>bathrooms</th>\n",
       "      <th>surface_total</th>\n",
       "      <th>surface_covered</th>\n",
       "      <th>price</th>\n",
       "      <th>currency</th>\n",
       "      <th>title</th>\n",
       "      <th>description</th>\n",
       "      <th>property_type</th>\n",
       "      <th>operation_type</th>\n",
       "    </tr>\n",
       "  </thead>\n",
       "  <tbody>\n",
       "    <tr>\n",
       "      <th>0</th>\n",
       "      <td>2019-10-17</td>\n",
       "      <td>2019-12-23</td>\n",
       "      <td>2019-10-17</td>\n",
       "      <td>-34.605880</td>\n",
       "      <td>-58.384949</td>\n",
       "      <td>Argentina</td>\n",
       "      <td>Capital Federal</td>\n",
       "      <td>San Cristobal</td>\n",
       "      <td>7.0</td>\n",
       "      <td>7.0</td>\n",
       "      <td>2.0</td>\n",
       "      <td>140.0</td>\n",
       "      <td>140.0</td>\n",
       "      <td>153000.0</td>\n",
       "      <td>USD</td>\n",
       "      <td>***Venta semipiso centro, ideal hostel*****</td>\n",
       "      <td>DESCRIPCION DE LA PROPIEDAD: Departamento de 1...</td>\n",
       "      <td>Departamento</td>\n",
       "      <td>Venta</td>\n",
       "    </tr>\n",
       "    <tr>\n",
       "      <th>1</th>\n",
       "      <td>2019-10-17</td>\n",
       "      <td>2019-11-21</td>\n",
       "      <td>2019-10-17</td>\n",
       "      <td>-34.624056</td>\n",
       "      <td>-58.412110</td>\n",
       "      <td>Argentina</td>\n",
       "      <td>Capital Federal</td>\n",
       "      <td>Boedo</td>\n",
       "      <td>2.0</td>\n",
       "      <td>1.0</td>\n",
       "      <td>2.0</td>\n",
       "      <td>70.0</td>\n",
       "      <td>58.0</td>\n",
       "      <td>159000.0</td>\n",
       "      <td>USD</td>\n",
       "      <td>Espectacular PH reciclado en Boedo sin expensas.</td>\n",
       "      <td>PH reciclado en Boedo a una cuadra de la plaz...</td>\n",
       "      <td>PH</td>\n",
       "      <td>Venta</td>\n",
       "    </tr>\n",
       "    <tr>\n",
       "      <th>2</th>\n",
       "      <td>2019-10-17</td>\n",
       "      <td>2019-11-01</td>\n",
       "      <td>2019-10-17</td>\n",
       "      <td>-34.593569</td>\n",
       "      <td>-58.427474</td>\n",
       "      <td>Argentina</td>\n",
       "      <td>Capital Federal</td>\n",
       "      <td>Palermo</td>\n",
       "      <td>2.0</td>\n",
       "      <td>1.0</td>\n",
       "      <td>1.0</td>\n",
       "      <td>45.0</td>\n",
       "      <td>45.0</td>\n",
       "      <td>125000.0</td>\n",
       "      <td>USD</td>\n",
       "      <td>Depto.tipo casa de 2 ambientes en Venta en Pal...</td>\n",
       "      <td>2 ambienets amplio , excelente estado , patio ...</td>\n",
       "      <td>PH</td>\n",
       "      <td>Venta</td>\n",
       "    </tr>\n",
       "    <tr>\n",
       "      <th>3</th>\n",
       "      <td>2019-10-17</td>\n",
       "      <td>2019-12-23</td>\n",
       "      <td>2019-10-17</td>\n",
       "      <td>-34.581294</td>\n",
       "      <td>-58.436754</td>\n",
       "      <td>Argentina</td>\n",
       "      <td>Capital Federal</td>\n",
       "      <td>Palermo</td>\n",
       "      <td>2.0</td>\n",
       "      <td>1.0</td>\n",
       "      <td>1.0</td>\n",
       "      <td>85.0</td>\n",
       "      <td>50.0</td>\n",
       "      <td>295000.0</td>\n",
       "      <td>USD</td>\n",
       "      <td>COSTA RICA 5800 / PALERMO HOLLYWOOD / VENTA PH...</td>\n",
       "      <td>HERMOSO PH EN PALERMO!!!2 AMBIENTES TOTALMENTE...</td>\n",
       "      <td>PH</td>\n",
       "      <td>Venta</td>\n",
       "    </tr>\n",
       "    <tr>\n",
       "      <th>4</th>\n",
       "      <td>2019-10-17</td>\n",
       "      <td>2020-03-11</td>\n",
       "      <td>2019-10-17</td>\n",
       "      <td>-34.914194</td>\n",
       "      <td>-57.938219</td>\n",
       "      <td>Argentina</td>\n",
       "      <td>Bs.As. G.B.A. Zona Sur</td>\n",
       "      <td>La Plata</td>\n",
       "      <td>2.0</td>\n",
       "      <td>1.0</td>\n",
       "      <td>1.0</td>\n",
       "      <td>50.0</td>\n",
       "      <td>35.0</td>\n",
       "      <td>40000.0</td>\n",
       "      <td>USD</td>\n",
       "      <td>58 entre 1 y 2  Venta de departamento en ph.1 ...</td>\n",
       "      <td>58 entre 1 y 2  Venta de departamento en PH. P...</td>\n",
       "      <td>PH</td>\n",
       "      <td>Venta</td>\n",
       "    </tr>\n",
       "  </tbody>\n",
       "</table>\n",
       "</div>"
      ],
      "text/plain": [
       "   start_date    end_date  created_on        lat        lon         l1  \\\n",
       "0  2019-10-17  2019-12-23  2019-10-17 -34.605880 -58.384949  Argentina   \n",
       "1  2019-10-17  2019-11-21  2019-10-17 -34.624056 -58.412110  Argentina   \n",
       "2  2019-10-17  2019-11-01  2019-10-17 -34.593569 -58.427474  Argentina   \n",
       "3  2019-10-17  2019-12-23  2019-10-17 -34.581294 -58.436754  Argentina   \n",
       "4  2019-10-17  2020-03-11  2019-10-17 -34.914194 -57.938219  Argentina   \n",
       "\n",
       "                       l2             l3  rooms  bedrooms  bathrooms  \\\n",
       "0         Capital Federal  San Cristobal    7.0       7.0        2.0   \n",
       "1         Capital Federal          Boedo    2.0       1.0        2.0   \n",
       "2         Capital Federal        Palermo    2.0       1.0        1.0   \n",
       "3         Capital Federal        Palermo    2.0       1.0        1.0   \n",
       "4  Bs.As. G.B.A. Zona Sur       La Plata    2.0       1.0        1.0   \n",
       "\n",
       "   surface_total  surface_covered     price currency  \\\n",
       "0          140.0            140.0  153000.0      USD   \n",
       "1           70.0             58.0  159000.0      USD   \n",
       "2           45.0             45.0  125000.0      USD   \n",
       "3           85.0             50.0  295000.0      USD   \n",
       "4           50.0             35.0   40000.0      USD   \n",
       "\n",
       "                                               title  \\\n",
       "0        ***Venta semipiso centro, ideal hostel*****   \n",
       "1   Espectacular PH reciclado en Boedo sin expensas.   \n",
       "2  Depto.tipo casa de 2 ambientes en Venta en Pal...   \n",
       "3  COSTA RICA 5800 / PALERMO HOLLYWOOD / VENTA PH...   \n",
       "4  58 entre 1 y 2  Venta de departamento en ph.1 ...   \n",
       "\n",
       "                                         description property_type  \\\n",
       "0  DESCRIPCION DE LA PROPIEDAD: Departamento de 1...  Departamento   \n",
       "1   PH reciclado en Boedo a una cuadra de la plaz...            PH   \n",
       "2  2 ambienets amplio , excelente estado , patio ...            PH   \n",
       "3  HERMOSO PH EN PALERMO!!!2 AMBIENTES TOTALMENTE...            PH   \n",
       "4  58 entre 1 y 2  Venta de departamento en PH. P...            PH   \n",
       "\n",
       "  operation_type  \n",
       "0          Venta  \n",
       "1          Venta  \n",
       "2          Venta  \n",
       "3          Venta  \n",
       "4          Venta  "
      ]
     },
     "execution_count": 5,
     "metadata": {},
     "output_type": "execute_result"
    }
   ],
   "source": [
    "data.head()"
   ]
  },
  {
   "cell_type": "code",
   "execution_count": 6,
   "id": "numerical-regulation",
   "metadata": {},
   "outputs": [
    {
     "data": {
      "text/html": [
       "<div>\n",
       "<style scoped>\n",
       "    .dataframe tbody tr th:only-of-type {\n",
       "        vertical-align: middle;\n",
       "    }\n",
       "\n",
       "    .dataframe tbody tr th {\n",
       "        vertical-align: top;\n",
       "    }\n",
       "\n",
       "    .dataframe thead th {\n",
       "        text-align: right;\n",
       "    }\n",
       "</style>\n",
       "<table border=\"1\" class=\"dataframe\">\n",
       "  <thead>\n",
       "    <tr style=\"text-align: right;\">\n",
       "      <th></th>\n",
       "      <th>start_date</th>\n",
       "      <th>end_date</th>\n",
       "      <th>created_on</th>\n",
       "      <th>lat</th>\n",
       "      <th>lon</th>\n",
       "      <th>l1</th>\n",
       "      <th>l2</th>\n",
       "      <th>l3</th>\n",
       "      <th>rooms</th>\n",
       "      <th>bedrooms</th>\n",
       "      <th>bathrooms</th>\n",
       "      <th>surface_total</th>\n",
       "      <th>surface_covered</th>\n",
       "      <th>price</th>\n",
       "      <th>currency</th>\n",
       "      <th>title</th>\n",
       "      <th>description</th>\n",
       "      <th>property_type</th>\n",
       "      <th>operation_type</th>\n",
       "    </tr>\n",
       "  </thead>\n",
       "  <tbody>\n",
       "    <tr>\n",
       "      <th>146655</th>\n",
       "      <td>2019-07-31</td>\n",
       "      <td>2019-08-13</td>\n",
       "      <td>2019-07-31</td>\n",
       "      <td>-34.816348</td>\n",
       "      <td>-58.181963</td>\n",
       "      <td>Argentina</td>\n",
       "      <td>Bs.As. G.B.A. Zona Sur</td>\n",
       "      <td>Berazategui</td>\n",
       "      <td>2.0</td>\n",
       "      <td>1.0</td>\n",
       "      <td>1.0</td>\n",
       "      <td>54.0</td>\n",
       "      <td>48.0</td>\n",
       "      <td>165000.0</td>\n",
       "      <td>USD</td>\n",
       "      <td>Departamento en Venta en Barrio Privado Barran...</td>\n",
       "      <td>Departamento de 2 ambientesCocina con alacena ...</td>\n",
       "      <td>Departamento</td>\n",
       "      <td>Venta</td>\n",
       "    </tr>\n",
       "    <tr>\n",
       "      <th>146656</th>\n",
       "      <td>2019-07-31</td>\n",
       "      <td>2019-08-14</td>\n",
       "      <td>2019-07-31</td>\n",
       "      <td>-34.446459</td>\n",
       "      <td>-58.937810</td>\n",
       "      <td>Argentina</td>\n",
       "      <td>Bs.As. G.B.A. Zona Norte</td>\n",
       "      <td>Pilar</td>\n",
       "      <td>4.0</td>\n",
       "      <td>3.0</td>\n",
       "      <td>2.0</td>\n",
       "      <td>164.0</td>\n",
       "      <td>90.0</td>\n",
       "      <td>130000.0</td>\n",
       "      <td>USD</td>\n",
       "      <td>Venta departamentos tres dormitorios jardín co...</td>\n",
       "      <td>Muy buen duplex a estrenar en dos plantas más ...</td>\n",
       "      <td>Departamento</td>\n",
       "      <td>Venta</td>\n",
       "    </tr>\n",
       "    <tr>\n",
       "      <th>146657</th>\n",
       "      <td>2019-07-31</td>\n",
       "      <td>2019-08-14</td>\n",
       "      <td>2019-07-31</td>\n",
       "      <td>-34.444633</td>\n",
       "      <td>-58.981606</td>\n",
       "      <td>Argentina</td>\n",
       "      <td>Bs.As. G.B.A. Zona Norte</td>\n",
       "      <td>Pilar</td>\n",
       "      <td>1.0</td>\n",
       "      <td>1.0</td>\n",
       "      <td>1.0</td>\n",
       "      <td>50.0</td>\n",
       "      <td>35.0</td>\n",
       "      <td>73000.0</td>\n",
       "      <td>USD</td>\n",
       "      <td>Venta departamento de un ambiente Manzanares C...</td>\n",
       "      <td>En los Condominios de Campo Manzanares Chico, ...</td>\n",
       "      <td>Departamento</td>\n",
       "      <td>Venta</td>\n",
       "    </tr>\n",
       "    <tr>\n",
       "      <th>146658</th>\n",
       "      <td>2019-07-31</td>\n",
       "      <td>2019-08-14</td>\n",
       "      <td>2019-07-31</td>\n",
       "      <td>-34.444830</td>\n",
       "      <td>-58.981796</td>\n",
       "      <td>Argentina</td>\n",
       "      <td>Bs.As. G.B.A. Zona Norte</td>\n",
       "      <td>Pilar</td>\n",
       "      <td>2.0</td>\n",
       "      <td>1.0</td>\n",
       "      <td>1.0</td>\n",
       "      <td>38.0</td>\n",
       "      <td>38.0</td>\n",
       "      <td>68000.0</td>\n",
       "      <td>USD</td>\n",
       "      <td>Departamento en Venta. Manzanares chico.</td>\n",
       "      <td>Broker: Maria 11Departamento de dos ambientes ...</td>\n",
       "      <td>Departamento</td>\n",
       "      <td>Venta</td>\n",
       "    </tr>\n",
       "    <tr>\n",
       "      <th>146659</th>\n",
       "      <td>2019-07-31</td>\n",
       "      <td>2019-10-12</td>\n",
       "      <td>2019-07-31</td>\n",
       "      <td>-34.444760</td>\n",
       "      <td>-58.981885</td>\n",
       "      <td>Argentina</td>\n",
       "      <td>Bs.As. G.B.A. Zona Norte</td>\n",
       "      <td>Pilar</td>\n",
       "      <td>3.0</td>\n",
       "      <td>2.0</td>\n",
       "      <td>1.0</td>\n",
       "      <td>75.0</td>\n",
       "      <td>75.0</td>\n",
       "      <td>98000.0</td>\n",
       "      <td>USD</td>\n",
       "      <td>Departamento en venta en Manzanares Chico</td>\n",
       "      <td>Departamento en el Barrio Manzanares Chico , e...</td>\n",
       "      <td>Departamento</td>\n",
       "      <td>Venta</td>\n",
       "    </tr>\n",
       "  </tbody>\n",
       "</table>\n",
       "</div>"
      ],
      "text/plain": [
       "        start_date    end_date  created_on        lat        lon         l1  \\\n",
       "146655  2019-07-31  2019-08-13  2019-07-31 -34.816348 -58.181963  Argentina   \n",
       "146656  2019-07-31  2019-08-14  2019-07-31 -34.446459 -58.937810  Argentina   \n",
       "146657  2019-07-31  2019-08-14  2019-07-31 -34.444633 -58.981606  Argentina   \n",
       "146658  2019-07-31  2019-08-14  2019-07-31 -34.444830 -58.981796  Argentina   \n",
       "146659  2019-07-31  2019-10-12  2019-07-31 -34.444760 -58.981885  Argentina   \n",
       "\n",
       "                              l2           l3  rooms  bedrooms  bathrooms  \\\n",
       "146655    Bs.As. G.B.A. Zona Sur  Berazategui    2.0       1.0        1.0   \n",
       "146656  Bs.As. G.B.A. Zona Norte        Pilar    4.0       3.0        2.0   \n",
       "146657  Bs.As. G.B.A. Zona Norte        Pilar    1.0       1.0        1.0   \n",
       "146658  Bs.As. G.B.A. Zona Norte        Pilar    2.0       1.0        1.0   \n",
       "146659  Bs.As. G.B.A. Zona Norte        Pilar    3.0       2.0        1.0   \n",
       "\n",
       "        surface_total  surface_covered     price currency  \\\n",
       "146655           54.0             48.0  165000.0      USD   \n",
       "146656          164.0             90.0  130000.0      USD   \n",
       "146657           50.0             35.0   73000.0      USD   \n",
       "146658           38.0             38.0   68000.0      USD   \n",
       "146659           75.0             75.0   98000.0      USD   \n",
       "\n",
       "                                                    title  \\\n",
       "146655  Departamento en Venta en Barrio Privado Barran...   \n",
       "146656  Venta departamentos tres dormitorios jardín co...   \n",
       "146657  Venta departamento de un ambiente Manzanares C...   \n",
       "146658           Departamento en Venta. Manzanares chico.   \n",
       "146659          Departamento en venta en Manzanares Chico   \n",
       "\n",
       "                                              description property_type  \\\n",
       "146655  Departamento de 2 ambientesCocina con alacena ...  Departamento   \n",
       "146656  Muy buen duplex a estrenar en dos plantas más ...  Departamento   \n",
       "146657  En los Condominios de Campo Manzanares Chico, ...  Departamento   \n",
       "146658  Broker: Maria 11Departamento de dos ambientes ...  Departamento   \n",
       "146659  Departamento en el Barrio Manzanares Chico , e...  Departamento   \n",
       "\n",
       "       operation_type  \n",
       "146655          Venta  \n",
       "146656          Venta  \n",
       "146657          Venta  \n",
       "146658          Venta  \n",
       "146659          Venta  "
      ]
     },
     "execution_count": 6,
     "metadata": {},
     "output_type": "execute_result"
    }
   ],
   "source": [
    "data.tail()"
   ]
  },
  {
   "cell_type": "markdown",
   "id": "supposed-ordinary",
   "metadata": {},
   "source": [
    "Se observan incongruencias relacionadas a la relacion a las superficies (superficie total y superficie construida)"
   ]
  },
  {
   "cell_type": "code",
   "execution_count": 7,
   "id": "nonprofit-musical",
   "metadata": {},
   "outputs": [
    {
     "data": {
      "text/plain": [
       "start_date             0\n",
       "end_date               0\n",
       "created_on             0\n",
       "lat                 9925\n",
       "lon                 9959\n",
       "l1                     0\n",
       "l2                     0\n",
       "l3                     0\n",
       "rooms                  0\n",
       "bedrooms               0\n",
       "bathrooms           5957\n",
       "surface_total      20527\n",
       "surface_covered    21614\n",
       "price                  0\n",
       "currency               0\n",
       "title                  0\n",
       "description            0\n",
       "property_type          0\n",
       "operation_type         0\n",
       "dtype: int64"
      ]
     },
     "execution_count": 7,
     "metadata": {},
     "output_type": "execute_result"
    }
   ],
   "source": [
    "data.isnull().sum()"
   ]
  },
  {
   "cell_type": "markdown",
   "id": "lesser-necklace",
   "metadata": {},
   "source": [
    "La exploracion de valores nules permite identificar con que columnas debemos de trabajar con respecto a los valores faltantes."
   ]
  },
  {
   "cell_type": "code",
   "execution_count": 8,
   "id": "incident-islam",
   "metadata": {},
   "outputs": [
    {
     "data": {
      "text/plain": [
       "array(['Departamento', 'PH', 'Casa', 'Lote', 'Casa de campo', 'Oficina',\n",
       "       'Otro', 'Local comercial', 'Cochera', 'Depósito'], dtype=object)"
      ]
     },
     "execution_count": 8,
     "metadata": {},
     "output_type": "execute_result"
    }
   ],
   "source": [
    "data[\"property_type\"].unique()"
   ]
  },
  {
   "cell_type": "markdown",
   "id": "intimate-disaster",
   "metadata": {},
   "source": [
    "Obtenes los tipos de propiedades mas predominantes en el dataset."
   ]
  },
  {
   "cell_type": "code",
   "execution_count": 9,
   "id": "ranging-arrow",
   "metadata": {},
   "outputs": [
    {
     "data": {
      "text/plain": [
       "Departamento       107326\n",
       "Casa                21521\n",
       "PH                  14298\n",
       "Lote                 1312\n",
       "Oficina               658\n",
       "Otro                  374\n",
       "Local comercial       325\n",
       "Casa de campo         322\n",
       "Depósito              265\n",
       "Cochera               259\n",
       "Name: property_type, dtype: int64"
      ]
     },
     "execution_count": 9,
     "metadata": {},
     "output_type": "execute_result"
    }
   ],
   "source": [
    "data[\"property_type\"].value_counts()"
   ]
  },
  {
   "cell_type": "markdown",
   "id": "otherwise-zambia",
   "metadata": {},
   "source": [
    "Se procedera a realizar la exploracion grafica de los valores del dataset"
   ]
  },
  {
   "cell_type": "code",
   "execution_count": 10,
   "id": "mechanical-amateur",
   "metadata": {},
   "outputs": [
    {
     "data": {
      "image/png": "[encoded data removed]",
      "text/plain": [
       "<Figure size 720x360 with 1 Axes>"
      ]
     },
     "metadata": {},
     "output_type": "display_data"
    }
   ],
   "source": [
    "plt.figure(figsize=(10,5))\n",
    "plt.yscale('log')\n",
    "plt.gca().yaxis.set_major_formatter(ScalarFormatter())\n",
    "ax = sns.countplot(data = data, x = \"property_type\")\n",
    "ax.set_xticklabels(ax.get_xticklabels(),rotation=40,ha=\"right\")\n",
    "\n",
    "\n",
    "plt.show()"
   ]
  },
  {
   "cell_type": "code",
   "execution_count": 11,
   "id": "monthly-sensitivity",
   "metadata": {},
   "outputs": [
    {
     "data": {
      "image/png": "[encoded data removed]",
      "text/plain": [
       "<Figure size 1080x720 with 2 Axes>"
      ]
     },
     "metadata": {},
     "output_type": "display_data"
    }
   ],
   "source": [
    "plt.figure(figsize = (15,10))\n",
    "\n",
    "plt.subplot(2,1,1)\n",
    "sns.countplot(data=data, x = 'l2', order = data.l2.value_counts().index,palette='mako')\n",
    "plt.xlabel('Zonas de Buenos Aires', size = 15)\n",
    "plt.ylabel('Cantidad de listings', size = 15)\n",
    "plt.title('Distribución de las propiedades en zonas y barrios de la ciudad de Buenos Aires', size = 15)\n",
    "\n",
    "plt.subplot(2,1,2)\n",
    "sns.countplot(data=data, x = 'l3',order = data.l3.value_counts().index,palette='rocket')\n",
    "plt.xticks(rotation= 90)\n",
    "plt.xlabel('Barrios de Buenos Aires', size = 15)\n",
    "plt.ylabel('Cantidad de listings', size = 15)\n",
    "\n",
    "#plt.savefig('uno.png')\n",
    "\n",
    "plt.show()"
   ]
  },
  {
   "cell_type": "markdown",
   "id": "future-charity",
   "metadata": {},
   "source": [
    "* **c.** Seleccion del dataset a utilizar\n",
    "Se utilizara el dataset a partir de los 3 tipos de propiedades mas significativas en el dataset."
   ]
  },
  {
   "cell_type": "code",
   "execution_count": 12,
   "id": "posted-equilibrium",
   "metadata": {},
   "outputs": [
    {
     "data": {
      "text/plain": [
       "(91485, 19)"
      ]
     },
     "execution_count": 12,
     "metadata": {},
     "output_type": "execute_result"
    }
   ],
   "source": [
    "properati_df = data[((data['property_type'] == \"Departamento\") |(data['property_type'] == \"Casa\") | (data['property_type'] == \"PH\"))  & (data['l2'] == \"Capital Federal\")] \n",
    "properati_df.shape"
   ]
  },
  {
   "cell_type": "code",
   "execution_count": 13,
   "id": "separate-communications",
   "metadata": {},
   "outputs": [
    {
     "data": {
      "text/plain": [
       "(91485, 19)"
      ]
     },
     "execution_count": 13,
     "metadata": {},
     "output_type": "execute_result"
    }
   ],
   "source": [
    "properati_df.shape"
   ]
  },
  {
   "cell_type": "markdown",
   "id": "animated-scholar",
   "metadata": {},
   "source": [
    "* **d.** Ajuste de la superficie: Se garantizará que la superficie cubierta sea siempre menor a la superficie total"
   ]
  },
  {
   "cell_type": "code",
   "execution_count": 14,
   "id": "unnecessary-vocabulary",
   "metadata": {
    "scrolled": true
   },
   "outputs": [
    {
     "data": {
      "image/png": "[encoded data removed]",
      "text/plain": [
       "<Figure size 432x288 with 1 Axes>"
      ]
     },
     "metadata": {},
     "output_type": "display_data"
    }
   ],
   "source": [
    "sns.scatterplot(data=properati_df, x='surface_total', y='surface_covered')\n",
    "plt.title('Detección inconsistencia en valores de superficie')\n",
    "plt.xlabel('Superficie total')\n",
    "plt.ylabel('Superficie cubierta ([$m^{2}$])')\n",
    "plt.grid()\n",
    "\n",
    "plt.show()"
   ]
  },
  {
   "cell_type": "markdown",
   "id": "working-square",
   "metadata": {},
   "source": [
    "Encontradas las incongruencias, se realiza la eliminación de las mismas."
   ]
  },
  {
   "cell_type": "code",
   "execution_count": 15,
   "id": "answering-wrong",
   "metadata": {},
   "outputs": [
    {
     "name": "stderr",
     "output_type": "stream",
     "text": [
      "C:\\Users\\Jean Piere Castro\\anaconda3\\lib\\site-packages\\pandas\\core\\frame.py:4308: SettingWithCopyWarning: \n",
      "A value is trying to be set on a copy of a slice from a DataFrame\n",
      "\n",
      "See the caveats in the documentation: https://pandas.pydata.org/pandas-docs/stable/user_guide/indexing.html#returning-a-view-versus-a-copy\n",
      "  return super().drop(\n"
     ]
    }
   ],
   "source": [
    "properati_df.drop(properati_df.loc[properati_df['surface_covered'] > properati_df['surface_total']].index,inplace=True ,axis=0)"
   ]
  },
  {
   "cell_type": "code",
   "execution_count": 16,
   "id": "angry-smith",
   "metadata": {},
   "outputs": [
    {
     "data": {
      "image/png": "[encoded data removed]",
      "text/plain": [
       "<Figure size 432x288 with 1 Axes>"
      ]
     },
     "metadata": {},
     "output_type": "display_data"
    }
   ],
   "source": [
    "sns.scatterplot(data=properati_df, x='surface_total', y='surface_covered')\n",
    "plt.title('Detección inconsistencia en valores de superficie')\n",
    "plt.xlabel('Superficie total')\n",
    "plt.ylabel('Superficie cubierta ([$m^{2}$])')\n",
    "plt.grid()\n",
    "\n",
    "plt.show()"
   ]
  },
  {
   "cell_type": "code",
   "execution_count": 17,
   "id": "exposed-destruction",
   "metadata": {},
   "outputs": [
    {
     "data": {
      "text/plain": [
       "(90725, 19)"
      ]
     },
     "execution_count": 17,
     "metadata": {},
     "output_type": "execute_result"
    }
   ],
   "source": [
    "properati_df.shape"
   ]
  },
  {
   "cell_type": "markdown",
   "id": "enclosed-mixer",
   "metadata": {},
   "source": [
    "* **e.** Identificación de columnas con valor único:\n",
    "Se identificarán columnas con valores únicos."
   ]
  },
  {
   "cell_type": "code",
   "execution_count": 18,
   "id": "broke-table",
   "metadata": {},
   "outputs": [
    {
     "name": "stdout",
     "output_type": "stream",
     "text": [
      "0 362\n",
      "1 408\n",
      "2 362\n",
      "3 31132\n",
      "4 31401\n",
      "5 1\n",
      "6 1\n",
      "7 57\n",
      "8 19\n",
      "9 16\n",
      "10 14\n",
      "11 716\n",
      "12 572\n",
      "13 5179\n",
      "14 1\n",
      "15 42579\n",
      "16 57932\n",
      "17 3\n",
      "18 1\n"
     ]
    }
   ],
   "source": [
    "for i in range(properati_df.shape[1]):\n",
    "    print(i,len(pd.unique(properati_df.iloc[:,i])))"
   ]
  },
  {
   "cell_type": "markdown",
   "id": "human-money",
   "metadata": {},
   "source": [
    "Se encuentra que las columnas l1, l2, Currency y Operation_type (5, 6, 14 y 18 respectivamente), cuentan con valores únicos. Se eliminarán estas columnas debido a que no son representativas dentro del dataset."
   ]
  },
  {
   "cell_type": "code",
   "execution_count": 19,
   "id": "standing-ontario",
   "metadata": {},
   "outputs": [],
   "source": [
    "properati_df = properati_df.drop([\"l1\",\"l2\",\"currency\",\"operation_type\"],axis=1)"
   ]
  },
  {
   "cell_type": "markdown",
   "id": "tender-grade",
   "metadata": {},
   "source": [
    "* **f.** Identificación de columnas poco significativas:\n",
    "Se realizará la identificación de la cantidad de valores distintos presentes en cada columna del dataset."
   ]
  },
  {
   "cell_type": "code",
   "execution_count": 20,
   "id": "crucial-james",
   "metadata": {},
   "outputs": [
    {
     "name": "stdout",
     "output_type": "stream",
     "text": [
      "0, 362, 0.4%\n",
      "1, 408, 0.4%\n",
      "2, 362, 0.4%\n",
      "3, 31132, 34.3%\n",
      "4, 31401, 34.6%\n",
      "5, 57, 0.1%\n",
      "6, 19, 0.0%\n",
      "7, 16, 0.0%\n",
      "8, 14, 0.0%\n",
      "9, 716, 0.8%\n",
      "10, 572, 0.6%\n",
      "11, 5179, 5.7%\n",
      "12, 42579, 46.9%\n",
      "13, 57932, 63.9%\n",
      "14, 3, 0.0%\n"
     ]
    }
   ],
   "source": [
    "for i in range(properati_df.shape[1]):\n",
    "    sumatoria=len(pd.unique(properati_df.iloc[:,i]))\n",
    "    porcentaje=float(sumatoria)/properati_df.shape[0]*100\n",
    "    print(\"%d, %d, %.1f%%\"%(i,sumatoria,porcentaje))"
   ]
  },
  {
   "cell_type": "markdown",
   "id": "subtle-opera",
   "metadata": {},
   "source": [
    "Los valores de la columna 14 (en el dataset, tipo de propiedad) tiene un valor poco significativo debido a que solo trabajamos con 3 valores."
   ]
  },
  {
   "cell_type": "markdown",
   "id": "aware-swift",
   "metadata": {},
   "source": [
    "* **g.** Identificación de valores duplicados en el dataset:"
   ]
  },
  {
   "cell_type": "code",
   "execution_count": 21,
   "id": "processed-spanish",
   "metadata": {},
   "outputs": [
    {
     "data": {
      "text/plain": [
       "(89114, 15)"
      ]
     },
     "execution_count": 21,
     "metadata": {},
     "output_type": "execute_result"
    }
   ],
   "source": [
    "properati_df.drop_duplicates(inplace=True)\n",
    "properati_df.shape"
   ]
  },
  {
   "cell_type": "markdown",
   "id": "manual-findings",
   "metadata": {},
   "source": [
    "* **h.** Eliminación de columnas de poco interés:"
   ]
  },
  {
   "cell_type": "code",
   "execution_count": 22,
   "id": "incoming-wheel",
   "metadata": {},
   "outputs": [],
   "source": [
    "dataset = properati_df.drop([\"start_date\",\"end_date\",\"title\",\"description\"],axis=1)"
   ]
  },
  {
   "cell_type": "markdown",
   "id": "governmental-population",
   "metadata": {},
   "source": [
    "### Visualización de correlación de columnas en el dataset."
   ]
  },
  {
   "cell_type": "code",
   "execution_count": 23,
   "id": "joined-material",
   "metadata": {},
   "outputs": [
    {
     "data": {
      "image/png": "[encoded data removed]",
      "text/plain": [
       "<Figure size 576x576 with 2 Axes>"
      ]
     },
     "metadata": {},
     "output_type": "display_data"
    }
   ],
   "source": [
    "fig =plt.subplots(figsize=(8,8))\n",
    "sns.heatmap(dataset.corr(), annot=True)\n",
    "plt.show()"
   ]
  },
  {
   "cell_type": "markdown",
   "id": "smart-lingerie",
   "metadata": {},
   "source": [
    "## 1. Detección y eliminación de Outliers"
   ]
  },
  {
   "cell_type": "markdown",
   "id": "aggressive-ivory",
   "metadata": {},
   "source": [
    "### 1.1 Utilización del rango intercuartil - IQR"
   ]
  },
  {
   "cell_type": "markdown",
   "id": "durable-balloon",
   "metadata": {},
   "source": [
    "Exploración de valores minimos y máximos para Q1 y Q3."
   ]
  },
  {
   "cell_type": "code",
   "execution_count": 24,
   "id": "comic-malpractice",
   "metadata": {},
   "outputs": [
    {
     "data": {
      "text/html": [
       "<div>\n",
       "<style scoped>\n",
       "    .dataframe tbody tr th:only-of-type {\n",
       "        vertical-align: middle;\n",
       "    }\n",
       "\n",
       "    .dataframe tbody tr th {\n",
       "        vertical-align: top;\n",
       "    }\n",
       "\n",
       "    .dataframe thead th {\n",
       "        text-align: right;\n",
       "    }\n",
       "</style>\n",
       "<table border=\"1\" class=\"dataframe\">\n",
       "  <thead>\n",
       "    <tr style=\"text-align: right;\">\n",
       "      <th></th>\n",
       "      <th>lat</th>\n",
       "      <th>lon</th>\n",
       "      <th>rooms</th>\n",
       "      <th>bedrooms</th>\n",
       "      <th>bathrooms</th>\n",
       "      <th>surface_total</th>\n",
       "      <th>surface_covered</th>\n",
       "      <th>price</th>\n",
       "    </tr>\n",
       "  </thead>\n",
       "  <tbody>\n",
       "    <tr>\n",
       "      <th>0.10</th>\n",
       "      <td>-34.628873</td>\n",
       "      <td>-58.487747</td>\n",
       "      <td>2.0</td>\n",
       "      <td>1.0</td>\n",
       "      <td>1.0</td>\n",
       "      <td>39.0</td>\n",
       "      <td>36.0</td>\n",
       "      <td>90000.0</td>\n",
       "    </tr>\n",
       "    <tr>\n",
       "      <th>0.25</th>\n",
       "      <td>-34.613814</td>\n",
       "      <td>-58.459700</td>\n",
       "      <td>2.0</td>\n",
       "      <td>1.0</td>\n",
       "      <td>1.0</td>\n",
       "      <td>50.0</td>\n",
       "      <td>44.0</td>\n",
       "      <td>121525.0</td>\n",
       "    </tr>\n",
       "    <tr>\n",
       "      <th>0.50</th>\n",
       "      <td>-34.599357</td>\n",
       "      <td>-58.433710</td>\n",
       "      <td>3.0</td>\n",
       "      <td>2.0</td>\n",
       "      <td>1.0</td>\n",
       "      <td>71.0</td>\n",
       "      <td>63.0</td>\n",
       "      <td>175000.0</td>\n",
       "    </tr>\n",
       "    <tr>\n",
       "      <th>0.75</th>\n",
       "      <td>-34.584055</td>\n",
       "      <td>-58.409919</td>\n",
       "      <td>4.0</td>\n",
       "      <td>3.0</td>\n",
       "      <td>2.0</td>\n",
       "      <td>111.0</td>\n",
       "      <td>96.0</td>\n",
       "      <td>278200.0</td>\n",
       "    </tr>\n",
       "  </tbody>\n",
       "</table>\n",
       "</div>"
      ],
      "text/plain": [
       "            lat        lon  rooms  bedrooms  bathrooms  surface_total  \\\n",
       "0.10 -34.628873 -58.487747    2.0       1.0        1.0           39.0   \n",
       "0.25 -34.613814 -58.459700    2.0       1.0        1.0           50.0   \n",
       "0.50 -34.599357 -58.433710    3.0       2.0        1.0           71.0   \n",
       "0.75 -34.584055 -58.409919    4.0       3.0        2.0          111.0   \n",
       "\n",
       "      surface_covered     price  \n",
       "0.10             36.0   90000.0  \n",
       "0.25             44.0  121525.0  \n",
       "0.50             63.0  175000.0  \n",
       "0.75             96.0  278200.0  "
      ]
     },
     "execution_count": 24,
     "metadata": {},
     "output_type": "execute_result"
    }
   ],
   "source": [
    "dataset.quantile([.1, .25, .5, .75], axis = 0)"
   ]
  },
  {
   "cell_type": "markdown",
   "id": "happy-myrtle",
   "metadata": {},
   "source": [
    "En el proyecto del Sprint 1 se encontró que la eliminación de outliers usando el IQF a partir de el filtrado por columnas, aunque permitía una eliminación notoria en los diagramas de caja, no eliminaban completamente los outliers. \n",
    "\n",
    "Por ende, en esta ocasión, se realizará esta eliminación filtrando por tipo de propiedad."
   ]
  },
  {
   "cell_type": "markdown",
   "id": "constant-triangle",
   "metadata": {},
   "source": [
    "#### 1.1.1 IQR con Price"
   ]
  },
  {
   "cell_type": "code",
   "execution_count": 25,
   "id": "sound-utilization",
   "metadata": {},
   "outputs": [
    {
     "name": "stdout",
     "output_type": "stream",
     "text": [
      "Casa : El precio maximo es 826875.0, el precio minimo es 84810.0 y el IQR 234750.0\n",
      "PH : El precio maximo es 471112.5, el precio minimo es 65000.0 y el IQR 134075.0\n",
      "Departamento : El precio maximo es 495750.0, el precio minimo es 57000.0 y el IQR 150500.0\n"
     ]
    }
   ],
   "source": [
    "for x in [\"Casa\",\"PH\", \"Departamento\"]:\n",
    "    Q1 = dataset[dataset[\"property_type\"]==x][\"price\"].quantile(0.25)\n",
    "    Q3 = dataset[dataset[\"property_type\"]==x][\"price\"].quantile(0.75)\n",
    "    \n",
    "    IQR = Q3 - Q1\n",
    "    \n",
    "    lim_min = dataset[dataset[\"property_type\"]==x][\"price\"].quantile(0.01)\n",
    "    lim_max = Q3 + (IQR*1.5)\n",
    "    \n",
    "    print(x,\": El precio maximo es {}, el precio minimo es {} y el IQR {}\" .format(lim_max,lim_min,IQR))"
   ]
  },
  {
   "cell_type": "code",
   "execution_count": 26,
   "id": "subject-programming",
   "metadata": {},
   "outputs": [],
   "source": [
    "dpto = dataset[dataset[\"property_type\"]==\"Departamento\"]\n",
    "ph   = dataset[dataset[\"property_type\"]==\"PH\"]\n",
    "casa = dataset[dataset[\"property_type\"]==\"Casa\"]"
   ]
  },
  {
   "cell_type": "code",
   "execution_count": 27,
   "id": "coastal-dublin",
   "metadata": {},
   "outputs": [],
   "source": [
    "dpto = dpto[(dpto.price <= 392500.0) & (dpto.price >=65000.0) ]\n",
    "ph   = ph[(ph.price <= 428500.0) & (ph.price >=75000.0) ]\n",
    "casa = casa[(casa.price <= 706000.0) & (casa.price >=110000.0) ]"
   ]
  },
  {
   "cell_type": "code",
   "execution_count": 28,
   "id": "consistent-german",
   "metadata": {},
   "outputs": [
    {
     "data": {
      "image/png": "[encoded data removed]",
      "text/plain": [
       "<Figure size 720x720 with 3 Axes>"
      ]
     },
     "metadata": {},
     "output_type": "display_data"
    }
   ],
   "source": [
    "figure,(ax1,ax2,ax3) = plt.subplots(3,constrained_layout=True,figsize=(10,10))\n",
    "\n",
    "ax1.set_title(\"Boxplot tipo de propiedad y precio (En miles de Dolares)\")\n",
    "ax2.set_title(\"Boxplot tipo de propiedad y precio (En miles de Dolares)\")\n",
    "ax3.set_title(\"Boxplot tipo de propiedad y precio (En miles Dolares)\")\n",
    "\n",
    "sns.boxplot(data=dpto,x=\"price\",y=\"property_type\",ax=ax1)\n",
    "sns.boxplot(data=ph,x=\"price\",y=\"property_type\",ax=ax2)\n",
    "sns.boxplot(data=casa,x=\"price\",y=\"property_type\",ax=ax3)\n",
    "\n",
    "ax1.grid()\n",
    "ax2.grid()\n",
    "ax3.grid()\n",
    "plt.show()"
   ]
  },
  {
   "cell_type": "markdown",
   "id": "royal-hindu",
   "metadata": {},
   "source": [
    "### 1.1.2 IQR con Rooms"
   ]
  },
  {
   "cell_type": "code",
   "execution_count": 29,
   "id": "national-mount",
   "metadata": {
    "scrolled": true
   },
   "outputs": [
    {
     "data": {
      "text/plain": [
       "1.0      8630\n",
       "2.0     26511\n",
       "3.0     27696\n",
       "4.0     17865\n",
       "5.0      5330\n",
       "6.0      1770\n",
       "7.0       684\n",
       "8.0       392\n",
       "9.0        73\n",
       "10.0       77\n",
       "11.0       28\n",
       "12.0       35\n",
       "13.0        2\n",
       "14.0        4\n",
       "15.0        7\n",
       "16.0        3\n",
       "18.0        4\n",
       "21.0        1\n",
       "26.0        2\n",
       "Name: rooms, dtype: int64"
      ]
     },
     "execution_count": 29,
     "metadata": {},
     "output_type": "execute_result"
    }
   ],
   "source": [
    "dataset[\"rooms\"].value_counts().sort_index()"
   ]
  },
  {
   "cell_type": "markdown",
   "id": "complete-harvard",
   "metadata": {},
   "source": [
    "Se encuentran más monoambientes, valores extremos (como 21 o 26 ambientes) nos hace pensar que se tratan de edificos en arriendo o venta, o tipo hospitales, hostales, etc."
   ]
  },
  {
   "cell_type": "code",
   "execution_count": 30,
   "id": "comfortable-foundation",
   "metadata": {},
   "outputs": [
    {
     "name": "stdout",
     "output_type": "stream",
     "text": [
      "Casa : El N maximo de habitaciones es 9.0, el N minimo de habitaciones es 2.0 y el IQR 2.0\n",
      "PH : El N maximo de habitaciones es 5.5, el N minimo de habitaciones es 1.3299999999999983 y el IQR 1.0\n",
      "Departamento : El N maximo de habitaciones es 7.0, el N minimo de habitaciones es 1.0 y el IQR 2.0\n"
     ]
    }
   ],
   "source": [
    "rooms_min_list=[]\n",
    "rooms_max_list=[]\n",
    "\n",
    "for x in [\"Casa\",\"PH\", \"Departamento\"]:\n",
    "    Q1 = dataset[dataset[\"property_type\"]==x][\"rooms\"].quantile(0.25)\n",
    "    Q3 = dataset[dataset[\"property_type\"]==x][\"rooms\"].quantile(0.75)\n",
    "    IQR = Q3 - Q1\n",
    "    lim_min = dataset[dataset[\"property_type\"]==x][\"rooms\"].quantile(0.01)\n",
    "    lim_max = Q3 + (IQR*1.5)\n",
    "    \n",
    "    rooms_min_list.append(lim_min)\n",
    "    rooms_max_list.append(lim_max)\n",
    "    \n",
    "    print(x,\": El N maximo de habitaciones es {}, el N minimo de habitaciones es {} y el IQR {}\" .format(lim_max,lim_min,IQR))"
   ]
  },
  {
   "cell_type": "code",
   "execution_count": 31,
   "id": "demonstrated-realtor",
   "metadata": {},
   "outputs": [],
   "source": [
    "dpto= dpto[(dpto.rooms <= 4.0) & (dpto.rooms >=1.0) ]\n",
    "ph=ph[(ph.rooms <= 5.0) & (ph.rooms >=2.0) ]\n",
    "casa=casa[(casa.rooms <= 6.0) & (casa.rooms >=2.0) ]"
   ]
  },
  {
   "cell_type": "code",
   "execution_count": 32,
   "id": "random-system",
   "metadata": {},
   "outputs": [
    {
     "data": {
      "image/png": "[encoded data removed]",
      "text/plain": [
       "<Figure size 720x720 with 3 Axes>"
      ]
     },
     "metadata": {},
     "output_type": "display_data"
    }
   ],
   "source": [
    "figure,(ax1,ax2,ax3) = plt.subplots(3,constrained_layout=True,figsize=(10,10))\n",
    "\n",
    "ax1.set_title(\"Relacion tipo de propiedad y cantidad de habitaciones\")\n",
    "ax2.set_title(\"Relacion tipo de propiedad y cantidad de habitaciones\")\n",
    "ax3.set_title(\"Relacion tipo de propiedad y cantidad de habitaciones\")\n",
    "\n",
    "sns.boxplot(data=dpto,x=\"rooms\",y=\"property_type\",ax=ax1)\n",
    "sns.boxplot(data=ph,x=\"rooms\",y=\"property_type\",ax=ax2)\n",
    "sns.boxplot(data=casa,x=\"rooms\",y=\"property_type\",ax=ax3)\n",
    "\n",
    "ax1.grid()\n",
    "ax2.grid()\n",
    "ax3.grid()\n",
    "plt.show()"
   ]
  },
  {
   "cell_type": "markdown",
   "id": "controlling-cheese",
   "metadata": {},
   "source": [
    "Para el caso de Casas se observa que un valor de 5.5 sigue siendo representativo generando algunos outliers en el dataset. Se probará, entonces, aproximando el valor a 5 y observar el resultado."
   ]
  },
  {
   "cell_type": "code",
   "execution_count": 33,
   "id": "scenic-worth",
   "metadata": {},
   "outputs": [],
   "source": [
    "for i in rooms_max_list:\n",
    "    floor_max=math.floor(i)"
   ]
  },
  {
   "cell_type": "code",
   "execution_count": 34,
   "id": "lightweight-israel",
   "metadata": {},
   "outputs": [],
   "source": [
    "dpto= dpto[(dpto.rooms <= 4.0) & (dpto.rooms >=1.0) ]\n",
    "ph=ph[(ph.rooms <= 5.0) & (ph.rooms >=2.0) ]\n",
    "casa=casa[(casa.rooms <= 6.0) & (casa.rooms >=2.0) ]"
   ]
  },
  {
   "cell_type": "code",
   "execution_count": 35,
   "id": "coupled-blanket",
   "metadata": {},
   "outputs": [
    {
     "data": {
      "image/png": "[encoded data removed]",
      "text/plain": [
       "<Figure size 720x720 with 3 Axes>"
      ]
     },
     "metadata": {},
     "output_type": "display_data"
    }
   ],
   "source": [
    "figure,(ax1,ax2,ax3) = plt.subplots(3,constrained_layout=True,figsize=(10,10))\n",
    "\n",
    "ax1.set_title(\"Relacion tipo de propiedad y cantidad de habitaciones\")\n",
    "ax2.set_title(\"Relacion tipo de propiedad y cantidad de habitaciones\")\n",
    "ax3.set_title(\"Relacion tipo de propiedad y cantidad de habitaciones\")\n",
    "\n",
    "sns.boxplot(data=dpto,x=\"rooms\",y=\"property_type\",ax=ax1)\n",
    "sns.boxplot(data=ph,x=\"rooms\",y=\"property_type\",ax=ax2)\n",
    "sns.boxplot(data=casa,x=\"rooms\",y=\"property_type\",ax=ax3)\n",
    "\n",
    "ax1.grid()\n",
    "ax2.grid()\n",
    "ax3.grid()\n",
    "plt.show()"
   ]
  },
  {
   "cell_type": "markdown",
   "id": "metallic-exploration",
   "metadata": {},
   "source": [
    "### 1.1.3 IQR con bathrooms"
   ]
  },
  {
   "cell_type": "code",
   "execution_count": 36,
   "id": "announced-ceramic",
   "metadata": {},
   "outputs": [
    {
     "data": {
      "text/plain": [
       "1.0     53374\n",
       "2.0     22990\n",
       "3.0      7446\n",
       "4.0      2301\n",
       "5.0       664\n",
       "6.0       140\n",
       "7.0        38\n",
       "8.0         4\n",
       "9.0         4\n",
       "10.0        7\n",
       "11.0        3\n",
       "12.0        1\n",
       "14.0        3\n",
       "Name: bathrooms, dtype: int64"
      ]
     },
     "execution_count": 36,
     "metadata": {},
     "output_type": "execute_result"
    }
   ],
   "source": [
    "dataset[\"bathrooms\"].value_counts().sort_index()"
   ]
  },
  {
   "cell_type": "markdown",
   "id": "portuguese-staff",
   "metadata": {},
   "source": [
    "Los valores máximos en el dataset son minimos equivalentes a más de 11 baños en las propiedades. Esto nos hace suponer que se tratan de propiedades de tipo hotel o hostales."
   ]
  },
  {
   "cell_type": "code",
   "execution_count": 37,
   "id": "portuguese-cherry",
   "metadata": {},
   "outputs": [
    {
     "name": "stdout",
     "output_type": "stream",
     "text": [
      "Casa : El N maximo de baños es 4.5, el N minimo de baños es 1.0 y el IQR 1.0\n",
      "PH : El N maximo de baños es 3.5, el N minimo de baños es 1.0 y el IQR 1.0\n",
      "Departamento : El N maximo de baños es 3.5, el N minimo de baños es 1.0 y el IQR 1.0\n"
     ]
    }
   ],
   "source": [
    "bath_min_list=[]\n",
    "bath_max_list=[]\n",
    "\n",
    "for x in [\"Casa\",\"PH\", \"Departamento\"]:\n",
    "    Q1 = dataset[dataset[\"property_type\"]==x][\"bathrooms\"].quantile(0.25)\n",
    "    Q3 = dataset[dataset[\"property_type\"]==x][\"bathrooms\"].quantile(0.75)\n",
    "    IQR = Q3 - Q1\n",
    "    lim_min = dataset[dataset[\"property_type\"]==x][\"bathrooms\"].quantile(0.01)\n",
    "    lim_max = Q3 + (IQR*1.5)\n",
    "    \n",
    "    bath_min_list.append(lim_min)\n",
    "    bath_max_list.append(lim_max)\n",
    "    \n",
    "    print(x, \": El N maximo de baños es {}, el N minimo de baños es {} y el IQR {}\" .format(lim_max,lim_min,IQR))"
   ]
  },
  {
   "cell_type": "markdown",
   "id": "controlling-tribute",
   "metadata": {},
   "source": [
    "Se presenta la misma situación de la parte decimal de los máximos y mínimos. Se procederá a aproximar el resultado."
   ]
  },
  {
   "cell_type": "code",
   "execution_count": 38,
   "id": "unexpected-bearing",
   "metadata": {},
   "outputs": [],
   "source": [
    "for i in bath_max_list:\n",
    "    b_floor_max=math.floor(i)"
   ]
  },
  {
   "cell_type": "code",
   "execution_count": 39,
   "id": "loaded-school",
   "metadata": {},
   "outputs": [],
   "source": [
    "dpto= dpto[(dpto.bathrooms <= 3.0) & (dpto.bathrooms >=1.0) ]\n",
    "ph=ph[(ph.bathrooms <= 3.0) & (ph.bathrooms >=1.0) ]\n",
    "casa=casa[(casa.bathrooms <= 4.0) & (casa.bathrooms >=1.0) ]"
   ]
  },
  {
   "cell_type": "code",
   "execution_count": 40,
   "id": "conceptual-payment",
   "metadata": {},
   "outputs": [
    {
     "data": {
      "image/png": "[encoded data removed]",
      "text/plain": [
       "<Figure size 720x720 with 3 Axes>"
      ]
     },
     "metadata": {},
     "output_type": "display_data"
    }
   ],
   "source": [
    "figure,(ax1,ax2,ax3) = plt.subplots(3,constrained_layout=True,figsize=(10,10))\n",
    "\n",
    "ax1.set_title(\"Relacion tipo de propiedad y cantidad de baños\")\n",
    "ax2.set_title(\"Relacion tipo de propiedad y cantidad de baños\")\n",
    "ax3.set_title(\"Relacion tipo de propiedad y cantidad de baños\")\n",
    "\n",
    "sns.boxplot(data=dpto,x=\"bathrooms\",y=\"property_type\",ax=ax1)\n",
    "sns.boxplot(data=ph,x=\"bathrooms\",y=\"property_type\",ax=ax2)\n",
    "sns.boxplot(data=casa,x=\"bathrooms\",y=\"property_type\",ax=ax3)\n",
    "\n",
    "ax1.grid()\n",
    "ax2.grid()\n",
    "ax3.grid()\n",
    "plt.show()"
   ]
  },
  {
   "cell_type": "markdown",
   "id": "ideal-census",
   "metadata": {},
   "source": [
    "### 1.1.4 IQR con bedrooms"
   ]
  },
  {
   "cell_type": "code",
   "execution_count": 41,
   "id": "moving-inflation",
   "metadata": {},
   "outputs": [
    {
     "data": {
      "text/plain": [
       "0.0      2189\n",
       "1.0     33166\n",
       "2.0     28464\n",
       "3.0     19224\n",
       "4.0      4711\n",
       "5.0       796\n",
       "6.0       305\n",
       "7.0       174\n",
       "8.0        33\n",
       "9.0        16\n",
       "10.0       13\n",
       "11.0        4\n",
       "12.0        9\n",
       "13.0        2\n",
       "14.0        2\n",
       "15.0        6\n",
       "Name: bedrooms, dtype: int64"
      ]
     },
     "execution_count": 41,
     "metadata": {},
     "output_type": "execute_result"
    }
   ],
   "source": [
    "dataset[\"bedrooms\"].value_counts().sort_index()"
   ]
  },
  {
   "cell_type": "markdown",
   "id": "basic-panama",
   "metadata": {},
   "source": [
    "Al igual que en los casos anteriores. Los valores máximos se alcanzan en valores extremadamente altos en comparación a la media. El número alto de cuartos pueden estar en relación al elevado número de ambientes. En el proyecto uno, en la exploración de la descripción de algunas propiedades efectivamente se encontró que se encuentran propiedades de tipo hospitales o hoteles."
   ]
  },
  {
   "cell_type": "code",
   "execution_count": 42,
   "id": "prescription-neighborhood",
   "metadata": {},
   "outputs": [
    {
     "name": "stdout",
     "output_type": "stream",
     "text": [
      "Casa : El # maximo de dormitorios es 5.5, el N minimo de dormitorios es 1.0 y el IQR 1.0\n",
      "PH : El # maximo de dormitorios es 4.5, el N minimo de dormitorios es 1.0 y el IQR 1.0\n",
      "Departamento : El # maximo de dormitorios es 3.5, el N minimo de dormitorios es 0.0 y el IQR 1.0\n"
     ]
    }
   ],
   "source": [
    "bedr_min_list=[]\n",
    "bedr_max_list=[]\n",
    "\n",
    "for x in [\"Casa\",\"PH\", \"Departamento\"]:\n",
    "    Q1 = dataset[dataset[\"property_type\"]==x][\"bedrooms\"].quantile(0.25)\n",
    "    Q3 = dataset[dataset[\"property_type\"]==x][\"bedrooms\"].quantile(0.75)\n",
    "    IQR = Q3 - Q1\n",
    "    lim_min = dataset[dataset[\"property_type\"]==x][\"bedrooms\"].quantile(0.01)\n",
    "    lim_max = Q3 + (IQR*1.5)\n",
    "    \n",
    "    bedr_min_list.append(lim_min)\n",
    "    bedr_max_list.append(lim_max)\n",
    "    \n",
    "    print(x, \": El # maximo de dormitorios es {}, el N minimo de dormitorios es {} y el IQR {}\" .format(lim_max,lim_min,IQR))"
   ]
  },
  {
   "cell_type": "markdown",
   "id": "vital-isolation",
   "metadata": {},
   "source": [
    "Redondeando al decimal más próximo"
   ]
  },
  {
   "cell_type": "code",
   "execution_count": 43,
   "id": "correct-moderator",
   "metadata": {},
   "outputs": [],
   "source": [
    "for i in bedr_max_list:\n",
    "    br_floor_max=math.floor(i)"
   ]
  },
  {
   "cell_type": "code",
   "execution_count": 44,
   "id": "aerial-peninsula",
   "metadata": {},
   "outputs": [],
   "source": [
    "dptos= dpto[(dpto.bedrooms <= 3.0) & (dpto.bedrooms >=0.0) ]\n",
    "phs=ph[(ph.bedrooms <= 4.0) & (ph.bedrooms >=1.0) ]\n",
    "casas=casa[(casa.bedrooms <= 5.0) & (casa.bedrooms >=1.0) ]"
   ]
  },
  {
   "cell_type": "code",
   "execution_count": 45,
   "id": "leading-identifier",
   "metadata": {
    "scrolled": false
   },
   "outputs": [
    {
     "data": {
      "image/png": "[encoded data removed]",
      "text/plain": [
       "<Figure size 720x720 with 3 Axes>"
      ]
     },
     "metadata": {},
     "output_type": "display_data"
    }
   ],
   "source": [
    "figure,(ax1,ax2,ax3) = plt.subplots(3,constrained_layout=True,figsize=(10,10))\n",
    "\n",
    "ax1.set_title(\"Relacion tipo de propiedad y cantidad de dormitorios\")\n",
    "ax2.set_title(\"Relacion tipo de propiedad y cantidad de dormitorios\")\n",
    "ax3.set_title(\"Relacion tipo de propiedad y cantidad de dormitorios\")\n",
    "\n",
    "sns.boxplot(data=dpto,x=\"bedrooms\",y=\"property_type\",ax=ax1)\n",
    "sns.boxplot(data=ph,x=\"bedrooms\",y=\"property_type\",ax=ax2)\n",
    "sns.boxplot(data=casa,x=\"bedrooms\",y=\"property_type\",ax=ax3)\n",
    "\n",
    "ax1.grid()\n",
    "ax2.grid()\n",
    "ax3.grid()\n",
    "plt.show()"
   ]
  },
  {
   "cell_type": "markdown",
   "id": "universal-corner",
   "metadata": {},
   "source": [
    "Se detectan algunos outliers; aun así, se mantendrán y se observará una vez completado el punto A."
   ]
  },
  {
   "cell_type": "markdown",
   "id": "mounted-empty",
   "metadata": {},
   "source": [
    "### 1.1.5 IQR con superficie total"
   ]
  },
  {
   "cell_type": "markdown",
   "id": "failing-senator",
   "metadata": {},
   "source": [
    "Se realiza la misma metodología realizada en las demás columnas."
   ]
  },
  {
   "cell_type": "code",
   "execution_count": 46,
   "id": "statewide-telling",
   "metadata": {},
   "outputs": [
    {
     "name": "stdout",
     "output_type": "stream",
     "text": [
      "Casa : El maximo de surface total es 593.0, el minimo de surface total es 56.0 y el IQR 170.0\n",
      "PH : El maximo de surface total es 275.0, el minimo de surface total es 35.0 y el IQR 82.0\n",
      "Departamento : El maximo de surface total es 177.0, el minimo de surface total es 26.0 y el IQR 52.0\n"
     ]
    }
   ],
   "source": [
    "surfT_min_list=[]\n",
    "surfT_max_list=[]\n",
    "\n",
    "for x in [\"Casa\",\"PH\", \"Departamento\"]:\n",
    "    Q1 = dataset[dataset[\"property_type\"]==x][\"surface_total\"].quantile(0.25)\n",
    "    Q3 = dataset[dataset[\"property_type\"]==x][\"surface_total\"].quantile(0.75)\n",
    "    IQR = Q3 - Q1\n",
    "    lim_min = dataset[dataset[\"property_type\"]==x][\"surface_total\"].quantile(0.01)\n",
    "    lim_max = Q3 + (IQR*1.5)\n",
    "    \n",
    "    surfT_min_list.append(lim_min)\n",
    "    surfT_max_list.append(lim_max)\n",
    "    \n",
    "    print(x, \": El maximo de surface total es {}, el minimo de surface total es {} y el IQR {}\" .format(lim_max,lim_min,IQR))"
   ]
  },
  {
   "cell_type": "code",
   "execution_count": 47,
   "id": "helpful-saudi",
   "metadata": {},
   "outputs": [],
   "source": [
    "dpto= dpto[(dpto.surface_total <= 182.91) & (dpto.surface_total >=26.0) ]\n",
    "ph=ph[(ph.surface_total <= 275.0) & (ph.surface_total >=35.0) ]\n",
    "casa=casa[(casa.surface_total <= 583.12) & (casa.surface_total >=56.81) ]"
   ]
  },
  {
   "cell_type": "code",
   "execution_count": 48,
   "id": "formal-triple",
   "metadata": {},
   "outputs": [
    {
     "data": {
      "image/png": "[encoded data removed]",
      "text/plain": [
       "<Figure size 720x720 with 3 Axes>"
      ]
     },
     "metadata": {},
     "output_type": "display_data"
    }
   ],
   "source": [
    "figure,(ax1,ax2,ax3) = plt.subplots(3,constrained_layout=True,figsize=(10,10))\n",
    "\n",
    "ax1.set_title(\"Relacion tipo de propiedad y superficie total\")\n",
    "ax2.set_title(\"Relacion tipo de propiedad y superficie total\")\n",
    "ax3.set_title(\"Relacion tipo de propiedad y superficie total\")\n",
    "\n",
    "sns.boxplot(data=dpto,x=\"surface_total\",y=\"property_type\",ax=ax1)\n",
    "sns.boxplot(data=ph,x=\"surface_total\",y=\"property_type\",ax=ax2)\n",
    "sns.boxplot(data=casa,x=\"surface_total\",y=\"property_type\",ax=ax3)\n",
    "\n",
    "ax1.grid()\n",
    "ax2.grid()\n",
    "ax3.grid()\n",
    "plt.show()"
   ]
  },
  {
   "cell_type": "markdown",
   "id": "quick-maximum",
   "metadata": {},
   "source": [
    "### 1.1.6 Concatenar resultados"
   ]
  },
  {
   "cell_type": "markdown",
   "id": "sacred-associate",
   "metadata": {},
   "source": [
    "Visión actual del dataset."
   ]
  },
  {
   "cell_type": "code",
   "execution_count": 49,
   "id": "identical-eleven",
   "metadata": {},
   "outputs": [
    {
     "data": {
      "text/plain": [
       "(89114, 11)"
      ]
     },
     "execution_count": 49,
     "metadata": {},
     "output_type": "execute_result"
    }
   ],
   "source": [
    "dataset.shape"
   ]
  },
  {
   "cell_type": "markdown",
   "id": "august-publicity",
   "metadata": {},
   "source": [
    "Concatenación de las variables."
   ]
  },
  {
   "cell_type": "code",
   "execution_count": 50,
   "id": "satellite-techno",
   "metadata": {},
   "outputs": [
    {
     "data": {
      "text/html": [
       "<div>\n",
       "<style scoped>\n",
       "    .dataframe tbody tr th:only-of-type {\n",
       "        vertical-align: middle;\n",
       "    }\n",
       "\n",
       "    .dataframe tbody tr th {\n",
       "        vertical-align: top;\n",
       "    }\n",
       "\n",
       "    .dataframe thead th {\n",
       "        text-align: right;\n",
       "    }\n",
       "</style>\n",
       "<table border=\"1\" class=\"dataframe\">\n",
       "  <thead>\n",
       "    <tr style=\"text-align: right;\">\n",
       "      <th></th>\n",
       "      <th>created_on</th>\n",
       "      <th>lat</th>\n",
       "      <th>lon</th>\n",
       "      <th>l3</th>\n",
       "      <th>rooms</th>\n",
       "      <th>bedrooms</th>\n",
       "      <th>bathrooms</th>\n",
       "      <th>surface_total</th>\n",
       "      <th>surface_covered</th>\n",
       "      <th>price</th>\n",
       "      <th>property_type</th>\n",
       "    </tr>\n",
       "  </thead>\n",
       "  <tbody>\n",
       "    <tr>\n",
       "      <th>11</th>\n",
       "      <td>2019-10-17</td>\n",
       "      <td>-34.603683</td>\n",
       "      <td>-58.381557</td>\n",
       "      <td>Boedo</td>\n",
       "      <td>2.0</td>\n",
       "      <td>1.0</td>\n",
       "      <td>1.0</td>\n",
       "      <td>68.0</td>\n",
       "      <td>59.0</td>\n",
       "      <td>149000.0</td>\n",
       "      <td>Departamento</td>\n",
       "    </tr>\n",
       "    <tr>\n",
       "      <th>12</th>\n",
       "      <td>2019-10-17</td>\n",
       "      <td>-34.630349</td>\n",
       "      <td>-58.417223</td>\n",
       "      <td>Boedo</td>\n",
       "      <td>2.0</td>\n",
       "      <td>1.0</td>\n",
       "      <td>1.0</td>\n",
       "      <td>50.0</td>\n",
       "      <td>44.0</td>\n",
       "      <td>115000.0</td>\n",
       "      <td>Departamento</td>\n",
       "    </tr>\n",
       "    <tr>\n",
       "      <th>20</th>\n",
       "      <td>2019-10-17</td>\n",
       "      <td>-34.608246</td>\n",
       "      <td>-58.444262</td>\n",
       "      <td>Abasto</td>\n",
       "      <td>2.0</td>\n",
       "      <td>1.0</td>\n",
       "      <td>1.0</td>\n",
       "      <td>31.0</td>\n",
       "      <td>31.0</td>\n",
       "      <td>75000.0</td>\n",
       "      <td>Departamento</td>\n",
       "    </tr>\n",
       "    <tr>\n",
       "      <th>22</th>\n",
       "      <td>2019-10-17</td>\n",
       "      <td>-34.626240</td>\n",
       "      <td>-58.462078</td>\n",
       "      <td>Flores</td>\n",
       "      <td>2.0</td>\n",
       "      <td>1.0</td>\n",
       "      <td>1.0</td>\n",
       "      <td>45.0</td>\n",
       "      <td>45.0</td>\n",
       "      <td>95000.0</td>\n",
       "      <td>Departamento</td>\n",
       "    </tr>\n",
       "    <tr>\n",
       "      <th>23</th>\n",
       "      <td>2019-10-17</td>\n",
       "      <td>-34.625611</td>\n",
       "      <td>-58.462403</td>\n",
       "      <td>Flores</td>\n",
       "      <td>2.0</td>\n",
       "      <td>1.0</td>\n",
       "      <td>1.0</td>\n",
       "      <td>45.0</td>\n",
       "      <td>45.0</td>\n",
       "      <td>95000.0</td>\n",
       "      <td>Departamento</td>\n",
       "    </tr>\n",
       "  </tbody>\n",
       "</table>\n",
       "</div>"
      ],
      "text/plain": [
       "    created_on        lat        lon      l3  rooms  bedrooms  bathrooms  \\\n",
       "11  2019-10-17 -34.603683 -58.381557   Boedo    2.0       1.0        1.0   \n",
       "12  2019-10-17 -34.630349 -58.417223   Boedo    2.0       1.0        1.0   \n",
       "20  2019-10-17 -34.608246 -58.444262  Abasto    2.0       1.0        1.0   \n",
       "22  2019-10-17 -34.626240 -58.462078  Flores    2.0       1.0        1.0   \n",
       "23  2019-10-17 -34.625611 -58.462403  Flores    2.0       1.0        1.0   \n",
       "\n",
       "    surface_total  surface_covered     price property_type  \n",
       "11           68.0             59.0  149000.0  Departamento  \n",
       "12           50.0             44.0  115000.0  Departamento  \n",
       "20           31.0             31.0   75000.0  Departamento  \n",
       "22           45.0             45.0   95000.0  Departamento  \n",
       "23           45.0             45.0   95000.0  Departamento  "
      ]
     },
     "execution_count": 50,
     "metadata": {},
     "output_type": "execute_result"
    }
   ],
   "source": [
    "conc_1=[dpto,ph,casa]\n",
    "dataset= pd.concat(conc_1)\n",
    "dataset.head(5)"
   ]
  },
  {
   "cell_type": "code",
   "execution_count": 297,
   "id": "dramatic-technique",
   "metadata": {},
   "outputs": [
    {
     "data": {
      "text/plain": [
       "(64205, 11)"
      ]
     },
     "execution_count": 297,
     "metadata": {},
     "output_type": "execute_result"
    }
   ],
   "source": [
    "dataset.shape"
   ]
  },
  {
   "cell_type": "markdown",
   "id": "returning-asbestos",
   "metadata": {},
   "source": [
    "### 1.1.7 Visualización general del dataset"
   ]
  },
  {
   "cell_type": "code",
   "execution_count": 298,
   "id": "dramatic-terrorist",
   "metadata": {},
   "outputs": [
    {
     "data": {
      "text/plain": [
       "<AxesSubplot:>"
      ]
     },
     "execution_count": 298,
     "metadata": {},
     "output_type": "execute_result"
    },
    {
     "data": {
      "image/png": "[encoded data removed]",
      "text/plain": [
       "<Figure size 576x576 with 2 Axes>"
      ]
     },
     "metadata": {},
     "output_type": "display_data"
    }
   ],
   "source": [
    "fig =plt.subplots(figsize=(8,8))\n",
    "sns.heatmap(dataset.corr(), annot=True)"
   ]
  },
  {
   "cell_type": "markdown",
   "id": "worth-action",
   "metadata": {},
   "source": [
    "### 1.2 Encoding"
   ]
  },
  {
   "cell_type": "markdown",
   "id": "japanese-reply",
   "metadata": {},
   "source": [
    "Visualización general del dataset."
   ]
  },
  {
   "cell_type": "code",
   "execution_count": 299,
   "id": "enabling-arlington",
   "metadata": {
    "scrolled": false
   },
   "outputs": [
    {
     "data": {
      "text/html": [
       "<div>\n",
       "<style scoped>\n",
       "    .dataframe tbody tr th:only-of-type {\n",
       "        vertical-align: middle;\n",
       "    }\n",
       "\n",
       "    .dataframe tbody tr th {\n",
       "        vertical-align: top;\n",
       "    }\n",
       "\n",
       "    .dataframe thead th {\n",
       "        text-align: right;\n",
       "    }\n",
       "</style>\n",
       "<table border=\"1\" class=\"dataframe\">\n",
       "  <thead>\n",
       "    <tr style=\"text-align: right;\">\n",
       "      <th></th>\n",
       "      <th>created_on</th>\n",
       "      <th>lat</th>\n",
       "      <th>lon</th>\n",
       "      <th>l3</th>\n",
       "      <th>rooms</th>\n",
       "      <th>bedrooms</th>\n",
       "      <th>bathrooms</th>\n",
       "      <th>surface_total</th>\n",
       "      <th>surface_covered</th>\n",
       "      <th>price</th>\n",
       "      <th>property_type</th>\n",
       "    </tr>\n",
       "  </thead>\n",
       "  <tbody>\n",
       "    <tr>\n",
       "      <th>11</th>\n",
       "      <td>2019-10-17</td>\n",
       "      <td>-34.603683</td>\n",
       "      <td>-58.381557</td>\n",
       "      <td>Boedo</td>\n",
       "      <td>2.0</td>\n",
       "      <td>1.0</td>\n",
       "      <td>1.0</td>\n",
       "      <td>68.0</td>\n",
       "      <td>59.0</td>\n",
       "      <td>149000.0</td>\n",
       "      <td>Departamento</td>\n",
       "    </tr>\n",
       "    <tr>\n",
       "      <th>12</th>\n",
       "      <td>2019-10-17</td>\n",
       "      <td>-34.630349</td>\n",
       "      <td>-58.417223</td>\n",
       "      <td>Boedo</td>\n",
       "      <td>2.0</td>\n",
       "      <td>1.0</td>\n",
       "      <td>1.0</td>\n",
       "      <td>50.0</td>\n",
       "      <td>44.0</td>\n",
       "      <td>115000.0</td>\n",
       "      <td>Departamento</td>\n",
       "    </tr>\n",
       "    <tr>\n",
       "      <th>20</th>\n",
       "      <td>2019-10-17</td>\n",
       "      <td>-34.608246</td>\n",
       "      <td>-58.444262</td>\n",
       "      <td>Abasto</td>\n",
       "      <td>2.0</td>\n",
       "      <td>1.0</td>\n",
       "      <td>1.0</td>\n",
       "      <td>31.0</td>\n",
       "      <td>31.0</td>\n",
       "      <td>75000.0</td>\n",
       "      <td>Departamento</td>\n",
       "    </tr>\n",
       "    <tr>\n",
       "      <th>22</th>\n",
       "      <td>2019-10-17</td>\n",
       "      <td>-34.626240</td>\n",
       "      <td>-58.462078</td>\n",
       "      <td>Flores</td>\n",
       "      <td>2.0</td>\n",
       "      <td>1.0</td>\n",
       "      <td>1.0</td>\n",
       "      <td>45.0</td>\n",
       "      <td>45.0</td>\n",
       "      <td>95000.0</td>\n",
       "      <td>Departamento</td>\n",
       "    </tr>\n",
       "    <tr>\n",
       "      <th>23</th>\n",
       "      <td>2019-10-17</td>\n",
       "      <td>-34.625611</td>\n",
       "      <td>-58.462403</td>\n",
       "      <td>Flores</td>\n",
       "      <td>2.0</td>\n",
       "      <td>1.0</td>\n",
       "      <td>1.0</td>\n",
       "      <td>45.0</td>\n",
       "      <td>45.0</td>\n",
       "      <td>95000.0</td>\n",
       "      <td>Departamento</td>\n",
       "    </tr>\n",
       "  </tbody>\n",
       "</table>\n",
       "</div>"
      ],
      "text/plain": [
       "    created_on        lat        lon      l3  rooms  bedrooms  bathrooms  \\\n",
       "11  2019-10-17 -34.603683 -58.381557   Boedo    2.0       1.0        1.0   \n",
       "12  2019-10-17 -34.630349 -58.417223   Boedo    2.0       1.0        1.0   \n",
       "20  2019-10-17 -34.608246 -58.444262  Abasto    2.0       1.0        1.0   \n",
       "22  2019-10-17 -34.626240 -58.462078  Flores    2.0       1.0        1.0   \n",
       "23  2019-10-17 -34.625611 -58.462403  Flores    2.0       1.0        1.0   \n",
       "\n",
       "    surface_total  surface_covered     price property_type  \n",
       "11           68.0             59.0  149000.0  Departamento  \n",
       "12           50.0             44.0  115000.0  Departamento  \n",
       "20           31.0             31.0   75000.0  Departamento  \n",
       "22           45.0             45.0   95000.0  Departamento  \n",
       "23           45.0             45.0   95000.0  Departamento  "
      ]
     },
     "execution_count": 299,
     "metadata": {},
     "output_type": "execute_result"
    }
   ],
   "source": [
    "dataset.head()"
   ]
  },
  {
   "cell_type": "markdown",
   "id": "coated-infection",
   "metadata": {},
   "source": [
    "Se trabajará inicialmente con la columna de created_on."
   ]
  },
  {
   "cell_type": "code",
   "execution_count": 300,
   "id": "traditional-winner",
   "metadata": {},
   "outputs": [
    {
     "data": {
      "text/html": [
       "<div>\n",
       "<style scoped>\n",
       "    .dataframe tbody tr th:only-of-type {\n",
       "        vertical-align: middle;\n",
       "    }\n",
       "\n",
       "    .dataframe tbody tr th {\n",
       "        vertical-align: top;\n",
       "    }\n",
       "\n",
       "    .dataframe thead th {\n",
       "        text-align: right;\n",
       "    }\n",
       "</style>\n",
       "<table border=\"1\" class=\"dataframe\">\n",
       "  <thead>\n",
       "    <tr style=\"text-align: right;\">\n",
       "      <th></th>\n",
       "      <th>lat</th>\n",
       "      <th>lon</th>\n",
       "      <th>l3</th>\n",
       "      <th>rooms</th>\n",
       "      <th>bedrooms</th>\n",
       "      <th>bathrooms</th>\n",
       "      <th>surface_total</th>\n",
       "      <th>surface_covered</th>\n",
       "      <th>price</th>\n",
       "      <th>property_type</th>\n",
       "      <th>fecha</th>\n",
       "    </tr>\n",
       "  </thead>\n",
       "  <tbody>\n",
       "    <tr>\n",
       "      <th>11</th>\n",
       "      <td>-34.603683</td>\n",
       "      <td>-58.381557</td>\n",
       "      <td>Boedo</td>\n",
       "      <td>2.0</td>\n",
       "      <td>1.0</td>\n",
       "      <td>1.0</td>\n",
       "      <td>68.0</td>\n",
       "      <td>59.0</td>\n",
       "      <td>149000.0</td>\n",
       "      <td>Departamento</td>\n",
       "      <td>2019-10-17</td>\n",
       "    </tr>\n",
       "    <tr>\n",
       "      <th>12</th>\n",
       "      <td>-34.630349</td>\n",
       "      <td>-58.417223</td>\n",
       "      <td>Boedo</td>\n",
       "      <td>2.0</td>\n",
       "      <td>1.0</td>\n",
       "      <td>1.0</td>\n",
       "      <td>50.0</td>\n",
       "      <td>44.0</td>\n",
       "      <td>115000.0</td>\n",
       "      <td>Departamento</td>\n",
       "      <td>2019-10-17</td>\n",
       "    </tr>\n",
       "    <tr>\n",
       "      <th>20</th>\n",
       "      <td>-34.608246</td>\n",
       "      <td>-58.444262</td>\n",
       "      <td>Abasto</td>\n",
       "      <td>2.0</td>\n",
       "      <td>1.0</td>\n",
       "      <td>1.0</td>\n",
       "      <td>31.0</td>\n",
       "      <td>31.0</td>\n",
       "      <td>75000.0</td>\n",
       "      <td>Departamento</td>\n",
       "      <td>2019-10-17</td>\n",
       "    </tr>\n",
       "    <tr>\n",
       "      <th>22</th>\n",
       "      <td>-34.626240</td>\n",
       "      <td>-58.462078</td>\n",
       "      <td>Flores</td>\n",
       "      <td>2.0</td>\n",
       "      <td>1.0</td>\n",
       "      <td>1.0</td>\n",
       "      <td>45.0</td>\n",
       "      <td>45.0</td>\n",
       "      <td>95000.0</td>\n",
       "      <td>Departamento</td>\n",
       "      <td>2019-10-17</td>\n",
       "    </tr>\n",
       "    <tr>\n",
       "      <th>23</th>\n",
       "      <td>-34.625611</td>\n",
       "      <td>-58.462403</td>\n",
       "      <td>Flores</td>\n",
       "      <td>2.0</td>\n",
       "      <td>1.0</td>\n",
       "      <td>1.0</td>\n",
       "      <td>45.0</td>\n",
       "      <td>45.0</td>\n",
       "      <td>95000.0</td>\n",
       "      <td>Departamento</td>\n",
       "      <td>2019-10-17</td>\n",
       "    </tr>\n",
       "  </tbody>\n",
       "</table>\n",
       "</div>"
      ],
      "text/plain": [
       "          lat        lon      l3  rooms  bedrooms  bathrooms  surface_total  \\\n",
       "11 -34.603683 -58.381557   Boedo    2.0       1.0        1.0           68.0   \n",
       "12 -34.630349 -58.417223   Boedo    2.0       1.0        1.0           50.0   \n",
       "20 -34.608246 -58.444262  Abasto    2.0       1.0        1.0           31.0   \n",
       "22 -34.626240 -58.462078  Flores    2.0       1.0        1.0           45.0   \n",
       "23 -34.625611 -58.462403  Flores    2.0       1.0        1.0           45.0   \n",
       "\n",
       "    surface_covered     price property_type      fecha  \n",
       "11             59.0  149000.0  Departamento 2019-10-17  \n",
       "12             44.0  115000.0  Departamento 2019-10-17  \n",
       "20             31.0   75000.0  Departamento 2019-10-17  \n",
       "22             45.0   95000.0  Departamento 2019-10-17  \n",
       "23             45.0   95000.0  Departamento 2019-10-17  "
      ]
     },
     "execution_count": 300,
     "metadata": {},
     "output_type": "execute_result"
    }
   ],
   "source": [
    "dataset[\"fecha\"] = pd.to_datetime(dataset.created_on, format=\"%Y-%m-%d\")\n",
    "dataset.drop(\"created_on\",axis=1,inplace=True)\n",
    "dataset.head()"
   ]
  },
  {
   "cell_type": "code",
   "execution_count": 301,
   "id": "floppy-charm",
   "metadata": {
    "scrolled": true
   },
   "outputs": [
    {
     "data": {
      "text/html": [
       "<div>\n",
       "<style scoped>\n",
       "    .dataframe tbody tr th:only-of-type {\n",
       "        vertical-align: middle;\n",
       "    }\n",
       "\n",
       "    .dataframe tbody tr th {\n",
       "        vertical-align: top;\n",
       "    }\n",
       "\n",
       "    .dataframe thead th {\n",
       "        text-align: right;\n",
       "    }\n",
       "</style>\n",
       "<table border=\"1\" class=\"dataframe\">\n",
       "  <thead>\n",
       "    <tr style=\"text-align: right;\">\n",
       "      <th></th>\n",
       "      <th>lat</th>\n",
       "      <th>lon</th>\n",
       "      <th>l3</th>\n",
       "      <th>rooms</th>\n",
       "      <th>bedrooms</th>\n",
       "      <th>bathrooms</th>\n",
       "      <th>surface_total</th>\n",
       "      <th>surface_covered</th>\n",
       "      <th>price</th>\n",
       "      <th>property_type</th>\n",
       "      <th>año</th>\n",
       "    </tr>\n",
       "  </thead>\n",
       "  <tbody>\n",
       "    <tr>\n",
       "      <th>11</th>\n",
       "      <td>-34.603683</td>\n",
       "      <td>-58.381557</td>\n",
       "      <td>Boedo</td>\n",
       "      <td>2.0</td>\n",
       "      <td>1.0</td>\n",
       "      <td>1.0</td>\n",
       "      <td>68.0</td>\n",
       "      <td>59.0</td>\n",
       "      <td>149000.0</td>\n",
       "      <td>Departamento</td>\n",
       "      <td>2019</td>\n",
       "    </tr>\n",
       "    <tr>\n",
       "      <th>12</th>\n",
       "      <td>-34.630349</td>\n",
       "      <td>-58.417223</td>\n",
       "      <td>Boedo</td>\n",
       "      <td>2.0</td>\n",
       "      <td>1.0</td>\n",
       "      <td>1.0</td>\n",
       "      <td>50.0</td>\n",
       "      <td>44.0</td>\n",
       "      <td>115000.0</td>\n",
       "      <td>Departamento</td>\n",
       "      <td>2019</td>\n",
       "    </tr>\n",
       "    <tr>\n",
       "      <th>20</th>\n",
       "      <td>-34.608246</td>\n",
       "      <td>-58.444262</td>\n",
       "      <td>Abasto</td>\n",
       "      <td>2.0</td>\n",
       "      <td>1.0</td>\n",
       "      <td>1.0</td>\n",
       "      <td>31.0</td>\n",
       "      <td>31.0</td>\n",
       "      <td>75000.0</td>\n",
       "      <td>Departamento</td>\n",
       "      <td>2019</td>\n",
       "    </tr>\n",
       "    <tr>\n",
       "      <th>22</th>\n",
       "      <td>-34.626240</td>\n",
       "      <td>-58.462078</td>\n",
       "      <td>Flores</td>\n",
       "      <td>2.0</td>\n",
       "      <td>1.0</td>\n",
       "      <td>1.0</td>\n",
       "      <td>45.0</td>\n",
       "      <td>45.0</td>\n",
       "      <td>95000.0</td>\n",
       "      <td>Departamento</td>\n",
       "      <td>2019</td>\n",
       "    </tr>\n",
       "    <tr>\n",
       "      <th>23</th>\n",
       "      <td>-34.625611</td>\n",
       "      <td>-58.462403</td>\n",
       "      <td>Flores</td>\n",
       "      <td>2.0</td>\n",
       "      <td>1.0</td>\n",
       "      <td>1.0</td>\n",
       "      <td>45.0</td>\n",
       "      <td>45.0</td>\n",
       "      <td>95000.0</td>\n",
       "      <td>Departamento</td>\n",
       "      <td>2019</td>\n",
       "    </tr>\n",
       "  </tbody>\n",
       "</table>\n",
       "</div>"
      ],
      "text/plain": [
       "          lat        lon      l3  rooms  bedrooms  bathrooms  surface_total  \\\n",
       "11 -34.603683 -58.381557   Boedo    2.0       1.0        1.0           68.0   \n",
       "12 -34.630349 -58.417223   Boedo    2.0       1.0        1.0           50.0   \n",
       "20 -34.608246 -58.444262  Abasto    2.0       1.0        1.0           31.0   \n",
       "22 -34.626240 -58.462078  Flores    2.0       1.0        1.0           45.0   \n",
       "23 -34.625611 -58.462403  Flores    2.0       1.0        1.0           45.0   \n",
       "\n",
       "    surface_covered     price property_type   año  \n",
       "11             59.0  149000.0  Departamento  2019  \n",
       "12             44.0  115000.0  Departamento  2019  \n",
       "20             31.0   75000.0  Departamento  2019  \n",
       "22             45.0   95000.0  Departamento  2019  \n",
       "23             45.0   95000.0  Departamento  2019  "
      ]
     },
     "execution_count": 301,
     "metadata": {},
     "output_type": "execute_result"
    }
   ],
   "source": [
    "dataset['año'] = pd.DatetimeIndex(dataset['fecha']).year\n",
    "dataset.drop(\"fecha\",axis=1,inplace=True)\n",
    "dataset.head()"
   ]
  },
  {
   "cell_type": "code",
   "execution_count": 302,
   "id": "martial-stand",
   "metadata": {},
   "outputs": [],
   "source": [
    "Labelencoder= LabelEncoder()\n",
    "Labelencoder.fit(dataset[\"año\"])\n",
    "dataset[\"años\"] = Labelencoder.transform(dataset[\"año\"])\n",
    "dataset.drop(\"año\",axis=1,inplace=True)"
   ]
  },
  {
   "cell_type": "markdown",
   "id": "geological-flashing",
   "metadata": {},
   "source": [
    "Se transforma entonces la ultima columna para denotar los años 2019 y 2020 como 0 1 y respectivamente."
   ]
  },
  {
   "cell_type": "code",
   "execution_count": 303,
   "id": "amino-luxembourg",
   "metadata": {},
   "outputs": [
    {
     "data": {
      "text/html": [
       "<div>\n",
       "<style scoped>\n",
       "    .dataframe tbody tr th:only-of-type {\n",
       "        vertical-align: middle;\n",
       "    }\n",
       "\n",
       "    .dataframe tbody tr th {\n",
       "        vertical-align: top;\n",
       "    }\n",
       "\n",
       "    .dataframe thead th {\n",
       "        text-align: right;\n",
       "    }\n",
       "</style>\n",
       "<table border=\"1\" class=\"dataframe\">\n",
       "  <thead>\n",
       "    <tr style=\"text-align: right;\">\n",
       "      <th></th>\n",
       "      <th>lat</th>\n",
       "      <th>lon</th>\n",
       "      <th>l3</th>\n",
       "      <th>rooms</th>\n",
       "      <th>bedrooms</th>\n",
       "      <th>bathrooms</th>\n",
       "      <th>surface_total</th>\n",
       "      <th>surface_covered</th>\n",
       "      <th>price</th>\n",
       "      <th>property_type</th>\n",
       "      <th>años</th>\n",
       "    </tr>\n",
       "  </thead>\n",
       "  <tbody>\n",
       "    <tr>\n",
       "      <th>11</th>\n",
       "      <td>-34.603683</td>\n",
       "      <td>-58.381557</td>\n",
       "      <td>Boedo</td>\n",
       "      <td>2.0</td>\n",
       "      <td>1.0</td>\n",
       "      <td>1.0</td>\n",
       "      <td>68.0</td>\n",
       "      <td>59.0</td>\n",
       "      <td>149000.0</td>\n",
       "      <td>Departamento</td>\n",
       "      <td>0</td>\n",
       "    </tr>\n",
       "    <tr>\n",
       "      <th>12</th>\n",
       "      <td>-34.630349</td>\n",
       "      <td>-58.417223</td>\n",
       "      <td>Boedo</td>\n",
       "      <td>2.0</td>\n",
       "      <td>1.0</td>\n",
       "      <td>1.0</td>\n",
       "      <td>50.0</td>\n",
       "      <td>44.0</td>\n",
       "      <td>115000.0</td>\n",
       "      <td>Departamento</td>\n",
       "      <td>0</td>\n",
       "    </tr>\n",
       "    <tr>\n",
       "      <th>20</th>\n",
       "      <td>-34.608246</td>\n",
       "      <td>-58.444262</td>\n",
       "      <td>Abasto</td>\n",
       "      <td>2.0</td>\n",
       "      <td>1.0</td>\n",
       "      <td>1.0</td>\n",
       "      <td>31.0</td>\n",
       "      <td>31.0</td>\n",
       "      <td>75000.0</td>\n",
       "      <td>Departamento</td>\n",
       "      <td>0</td>\n",
       "    </tr>\n",
       "    <tr>\n",
       "      <th>22</th>\n",
       "      <td>-34.626240</td>\n",
       "      <td>-58.462078</td>\n",
       "      <td>Flores</td>\n",
       "      <td>2.0</td>\n",
       "      <td>1.0</td>\n",
       "      <td>1.0</td>\n",
       "      <td>45.0</td>\n",
       "      <td>45.0</td>\n",
       "      <td>95000.0</td>\n",
       "      <td>Departamento</td>\n",
       "      <td>0</td>\n",
       "    </tr>\n",
       "    <tr>\n",
       "      <th>23</th>\n",
       "      <td>-34.625611</td>\n",
       "      <td>-58.462403</td>\n",
       "      <td>Flores</td>\n",
       "      <td>2.0</td>\n",
       "      <td>1.0</td>\n",
       "      <td>1.0</td>\n",
       "      <td>45.0</td>\n",
       "      <td>45.0</td>\n",
       "      <td>95000.0</td>\n",
       "      <td>Departamento</td>\n",
       "      <td>0</td>\n",
       "    </tr>\n",
       "    <tr>\n",
       "      <th>...</th>\n",
       "      <td>...</td>\n",
       "      <td>...</td>\n",
       "      <td>...</td>\n",
       "      <td>...</td>\n",
       "      <td>...</td>\n",
       "      <td>...</td>\n",
       "      <td>...</td>\n",
       "      <td>...</td>\n",
       "      <td>...</td>\n",
       "      <td>...</td>\n",
       "      <td>...</td>\n",
       "    </tr>\n",
       "    <tr>\n",
       "      <th>145296</th>\n",
       "      <td>-34.638175</td>\n",
       "      <td>-58.454397</td>\n",
       "      <td>Flores</td>\n",
       "      <td>4.0</td>\n",
       "      <td>3.0</td>\n",
       "      <td>1.0</td>\n",
       "      <td>150.0</td>\n",
       "      <td>120.0</td>\n",
       "      <td>200000.0</td>\n",
       "      <td>Casa</td>\n",
       "      <td>1</td>\n",
       "    </tr>\n",
       "    <tr>\n",
       "      <th>145332</th>\n",
       "      <td>-34.678970</td>\n",
       "      <td>-58.485073</td>\n",
       "      <td>Villa Lugano</td>\n",
       "      <td>4.0</td>\n",
       "      <td>3.0</td>\n",
       "      <td>2.0</td>\n",
       "      <td>160.0</td>\n",
       "      <td>140.0</td>\n",
       "      <td>140000.0</td>\n",
       "      <td>Casa</td>\n",
       "      <td>1</td>\n",
       "    </tr>\n",
       "    <tr>\n",
       "      <th>145352</th>\n",
       "      <td>-34.643295</td>\n",
       "      <td>-58.467017</td>\n",
       "      <td>Flores</td>\n",
       "      <td>5.0</td>\n",
       "      <td>3.0</td>\n",
       "      <td>2.0</td>\n",
       "      <td>230.0</td>\n",
       "      <td>155.0</td>\n",
       "      <td>219000.0</td>\n",
       "      <td>Casa</td>\n",
       "      <td>1</td>\n",
       "    </tr>\n",
       "    <tr>\n",
       "      <th>145368</th>\n",
       "      <td>-34.644531</td>\n",
       "      <td>-58.521780</td>\n",
       "      <td>Liniers</td>\n",
       "      <td>5.0</td>\n",
       "      <td>4.0</td>\n",
       "      <td>3.0</td>\n",
       "      <td>210.0</td>\n",
       "      <td>165.0</td>\n",
       "      <td>328000.0</td>\n",
       "      <td>Casa</td>\n",
       "      <td>1</td>\n",
       "    </tr>\n",
       "    <tr>\n",
       "      <th>145547</th>\n",
       "      <td>-34.640486</td>\n",
       "      <td>-58.468197</td>\n",
       "      <td>Flores</td>\n",
       "      <td>5.0</td>\n",
       "      <td>3.0</td>\n",
       "      <td>3.0</td>\n",
       "      <td>190.0</td>\n",
       "      <td>155.0</td>\n",
       "      <td>259500.0</td>\n",
       "      <td>Casa</td>\n",
       "      <td>1</td>\n",
       "    </tr>\n",
       "  </tbody>\n",
       "</table>\n",
       "<p>64200 rows × 11 columns</p>\n",
       "</div>"
      ],
      "text/plain": [
       "              lat        lon            l3  rooms  bedrooms  bathrooms  \\\n",
       "11     -34.603683 -58.381557         Boedo    2.0       1.0        1.0   \n",
       "12     -34.630349 -58.417223         Boedo    2.0       1.0        1.0   \n",
       "20     -34.608246 -58.444262        Abasto    2.0       1.0        1.0   \n",
       "22     -34.626240 -58.462078        Flores    2.0       1.0        1.0   \n",
       "23     -34.625611 -58.462403        Flores    2.0       1.0        1.0   \n",
       "...           ...        ...           ...    ...       ...        ...   \n",
       "145296 -34.638175 -58.454397        Flores    4.0       3.0        1.0   \n",
       "145332 -34.678970 -58.485073  Villa Lugano    4.0       3.0        2.0   \n",
       "145352 -34.643295 -58.467017        Flores    5.0       3.0        2.0   \n",
       "145368 -34.644531 -58.521780       Liniers    5.0       4.0        3.0   \n",
       "145547 -34.640486 -58.468197        Flores    5.0       3.0        3.0   \n",
       "\n",
       "        surface_total  surface_covered     price property_type  años  \n",
       "11               68.0             59.0  149000.0  Departamento     0  \n",
       "12               50.0             44.0  115000.0  Departamento     0  \n",
       "20               31.0             31.0   75000.0  Departamento     0  \n",
       "22               45.0             45.0   95000.0  Departamento     0  \n",
       "23               45.0             45.0   95000.0  Departamento     0  \n",
       "...               ...              ...       ...           ...   ...  \n",
       "145296          150.0            120.0  200000.0          Casa     1  \n",
       "145332          160.0            140.0  140000.0          Casa     1  \n",
       "145352          230.0            155.0  219000.0          Casa     1  \n",
       "145368          210.0            165.0  328000.0          Casa     1  \n",
       "145547          190.0            155.0  259500.0          Casa     1  \n",
       "\n",
       "[64200 rows x 11 columns]"
      ]
     },
     "execution_count": 303,
     "metadata": {},
     "output_type": "execute_result"
    }
   ],
   "source": [
    "dataset.head(-5)"
   ]
  },
  {
   "cell_type": "code",
   "execution_count": 304,
   "id": "numeric-anthropology",
   "metadata": {},
   "outputs": [
    {
     "data": {
      "text/plain": [
       "0    59931\n",
       "1     4274\n",
       "Name: años, dtype: int64"
      ]
     },
     "execution_count": 304,
     "metadata": {},
     "output_type": "execute_result"
    }
   ],
   "source": [
    "dataset[\"años\"].value_counts().sort_index()"
   ]
  },
  {
   "cell_type": "markdown",
   "id": "micro-customer",
   "metadata": {},
   "source": [
    "Ahora se realizará el mismo procedimiento para el tipo de propiedad."
   ]
  },
  {
   "cell_type": "code",
   "execution_count": 305,
   "id": "grand-debut",
   "metadata": {},
   "outputs": [],
   "source": [
    "Labelencoder= LabelEncoder()\n",
    "Labelencoder.fit(dataset[\"property_type\"])\n",
    "dataset[\"tipo_propiedad\"] = Labelencoder.transform(dataset[\"property_type\"])\n",
    "dataset.drop(\"property_type\",axis=1,inplace=True)"
   ]
  },
  {
   "cell_type": "code",
   "execution_count": 306,
   "id": "altered-fever",
   "metadata": {
    "scrolled": true
   },
   "outputs": [
    {
     "data": {
      "text/plain": [
       "array(['Casa', 'Departamento', 'PH'], dtype=object)"
      ]
     },
     "execution_count": 306,
     "metadata": {},
     "output_type": "execute_result"
    }
   ],
   "source": [
    "Labelencoder.classes_"
   ]
  },
  {
   "cell_type": "code",
   "execution_count": null,
   "id": "decreased-religious",
   "metadata": {},
   "outputs": [],
   "source": [
    "#####"
   ]
  },
  {
   "cell_type": "code",
   "execution_count": 307,
   "id": "purple-croatia",
   "metadata": {},
   "outputs": [
    {
     "data": {
      "text/plain": [
       "array([0, 1, 2])"
      ]
     },
     "execution_count": 307,
     "metadata": {},
     "output_type": "execute_result"
    }
   ],
   "source": [
    "Labelencoder.transform([\"Casa\", \"Departamento\", \"PH\"])"
   ]
  },
  {
   "cell_type": "code",
   "execution_count": 308,
   "id": "established-comfort",
   "metadata": {
    "scrolled": false
   },
   "outputs": [
    {
     "data": {
      "text/html": [
       "<div>\n",
       "<style scoped>\n",
       "    .dataframe tbody tr th:only-of-type {\n",
       "        vertical-align: middle;\n",
       "    }\n",
       "\n",
       "    .dataframe tbody tr th {\n",
       "        vertical-align: top;\n",
       "    }\n",
       "\n",
       "    .dataframe thead th {\n",
       "        text-align: right;\n",
       "    }\n",
       "</style>\n",
       "<table border=\"1\" class=\"dataframe\">\n",
       "  <thead>\n",
       "    <tr style=\"text-align: right;\">\n",
       "      <th></th>\n",
       "      <th>lat</th>\n",
       "      <th>lon</th>\n",
       "      <th>l3</th>\n",
       "      <th>rooms</th>\n",
       "      <th>bedrooms</th>\n",
       "      <th>bathrooms</th>\n",
       "      <th>surface_total</th>\n",
       "      <th>surface_covered</th>\n",
       "      <th>price</th>\n",
       "      <th>años</th>\n",
       "      <th>tipo_propiedad</th>\n",
       "    </tr>\n",
       "  </thead>\n",
       "  <tbody>\n",
       "    <tr>\n",
       "      <th>11</th>\n",
       "      <td>-34.603683</td>\n",
       "      <td>-58.381557</td>\n",
       "      <td>Boedo</td>\n",
       "      <td>2.0</td>\n",
       "      <td>1.0</td>\n",
       "      <td>1.0</td>\n",
       "      <td>68.0</td>\n",
       "      <td>59.0</td>\n",
       "      <td>149000.0</td>\n",
       "      <td>0</td>\n",
       "      <td>1</td>\n",
       "    </tr>\n",
       "    <tr>\n",
       "      <th>12</th>\n",
       "      <td>-34.630349</td>\n",
       "      <td>-58.417223</td>\n",
       "      <td>Boedo</td>\n",
       "      <td>2.0</td>\n",
       "      <td>1.0</td>\n",
       "      <td>1.0</td>\n",
       "      <td>50.0</td>\n",
       "      <td>44.0</td>\n",
       "      <td>115000.0</td>\n",
       "      <td>0</td>\n",
       "      <td>1</td>\n",
       "    </tr>\n",
       "    <tr>\n",
       "      <th>20</th>\n",
       "      <td>-34.608246</td>\n",
       "      <td>-58.444262</td>\n",
       "      <td>Abasto</td>\n",
       "      <td>2.0</td>\n",
       "      <td>1.0</td>\n",
       "      <td>1.0</td>\n",
       "      <td>31.0</td>\n",
       "      <td>31.0</td>\n",
       "      <td>75000.0</td>\n",
       "      <td>0</td>\n",
       "      <td>1</td>\n",
       "    </tr>\n",
       "    <tr>\n",
       "      <th>22</th>\n",
       "      <td>-34.626240</td>\n",
       "      <td>-58.462078</td>\n",
       "      <td>Flores</td>\n",
       "      <td>2.0</td>\n",
       "      <td>1.0</td>\n",
       "      <td>1.0</td>\n",
       "      <td>45.0</td>\n",
       "      <td>45.0</td>\n",
       "      <td>95000.0</td>\n",
       "      <td>0</td>\n",
       "      <td>1</td>\n",
       "    </tr>\n",
       "    <tr>\n",
       "      <th>23</th>\n",
       "      <td>-34.625611</td>\n",
       "      <td>-58.462403</td>\n",
       "      <td>Flores</td>\n",
       "      <td>2.0</td>\n",
       "      <td>1.0</td>\n",
       "      <td>1.0</td>\n",
       "      <td>45.0</td>\n",
       "      <td>45.0</td>\n",
       "      <td>95000.0</td>\n",
       "      <td>0</td>\n",
       "      <td>1</td>\n",
       "    </tr>\n",
       "    <tr>\n",
       "      <th>...</th>\n",
       "      <td>...</td>\n",
       "      <td>...</td>\n",
       "      <td>...</td>\n",
       "      <td>...</td>\n",
       "      <td>...</td>\n",
       "      <td>...</td>\n",
       "      <td>...</td>\n",
       "      <td>...</td>\n",
       "      <td>...</td>\n",
       "      <td>...</td>\n",
       "      <td>...</td>\n",
       "    </tr>\n",
       "    <tr>\n",
       "      <th>145296</th>\n",
       "      <td>-34.638175</td>\n",
       "      <td>-58.454397</td>\n",
       "      <td>Flores</td>\n",
       "      <td>4.0</td>\n",
       "      <td>3.0</td>\n",
       "      <td>1.0</td>\n",
       "      <td>150.0</td>\n",
       "      <td>120.0</td>\n",
       "      <td>200000.0</td>\n",
       "      <td>1</td>\n",
       "      <td>0</td>\n",
       "    </tr>\n",
       "    <tr>\n",
       "      <th>145332</th>\n",
       "      <td>-34.678970</td>\n",
       "      <td>-58.485073</td>\n",
       "      <td>Villa Lugano</td>\n",
       "      <td>4.0</td>\n",
       "      <td>3.0</td>\n",
       "      <td>2.0</td>\n",
       "      <td>160.0</td>\n",
       "      <td>140.0</td>\n",
       "      <td>140000.0</td>\n",
       "      <td>1</td>\n",
       "      <td>0</td>\n",
       "    </tr>\n",
       "    <tr>\n",
       "      <th>145352</th>\n",
       "      <td>-34.643295</td>\n",
       "      <td>-58.467017</td>\n",
       "      <td>Flores</td>\n",
       "      <td>5.0</td>\n",
       "      <td>3.0</td>\n",
       "      <td>2.0</td>\n",
       "      <td>230.0</td>\n",
       "      <td>155.0</td>\n",
       "      <td>219000.0</td>\n",
       "      <td>1</td>\n",
       "      <td>0</td>\n",
       "    </tr>\n",
       "    <tr>\n",
       "      <th>145368</th>\n",
       "      <td>-34.644531</td>\n",
       "      <td>-58.521780</td>\n",
       "      <td>Liniers</td>\n",
       "      <td>5.0</td>\n",
       "      <td>4.0</td>\n",
       "      <td>3.0</td>\n",
       "      <td>210.0</td>\n",
       "      <td>165.0</td>\n",
       "      <td>328000.0</td>\n",
       "      <td>1</td>\n",
       "      <td>0</td>\n",
       "    </tr>\n",
       "    <tr>\n",
       "      <th>145547</th>\n",
       "      <td>-34.640486</td>\n",
       "      <td>-58.468197</td>\n",
       "      <td>Flores</td>\n",
       "      <td>5.0</td>\n",
       "      <td>3.0</td>\n",
       "      <td>3.0</td>\n",
       "      <td>190.0</td>\n",
       "      <td>155.0</td>\n",
       "      <td>259500.0</td>\n",
       "      <td>1</td>\n",
       "      <td>0</td>\n",
       "    </tr>\n",
       "  </tbody>\n",
       "</table>\n",
       "<p>64200 rows × 11 columns</p>\n",
       "</div>"
      ],
      "text/plain": [
       "              lat        lon            l3  rooms  bedrooms  bathrooms  \\\n",
       "11     -34.603683 -58.381557         Boedo    2.0       1.0        1.0   \n",
       "12     -34.630349 -58.417223         Boedo    2.0       1.0        1.0   \n",
       "20     -34.608246 -58.444262        Abasto    2.0       1.0        1.0   \n",
       "22     -34.626240 -58.462078        Flores    2.0       1.0        1.0   \n",
       "23     -34.625611 -58.462403        Flores    2.0       1.0        1.0   \n",
       "...           ...        ...           ...    ...       ...        ...   \n",
       "145296 -34.638175 -58.454397        Flores    4.0       3.0        1.0   \n",
       "145332 -34.678970 -58.485073  Villa Lugano    4.0       3.0        2.0   \n",
       "145352 -34.643295 -58.467017        Flores    5.0       3.0        2.0   \n",
       "145368 -34.644531 -58.521780       Liniers    5.0       4.0        3.0   \n",
       "145547 -34.640486 -58.468197        Flores    5.0       3.0        3.0   \n",
       "\n",
       "        surface_total  surface_covered     price  años  tipo_propiedad  \n",
       "11               68.0             59.0  149000.0     0               1  \n",
       "12               50.0             44.0  115000.0     0               1  \n",
       "20               31.0             31.0   75000.0     0               1  \n",
       "22               45.0             45.0   95000.0     0               1  \n",
       "23               45.0             45.0   95000.0     0               1  \n",
       "...               ...              ...       ...   ...             ...  \n",
       "145296          150.0            120.0  200000.0     1               0  \n",
       "145332          160.0            140.0  140000.0     1               0  \n",
       "145352          230.0            155.0  219000.0     1               0  \n",
       "145368          210.0            165.0  328000.0     1               0  \n",
       "145547          190.0            155.0  259500.0     1               0  \n",
       "\n",
       "[64200 rows x 11 columns]"
      ]
     },
     "execution_count": 308,
     "metadata": {},
     "output_type": "execute_result"
    }
   ],
   "source": [
    "dataset.head(-5)"
   ]
  },
  {
   "cell_type": "code",
   "execution_count": 319,
   "id": "another-basket",
   "metadata": {
    "scrolled": false
   },
   "outputs": [
    {
     "data": {
      "text/plain": [
       "Index(['lat', 'lon', 'l3', 'rooms', 'bedrooms', 'bathrooms', 'surface_total',\n",
       "       'surface_covered', 'price', 'años', 'tipo_propiedad'],\n",
       "      dtype='object')"
      ]
     },
     "execution_count": 319,
     "metadata": {},
     "output_type": "execute_result"
    }
   ],
   "source": [
    "dataset.columns"
   ]
  },
  {
   "cell_type": "markdown",
   "id": "bored-adjustment",
   "metadata": {},
   "source": [
    "Se ordena el dataset"
   ]
  },
  {
   "cell_type": "code",
   "execution_count": 321,
   "id": "honey-thickness",
   "metadata": {},
   "outputs": [],
   "source": [
    "dataset = dataset[['años','lat', 'lon', 'l3', 'rooms', 'bedrooms', 'bathrooms', 'surface_total',\n",
    "       'surface_covered', 'price', 'tipo_propiedad']]"
   ]
  },
  {
   "cell_type": "markdown",
   "id": "systematic-clark",
   "metadata": {},
   "source": [
    "### 1.3 Imputación de valores faltantes"
   ]
  },
  {
   "cell_type": "markdown",
   "id": "irish-berry",
   "metadata": {},
   "source": [
    "Se partirá de una copia del dataset llevado hasta ahora."
   ]
  },
  {
   "cell_type": "code",
   "execution_count": 309,
   "id": "different-status",
   "metadata": {},
   "outputs": [],
   "source": [
    "properaty_copy = dataset.copy()"
   ]
  },
  {
   "cell_type": "code",
   "execution_count": 310,
   "id": "altered-pierre",
   "metadata": {},
   "outputs": [
    {
     "data": {
      "text/plain": [
       "lat                2779\n",
       "lon                2779\n",
       "l3                    0\n",
       "rooms                 0\n",
       "bedrooms              0\n",
       "bathrooms             0\n",
       "surface_total         0\n",
       "surface_covered     383\n",
       "price                 0\n",
       "años                  0\n",
       "tipo_propiedad        0\n",
       "dtype: int64"
      ]
     },
     "execution_count": 310,
     "metadata": {},
     "output_type": "execute_result"
    }
   ],
   "source": [
    "properaty_copy.isnull().sum()"
   ]
  },
  {
   "cell_type": "markdown",
   "id": "saving-glossary",
   "metadata": {},
   "source": [
    "Se observan las columnas lat y lon como las de mayor presencia de valores faltnas, lo que permite concluir que existen propiedades sin registro de ubicación en el dataset. Igualmente la variable superficie cubierta, lo que permite suponer que se tratan de propiedades no construidas (lotes sin ocupar)."
   ]
  },
  {
   "cell_type": "code",
   "execution_count": 311,
   "id": "centered-editing",
   "metadata": {},
   "outputs": [
    {
     "data": {
      "text/html": [
       "<div>\n",
       "<style scoped>\n",
       "    .dataframe tbody tr th:only-of-type {\n",
       "        vertical-align: middle;\n",
       "    }\n",
       "\n",
       "    .dataframe tbody tr th {\n",
       "        vertical-align: top;\n",
       "    }\n",
       "\n",
       "    .dataframe thead th {\n",
       "        text-align: right;\n",
       "    }\n",
       "</style>\n",
       "<table border=\"1\" class=\"dataframe\">\n",
       "  <thead>\n",
       "    <tr style=\"text-align: right;\">\n",
       "      <th></th>\n",
       "      <th>surface_covered</th>\n",
       "    </tr>\n",
       "  </thead>\n",
       "  <tbody>\n",
       "    <tr>\n",
       "      <th>11</th>\n",
       "      <td>59.0</td>\n",
       "    </tr>\n",
       "    <tr>\n",
       "      <th>12</th>\n",
       "      <td>44.0</td>\n",
       "    </tr>\n",
       "    <tr>\n",
       "      <th>20</th>\n",
       "      <td>31.0</td>\n",
       "    </tr>\n",
       "    <tr>\n",
       "      <th>22</th>\n",
       "      <td>45.0</td>\n",
       "    </tr>\n",
       "    <tr>\n",
       "      <th>23</th>\n",
       "      <td>45.0</td>\n",
       "    </tr>\n",
       "  </tbody>\n",
       "</table>\n",
       "</div>"
      ],
      "text/plain": [
       "    surface_covered\n",
       "11             59.0\n",
       "12             44.0\n",
       "20             31.0\n",
       "22             45.0\n",
       "23             45.0"
      ]
     },
     "execution_count": 311,
     "metadata": {},
     "output_type": "execute_result"
    }
   ],
   "source": [
    "X=properaty_copy.drop([\"price\",\"años\",\"lat\",\"lon\",\"tipo_propiedad\",\"l3\",\"rooms\",\"bedrooms\",\n",
    "                       \"bathrooms\",\"surface_total\"],axis=1)\n",
    "y=properaty_copy[\"price\"]\n",
    "X.head()"
   ]
  },
  {
   "cell_type": "markdown",
   "id": "valid-hardware",
   "metadata": {},
   "source": [
    "### 1.3.1 Imputación estadística"
   ]
  },
  {
   "cell_type": "code",
   "execution_count": 312,
   "id": "registered-interval",
   "metadata": {},
   "outputs": [
    {
     "name": "stdout",
     "output_type": "stream",
     "text": [
      "Estrategia usada:  mean\n",
      "RMSE:  51876.569780253056\n",
      "R2: 0.5873198273698087\n",
      "----------------------------------\n",
      "Estrategia usada:  median\n",
      "RMSE:  51877.18736804503\n",
      "R2: 0.587310001440501\n",
      "----------------------------------\n",
      "Estrategia usada:  most_frequent\n",
      "RMSE:  51954.89972346803\n",
      "R2: 0.5860726508885421\n",
      "----------------------------------\n",
      "Estrategia usada:  constant\n",
      "RMSE:  51876.353026822566\n",
      "R2: 0.5873232759268979\n",
      "----------------------------------\n"
     ]
    }
   ],
   "source": [
    "from sklearn import metrics\n",
    "from sklearn.metrics import mean_squared_error\n",
    "\n",
    "tree = DecisionTreeRegressor()\n",
    "result_2 = []\n",
    "rmse = []\n",
    "\n",
    "tipos = ['mean', 'median', 'most_frequent', 'constant']\n",
    "\n",
    "for t in tipos:\n",
    "    imputer=SimpleImputer(strategy=t)\n",
    "    imputer.fit(X)\n",
    "    \n",
    "    X_trans= imputer.transform(X)\n",
    "    \n",
    "    tree = DecisionTreeRegressor(max_depth=10,random_state=42)\n",
    "    tree.fit(X_trans,y)\n",
    "    \n",
    "    y_pred = tree.predict(X_trans)\n",
    "    \n",
    "    r2 = metrics.r2_score(y, y_pred)\n",
    "    RMSE=np.sqrt(mean_squared_error(y,y_pred))\n",
    "    \n",
    "    result_2.append(r2)\n",
    "    rmse.append(RMSE)\n",
    "    print('Estrategia usada: ',t)\n",
    "    print('RMSE: ',RMSE)\n",
    "    print('R2:',r2)\n",
    "    print(\"----------------------------------\")"
   ]
  },
  {
   "cell_type": "markdown",
   "id": "prepared-stuff",
   "metadata": {},
   "source": [
    "Para el caso de imputación estadística, los metodos de mean y constant arrojan los mejores resultados."
   ]
  },
  {
   "cell_type": "markdown",
   "id": "fancy-palestine",
   "metadata": {},
   "source": [
    "### 1.3.2 Imputación con KNN"
   ]
  },
  {
   "cell_type": "code",
   "execution_count": 313,
   "id": "cultural-sugar",
   "metadata": {},
   "outputs": [
    {
     "name": "stdout",
     "output_type": "stream",
     "text": [
      "Vecinos utilizadps:  1\n",
      "RMSE: 51876.569780253056\n",
      "R cuadrado: 0.5873198273698087\n",
      "-----------------------------\n",
      "Vecinos utilizadps:  3\n",
      "RMSE: 51876.569780253056\n",
      "R cuadrado: 0.5873198273698087\n",
      "-----------------------------\n",
      "Vecinos utilizadps:  6\n",
      "RMSE: 51876.569780253056\n",
      "R cuadrado: 0.5873198273698087\n",
      "-----------------------------\n",
      "Vecinos utilizadps:  12\n",
      "RMSE: 51876.569780253056\n",
      "R cuadrado: 0.5873198273698087\n",
      "-----------------------------\n",
      "Vecinos utilizadps:  18\n",
      "RMSE: 51876.569780253056\n",
      "R cuadrado: 0.5873198273698087\n",
      "-----------------------------\n",
      "Vecinos utilizadps:  21\n",
      "RMSE: 51876.569780253056\n",
      "R cuadrado: 0.5873198273698087\n",
      "-----------------------------\n",
      "Vecinos utilizadps:  24\n",
      "RMSE: 51876.569780253056\n",
      "R cuadrado: 0.5873198273698087\n",
      "-----------------------------\n"
     ]
    }
   ],
   "source": [
    "vecinos = [1,3,6,12,18,21,24]\n",
    "for v in vecinos:\n",
    "    \n",
    "    KNN_imputer=KNNImputer(n_neighbors=v)\n",
    "    KNN_imputer.fit(X)\n",
    "    \n",
    "    X_knn= KNN_imputer.transform(X)\n",
    "    \n",
    "    tree = DecisionTreeRegressor(max_depth=10,random_state=42)\n",
    "    tree.fit(X_knn,y)\n",
    "    \n",
    "    y_pred = tree.predict(X_knn)\n",
    "    r2 = metrics.r2_score(y, y_pred)\n",
    "    RMSE=np.sqrt(mean_squared_error(y,y_pred))\n",
    "    \n",
    "    print(\"Vecinos utilizadps: \",v)\n",
    "    print(\"RMSE:\",RMSE)\n",
    "    print(\"R cuadrado:\",r2)\n",
    "    print(\"-----------------------------\")"
   ]
  },
  {
   "cell_type": "markdown",
   "id": "brazilian-conservation",
   "metadata": {},
   "source": [
    "Resultado independientes del número de vecinos."
   ]
  },
  {
   "cell_type": "markdown",
   "id": "metropolitan-cloud",
   "metadata": {},
   "source": [
    "### 1.3.3 Imputación con Iteración"
   ]
  },
  {
   "cell_type": "code",
   "execution_count": 314,
   "id": "tough-isaac",
   "metadata": {},
   "outputs": [
    {
     "name": "stdout",
     "output_type": "stream",
     "text": [
      "Método utilizado: ascending\n",
      "RMSE: 51876.569780253056\n",
      "R cuadrado: 0.5873198273698087\n",
      "----------------------------------\n",
      "Método utilizado: descending\n",
      "RMSE: 51876.569780253056\n",
      "R cuadrado: 0.5873198273698087\n",
      "----------------------------------\n",
      "Método utilizado: roman\n",
      "RMSE: 51876.569780253056\n",
      "R cuadrado: 0.5873198273698087\n",
      "----------------------------------\n",
      "Método utilizado: arabic\n",
      "RMSE: 51876.569780253056\n",
      "R cuadrado: 0.5873198273698087\n",
      "----------------------------------\n",
      "Método utilizado: random\n",
      "RMSE: 51876.569780253056\n",
      "R cuadrado: 0.5873198273698087\n",
      "----------------------------------\n"
     ]
    }
   ],
   "source": [
    "tipos2 = ['ascending', 'descending', 'roman', 'arabic', 'random']\n",
    "\n",
    "for t in tipos2:\n",
    "    iter_imputer=IterativeImputer(imputation_order=t)\n",
    "    iter_imputer.fit(X)\n",
    "    \n",
    "    X_iter= iter_imputer.transform(X)\n",
    "    tree = DecisionTreeRegressor(max_depth=10,random_state=42)\n",
    "    tree.fit(X_iter,y)\n",
    "    \n",
    "    y_pred = tree.predict(X_iter)\n",
    "    r2 = metrics.r2_score(y, y_pred)\n",
    "    RMSE=np.sqrt(mean_squared_error(y,y_pred))\n",
    "\n",
    "    print(\"Método utilizado:\",t)\n",
    "    print(\"RMSE:\",RMSE)\n",
    "    print(\"R cuadrado:\",r2)\n",
    "    print(\"----------------------------------\")"
   ]
  },
  {
   "cell_type": "markdown",
   "id": "formal-liberal",
   "metadata": {},
   "source": [
    "**Conclusión:** Para el caso de solo tener una columna con valores faltantes, los métodos explorados no generan grandes cambios. Para efectos del proyecto se utilizará la imputación con KNN por interés de los cientificos de datos."
   ]
  },
  {
   "cell_type": "code",
   "execution_count": 322,
   "id": "placed-edgar",
   "metadata": {},
   "outputs": [
    {
     "data": {
      "text/plain": [
       "años                  0\n",
       "lat                2779\n",
       "lon                   0\n",
       "l3                    0\n",
       "rooms                 0\n",
       "bedrooms              0\n",
       "bathrooms             0\n",
       "surface_total         0\n",
       "surface_covered     383\n",
       "price                 0\n",
       "tipo_propiedad        0\n",
       "dtype: int64"
      ]
     },
     "execution_count": 322,
     "metadata": {},
     "output_type": "execute_result"
    }
   ],
   "source": [
    "dataset.isnull().sum()"
   ]
  },
  {
   "cell_type": "code",
   "execution_count": 324,
   "id": "breeding-digit",
   "metadata": {},
   "outputs": [],
   "source": [
    "KNN_imputer=KNNImputer(n_neighbors=6)\n",
    "KNN_imputer=KNN_imputer.fit(dataset.iloc[:,6:9])\n",
    "dataset.iloc[:,6:9]=KNN_imputer.transform(dataset.iloc[:,6:9])"
   ]
  },
  {
   "cell_type": "code",
   "execution_count": 325,
   "id": "finite-federation",
   "metadata": {},
   "outputs": [],
   "source": [
    "KNN_imputer=KNNImputer(n_neighbors=6)\n",
    "KNN_imputer=KNN_imputer.fit(dataset.iloc[:,1:3])\n",
    "dataset.iloc[:,1:3]=KNN_imputer.transform(dataset.iloc[:,1:3])"
   ]
  },
  {
   "cell_type": "code",
   "execution_count": 326,
   "id": "democratic-satisfaction",
   "metadata": {},
   "outputs": [
    {
     "data": {
      "text/plain": [
       "años               0\n",
       "lat                0\n",
       "lon                0\n",
       "l3                 0\n",
       "rooms              0\n",
       "bedrooms           0\n",
       "bathrooms          0\n",
       "surface_total      0\n",
       "surface_covered    0\n",
       "price              0\n",
       "tipo_propiedad     0\n",
       "dtype: int64"
      ]
     },
     "execution_count": 326,
     "metadata": {},
     "output_type": "execute_result"
    }
   ],
   "source": [
    "dataset.isnull().sum()"
   ]
  },
  {
   "cell_type": "markdown",
   "id": "sunset-fourth",
   "metadata": {},
   "source": [
    "### 1.4 Escalado de datos"
   ]
  },
  {
   "cell_type": "code",
   "execution_count": 327,
   "id": "needed-grass",
   "metadata": {},
   "outputs": [],
   "source": [
    "from sklearn import preprocessing"
   ]
  },
  {
   "cell_type": "code",
   "execution_count": 329,
   "id": "wireless-title",
   "metadata": {},
   "outputs": [],
   "source": [
    "properati_df = dataset.copy()\n",
    "X = properati_df.drop(\"price\",axis=1)\n",
    "y = properati_df[\"price\"]"
   ]
  },
  {
   "cell_type": "code",
   "execution_count": 330,
   "id": "light-working",
   "metadata": {},
   "outputs": [],
   "source": [
    "robust_sc = preprocessing.RobustScaler()\n",
    "standard_sc = preprocessing.StandardScaler() \n",
    "minmax_sc = preprocessing.MinMaxScaler() "
   ]
  },
  {
   "cell_type": "code",
   "execution_count": 332,
   "id": "japanese-clothing",
   "metadata": {},
   "outputs": [
    {
     "name": "stdout",
     "output_type": "stream",
     "text": [
      "Escalado usado:  RobustScaler()\n",
      "RMSE: 33893.66895667504\n",
      "R cuadrado:  0.8238396084402335\n",
      "----------------------------------------\n",
      "Escalado usado:  StandardScaler()\n",
      "RMSE: 33893.66895667504\n",
      "R cuadrado:  0.8238396084402335\n",
      "----------------------------------------\n",
      "Escalado usado:  MinMaxScaler()\n",
      "RMSE: 33893.66895667504\n",
      "R cuadrado:  0.8238396084402335\n",
      "----------------------------------------\n"
     ]
    }
   ],
   "source": [
    "for x in [robust_sc,standard_sc,minmax_sc]:\n",
    "    scaler = x.fit(X)\n",
    "    X_new = x.transform(X)\n",
    "    \n",
    "    tree = DecisionTreeRegressor(max_depth=10,random_state=42)\n",
    "    tree.fit(X_new,y)\n",
    "    \n",
    "    y_pred = tree.predict(X_new)\n",
    "    r2 = metrics.r2_score(y, y_pred)\n",
    "    RMSE=np.sqrt(mean_squared_error(y,y_pred))\n",
    "    \n",
    "    print(\"Escalado usado: \",x)\n",
    "    print(\"RMSE:\",RMSE)\n",
    "    print(\"R cuadrado: \", r2)\n",
    "    print(\"----------------------------------------\")"
   ]
  },
  {
   "cell_type": "code",
   "execution_count": null,
   "id": "automotive-berkeley",
   "metadata": {},
   "outputs": [],
   "source": []
  }
 ],
 "metadata": {
  "kernelspec": {
   "display_name": "Python 3",
   "language": "python",
   "name": "python3"
  },
  "language_info": {
   "codemirror_mode": {
    "name": "ipython",
    "version": 3
   },
   "file_extension": ".py",
   "mimetype": "text/x-python",
   "name": "python",
   "nbconvert_exporter": "python",
   "pygments_lexer": "ipython3",
   "version": "3.8.8"
  }
 },
 "nbformat": 4,
 "nbformat_minor": 5
}
